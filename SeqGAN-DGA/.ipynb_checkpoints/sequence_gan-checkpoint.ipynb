{
 "cells": [
  {
   "cell_type": "code",
   "execution_count": null,
   "metadata": {
    "collapsed": true
   },
   "outputs": [],
   "source": [
    "import numpy as np\n",
    "import tensorflow as tf\n",
    "import random\n",
    "import time\n",
    "from dataloader import Gen_Data_loader, Dis_dataloader\n",
    "from generator import Generator\n",
    "from discriminator import Discriminator\n",
    "from rollout import ROLLOUT\n",
    "#from target_lstm import TARGET_LSTM\n",
    "#import domain_translate\n",
    "import pickle"
   ]
  },
  {
   "cell_type": "code",
   "execution_count": null,
   "metadata": {
    "collapsed": true
   },
   "outputs": [],
   "source": [
    "#########################################################################################\n",
    "#  Generator  Hyper-parameters\n",
    "######################################################################################\n",
    "EMB_DIM = 32 # embedding dimension\n",
    "HIDDEN_DIM = 32 # hidden state dimension of lstm cell\n",
    "SEQ_LENGTH = 32 # sequence length\n",
    "START_TOKEN = 0\n",
    "PRE_EPOCH_NUM = 120 # supervise (maximum likelihood estimation) epochs (預設為120)\n",
    "SEED = 88\n",
    "BATCH_SIZE = 64"
   ]
  },
  {
   "cell_type": "code",
   "execution_count": null,
   "metadata": {
    "collapsed": true
   },
   "outputs": [],
   "source": [
    "#########################################################################################\n",
    "#  Discriminator  Hyper-parameters\n",
    "#########################################################################################\n",
    "dis_embedding_dim = 64\n",
    "dis_filter_sizes = [1, 2, 3, 4, 5, 6, 7, 8, 9, 10, 15, 20]\n",
    "dis_num_filters = [100, 200, 200, 200, 200, 100, 100, 100, 100, 100, 160, 160]\n",
    "dis_dropout_keep_prob = 0.75\n",
    "dis_l2_reg_lambda = 0.2\n",
    "dis_batch_size = 64\n",
    "PRETRAIN_DIS_NUM = 50 #pre-train discriminator times"
   ]
  },
  {
   "cell_type": "code",
   "execution_count": null,
   "metadata": {
    "collapsed": true
   },
   "outputs": [],
   "source": [
    "#########################################################################################\n",
    "#  Basic Training Parameters\n",
    "#########################################################################################\n",
    "TOTAL_BATCH = 200\n",
    "positive_file = ('../Dataset/AlexaTop100K_Separated_Digital/'\n",
    "                  +'TopDomainName.Less33.Separated.Digital-ALL-OF-100000.txt') # 預設值為 'save/real_data.txt'\n",
    "output_path = 'save/' #預設值為 'save/generator_sample.txt' 更改為會更變\n",
    "#eval_file = 'save/eval_file.txt'\n",
    "generated_num = 10000"
   ]
  },
  {
   "cell_type": "code",
   "execution_count": null,
   "metadata": {
    "collapsed": true
   },
   "outputs": [],
   "source": [
    "def generate_samples(sess, trainable_model, batch_size, generated_num, output_file):\n",
    "    Digit2Real = False\n",
    "    # Generate Samples\n",
    "    generated_samples = []\n",
    "    for _ in range(int(generated_num / batch_size)):\n",
    "        generated_samples.extend(trainable_model.generate(sess))\n",
    "\n",
    "    with open(output_file, 'w') as fout:\n",
    "        for poem in generated_samples:\n",
    "            buffer = ' '.join([str(x) for x in poem]) + '\\n'\n",
    "            fout.write(buffer)\n",
    "            \n",
    "    if \"adversarial_gen\" in output_file:\n",
    "        now=output_file[37:]\n",
    "        output_file=\"save/adversarial_gen/generator_fake_domain_name_\"+now\n",
    "        Digit2Real = True\n",
    "    elif \"pretrain_gen\" in output_file:\n",
    "        now=output_file[34:]\n",
    "        output_file=\"save/pretrain_gen/generator_fake_domain_name_\"+now\n",
    "        Digit2Real = True\n",
    "    \n",
    "    if Digit2Real == True :\n",
    "        digital_table = [\" \",\"0\",\"1\",\"2\",\"3\",\"4\",\"5\",\"6\",\"7\",\"8\",\"9\",\".\",\"-\",\n",
    "                            \"a\",\"b\",\"c\",\"d\",\"e\",\"f\",\"g\",\"h\",\"i\",\"j\",\"k\",\"l\",\"m\",\n",
    "                            \"n\",\"o\",\"p\",\"q\",\"r\",\"s\",\"t\",\"u\",\"v\",\"w\",\"x\",\"y\",\"z\",\"_\"]    \n",
    "        with open(output_file, 'w') as fout:\n",
    "            for poem in generated_samples:\n",
    "                buffer = \"\".join([digital_table[int(x)] for x in poem]) + '\\n'\n",
    "                fout.write(buffer)                    "
   ]
  },
  {
   "cell_type": "code",
   "execution_count": null,
   "metadata": {
    "collapsed": true
   },
   "outputs": [],
   "source": [
    "def target_loss(sess, target_lstm, data_loader):\n",
    "    # target_loss means the oracle negative log-likelihood tested with the oracle model \"target_lstm\"\n",
    "    # For more details, please see the Section 4 in https://arxiv.org/abs/1609.05473\n",
    "    nll = []\n",
    "    data_loader.reset_pointer()\n",
    "\n",
    "    for it in range(data_loader.num_batch):\n",
    "        batch = data_loader.next_batch()\n",
    "        #print(target_lstm.pretrain_loss)\n",
    "        #print({target_lstm.x: batch})\n",
    "        g_loss = sess.run(target_lstm.pretrain_loss, {target_lstm.x: batch})\n",
    "        nll.append(g_loss)\n",
    "\n",
    "    return np.mean(nll)"
   ]
  },
  {
   "cell_type": "code",
   "execution_count": null,
   "metadata": {
    "collapsed": true
   },
   "outputs": [],
   "source": [
    "def pre_train_epoch(sess, trainable_model, data_loader):\n",
    "    # Pre-train the generator using MLE for one epoch\n",
    "    supervised_g_losses = []\n",
    "    data_loader.reset_pointer()\n",
    "    \n",
    "    for it in range(data_loader.num_batch):\n",
    "    #for it in range(50):\n",
    "        #print(\"pre_train\"+str(it))\n",
    "        if it % int(data_loader.num_batch / 30) == 0:\n",
    "            print(\"pre_train_iteration : {0:6} / {1:6}\".format( (it+1), (data_loader.num_batch) ), end=\"\\r\")\n",
    "        batch = data_loader.next_batch()\n",
    "        _, g_loss = trainable_model.pretrain_step(sess, batch)\n",
    "        supervised_g_losses.append(g_loss)\n",
    "\n",
    "    return np.mean(supervised_g_losses)"
   ]
  },
  {
   "cell_type": "code",
   "execution_count": null,
   "metadata": {
    "collapsed": true
   },
   "outputs": [],
   "source": [
    "random.seed(SEED)\n",
    "np.random.seed(SEED)\n",
    "assert START_TOKEN == 0\n",
    "\n",
    "gen_data_loader = Gen_Data_loader(BATCH_SIZE)\n",
    "likelihood_data_loader = Gen_Data_loader(BATCH_SIZE) # For testing\n",
    "vocab_size = 40 #預設5000 \n",
    "dis_data_loader = Dis_dataloader(BATCH_SIZE)\n",
    "\n",
    "generator = Generator(vocab_size, BATCH_SIZE, EMB_DIM, HIDDEN_DIM, SEQ_LENGTH, START_TOKEN)\n",
    "#target_params = pickle.load(open('save/target_params_py3.pkl','rb'))\n",
    "#target_lstm = TARGET_LSTM(vocab_size, BATCH_SIZE, EMB_DIM, HIDDEN_DIM, SEQ_LENGTH, START_TOKEN, target_params) # The oracle model\n",
    "\n",
    "discriminator = Discriminator(sequence_length=32, num_classes=2, vocab_size=vocab_size, embedding_size=dis_embedding_dim, \n",
    "                            filter_sizes=dis_filter_sizes, num_filters=dis_num_filters, l2_reg_lambda=dis_l2_reg_lambda)"
   ]
  },
  {
   "cell_type": "code",
   "execution_count": null,
   "metadata": {
    "collapsed": true
   },
   "outputs": [],
   "source": [
    "# 參數配置\n",
    "config = tf.ConfigProto()\n",
    "# 使用allow_growth option，剛一開始分配少量的GPU容量，然後按需慢慢的增加\n",
    "config.gpu_options.allow_growth = True\n",
    "sess = tf.Session(config=config)\n",
    "sess.run(tf.global_variables_initializer())"
   ]
  },
  {
   "cell_type": "code",
   "execution_count": null,
   "metadata": {
    "scrolled": true
   },
   "outputs": [],
   "source": [
    "# First, use the oracle model to provide the positive examples, which are sampled from the oracle data distribution\n",
    "#generate_samples(sess, target_lstm, BATCH_SIZE, generated_num, positive_file)\n",
    "gen_data_loader.create_batches(positive_file)\n",
    "\n",
    "log = open('save/experiment-log.txt', 'w')\n",
    "#  pre-train generator\n",
    "print('Start pre-training...')\n",
    "log.write('pre-training...\\n')\n",
    "now_time = time.clock()\n",
    "sum_time = 0.\n",
    "for epoch in range(PRE_EPOCH_NUM):\n",
    "    loss = pre_train_epoch(sess, generator, gen_data_loader)    \n",
    "    \n",
    "    eval_file = ( output_path + \"pretrain_gen/generator_digit_{0}.txt\").format(str(epoch+1).zfill(2))\n",
    "    generate_samples(sess, generator, BATCH_SIZE, generated_num, eval_file)\n",
    "    likelihood_data_loader.create_batches(eval_file)\n",
    "    \n",
    "    '''test_loss = target_loss(sess, target_lstm, likelihood_data_loader)\n",
    "    print('pre-train epoch ', epoch, 'test_loss ', test_loss)\n",
    "    buffer = 'epoch:\\t'+ str(epoch) + '\\tnll:\\t' + str(test_loss) + '\\n'\n",
    "    log.write(buffer)'''\n",
    "    after_time=time.clock() - now_time\n",
    "    eta_time = (after_time / (epoch+1) )*(PRE_EPOCH_NUM-(epoch+1))\n",
    "    print(\"[MLE Epoch]: {0:5} [Cost Time]: {1:10.2f} secs [ETA]: {2:10.2f} secs\".format( (epoch+1), after_time, eta_time))"
   ]
  },
  {
   "cell_type": "code",
   "execution_count": null,
   "metadata": {
    "scrolled": false
   },
   "outputs": [],
   "source": [
    "print('Start pre-training discriminator...')\n",
    "# Train 3 epoch on the generated data and do this for 50 times\n",
    "now_time = time.clock()\n",
    "sum_time = 0.\n",
    "pre_D_epoch = 0\n",
    "for _ in range(PRETRAIN_DIS_NUM): #50\n",
    "    pretrain_D = ( output_path + \"pretrain_discriminator.txt\")\n",
    "    generate_samples(sess, generator, BATCH_SIZE, generated_num, pretrain_D)\n",
    "    dis_data_loader.load_train_data(positive_file, pretrain_D)\n",
    "    for _ in range(3):\n",
    "        dis_data_loader.reset_pointer()\n",
    "        for it in range(dis_data_loader.num_batch):\n",
    "            if it % int(dis_data_loader.num_batch / 30) == 0:\n",
    "                print(\"pre_train_iteration : {0:6} / {1:6}\".format( (it+1), (dis_data_loader.num_batch) ), end=\"\\r\")\n",
    "            x_batch, y_batch = dis_data_loader.next_batch()\n",
    "            feed = {\n",
    "                discriminator.input_x: x_batch,\n",
    "                discriminator.input_y: y_batch,\n",
    "                discriminator.dropout_keep_prob: dis_dropout_keep_prob\n",
    "            }\n",
    "            _ = sess.run(discriminator.train_op, feed)\n",
    "    after_time=time.clock() - now_time\n",
    "    eta_time = (after_time / (pre_D_epoch+1) )*(PRETRAIN_DIS_NUM-(pre_D_epoch+1))\n",
    "    print(\"[Pre-train Discriminator Epoch]: {0:5} [Cost Time]: {1:10.2f} secs [ETA]: {2:10.2f} secs\".format( (pre_D_epoch+1), after_time, eta_time))\n",
    "    pre_D_epoch = pre_D_epoch +1\n",
    "\n",
    "rollout = ROLLOUT(generator, 0.8)"
   ]
  },
  {
   "cell_type": "code",
   "execution_count": null,
   "metadata": {
    "scrolled": true
   },
   "outputs": [],
   "source": [
    "print('#########################################################################')\n",
    "print('Start Adversarial Training...')\n",
    "log.write('adversarial training...\\n')\n",
    "now_time = time.clock()\n",
    "sum_time = 0.\n",
    "for total_batch in range(TOTAL_BATCH):\n",
    "    # Train the generator for one step\n",
    "    for it in range(1):\n",
    "        samples = generator.generate(sess)\n",
    "        rewards = rollout.get_reward(sess, samples, 16, discriminator)\n",
    "        feed = {generator.x: samples, generator.rewards: rewards}\n",
    "        _ = sess.run(generator.g_updates, feed_dict=feed)\n",
    "\n",
    "    # Test\n",
    "    '''if total_batch % 5 == 0 or total_batch == TOTAL_BATCH - 1:\n",
    "        generate_samples(sess, generator, BATCH_SIZE, generated_num, eval_file)\n",
    "        likelihood_data_loader.create_batches(eval_file)\n",
    "        #print(total_batch)        \n",
    "        test_loss = target_loss(sess, target_lstm, likelihood_data_loader)\n",
    "        buffer = 'epoch:\\t' + str(total_batch) + '\\tnll:\\t' + str(test_loss) + '\\n'\n",
    "        print('total_batch: ', total_batch, 'test_loss: ', test_loss)\n",
    "        log.write(buffer)'''\n",
    "\n",
    "    # Update roll-out parameters\n",
    "    rollout.update_params()\n",
    "\n",
    "    # Train the discriminator\n",
    "    for _ in range(5): #default value=range(5)\n",
    "        adversarial_D = ( output_path + \"adversarial_gen/generator_digit_{0}.txt\").format(str(total_batch+1).zfill(3))\n",
    "        generate_samples(sess, generator, BATCH_SIZE, generated_num, adversarial_D)\n",
    "        dis_data_loader.load_train_data(positive_file, adversarial_D)\n",
    "        \n",
    "        for _ in range(3): #default value=range(3)\n",
    "            dis_data_loader.reset_pointer()\n",
    "            for it in range(dis_data_loader.num_batch):\n",
    "                if it % int(dis_data_loader.num_batch / 30) == 0:\n",
    "                    print(\"Discriminator Epoch {0:5} iteration: {1:6} / {2:6}\".format( (total_batch+1), (it+1), (dis_data_loader.num_batch) ), end=\"\\r\")\n",
    "                x_batch, y_batch = dis_data_loader.next_batch()\n",
    "                feed = {\n",
    "                    discriminator.input_x: x_batch,\n",
    "                    discriminator.input_y: y_batch,\n",
    "                    discriminator.dropout_keep_prob: dis_dropout_keep_prob\n",
    "                }\n",
    "                _ = sess.run(discriminator.train_op, feed)\n",
    "                \n",
    "    after_time=time.clock() - now_time\n",
    "    eta_time = (after_time / (total_batch+1) )*(TOTAL_BATCH-(total_batch+1))\n",
    "    print(\"[GAN Epoch]: {0:5} [Cost Time]: {1:10.2f} secs [ETA]: {2:10.2f} secs\".format( (total_batch+1), after_time, eta_time))\n",
    "    \n",
    "log.close()"
   ]
  },
  {
   "cell_type": "code",
   "execution_count": null,
   "metadata": {
    "collapsed": true
   },
   "outputs": [],
   "source": []
  }
 ],
 "metadata": {
  "kernelspec": {
   "display_name": "Python 3",
   "language": "python",
   "name": "python3"
  },
  "language_info": {
   "codemirror_mode": {
    "name": "ipython",
    "version": 3
   },
   "file_extension": ".py",
   "mimetype": "text/x-python",
   "name": "python",
   "nbconvert_exporter": "python",
   "pygments_lexer": "ipython3",
   "version": "3.5.4"
  }
 },
 "nbformat": 4,
 "nbformat_minor": 2
}
