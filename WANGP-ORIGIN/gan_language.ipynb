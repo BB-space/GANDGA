{
 "cells": [
  {
   "cell_type": "code",
   "execution_count": 1,
   "metadata": {
    "collapsed": true
   },
   "outputs": [],
   "source": [
    "import os, sys\n",
    "sys.path.append(os.getcwd())\n",
    "\n",
    "import time\n",
    "\n",
    "import numpy as np\n",
    "import tensorflow as tf\n",
    "\n",
    "import language_helpers\n",
    "import tflib as lib\n",
    "import tflib.ops.linear\n",
    "import tflib.ops.conv1d\n",
    "import tflib.plot"
   ]
  },
  {
   "cell_type": "code",
   "execution_count": 2,
   "metadata": {
    "collapsed": true
   },
   "outputs": [],
   "source": [
    "# Download Google Billion Word at http://www.statmt.org/lm-benchmark/ and\n",
    "# fill in the path to the extracted files here!\n",
    "DATA_DIR = '../../improved_wgan_training/input_data'\n",
    "if len(DATA_DIR) == 0:\n",
    "    raise Exception(\"Please specify path to data directory in gan_language.py!\")\n",
    "\n",
    "BATCH_SIZE = 64 # Batch size\n",
    "ITERS = 10000 # How many iterations to train for  default = 200000\n",
    "SEQ_LEN = 32 # Sequence length in characters\n",
    "DIM = 512 # Model dimensionality. This is fairly slow and overfits, even on\n",
    "          # Billion Word. Consider decreasing for smaller datasets.\n",
    "CRITIC_ITERS = 10 # How many critic iterations per generator iteration. We\n",
    "                  # use 10 for the results in the paper, but 5 should work fine\n",
    "                  # as well.\n",
    "LAMBDA = 10 # Gradient penalty lambda hyperparameter.\n",
    "MAX_N_EXAMPLES = 1000000 # Max number of data examples to load. If data loading\n",
    "                          # is too slow or takes too much RAM, you can decrease\n",
    "                          # this (at the expense of having less training data). default = 10000000"
   ]
  },
  {
   "cell_type": "code",
   "execution_count": 3,
   "metadata": {
    "scrolled": true
   },
   "outputs": [
    {
     "name": "stdout",
     "output_type": "stream",
     "text": [
      "Uppercase local vars:\n",
      "\tBATCH_SIZE: 64\n",
      "\tCRITIC_ITERS: 10\n",
      "\tDATA_DIR: ../../improved_wgan_training/input_data\n",
      "\tDIM: 512\n",
      "\tITERS: 10000\n",
      "\tLAMBDA: 10\n",
      "\tMAX_N_EXAMPLES: 1000000\n",
      "\tSEQ_LEN: 32\n",
      "loading dataset...\n",
      "('T', 'h', 'e', ' ', 'F', 'T', 'S', 'E', ' ', '1', '0', '0', ' ', 'w', 'a', 's', ' ', '1', ' ', 'p', 'e', 'r', ' ', 'c', 'e', 'n', 't', ' ', 'h', 'i', 'g', 'h')\n",
      "('T', 'h', 'e', ' ', 'p', 'r', 'a', 'c', 't', 'i', 'c', 'e', ' ', 'c', 'a', 'm', 'e', ' ', 't', 'o', ' ', 'l', 'i', 'g', 'h', 't', ' ', 'l', 'a', 't', 'e', ' ')\n",
      "('W', 'A', 'S', 'H', 'I', 'N', 'G', 'T', 'O', 'N', ' ', '-', '-', ' ', 'T', 'h', 'e', ' ', 'g', 'o', 'v', 'e', 'r', 'n', 'm', 'e', 'n', 't', ' ', 'o', 'f', ' ')\n",
      "('S', 'i', 'c', 'k', 'l', 'e', ' ', 'c', 'e', 'l', 'l', ' ', ':', ' ', 'A', ' ', 'v', 'i', 'c', 't', 'i', 'm', ' ', 'o', 'f', ' ', 'b', 'i', 'g', 'o', 't', 'r')\n",
      "('B', 'u', 't', ' ', 'I', ' ', 'd', 'i', 'd', ' ', 'l', 'e', 'a', 'r', 'n', ' ', 'a', ' ', 'h', 'e', 'l', 'l', ' ', 'o', 'f', ' ', 'a', ' ', 'l', 'o', 't', ' ')\n",
      "('T', 'h', 'e', ' ', 'y', 'u', 'a', 'n', ' ', 'r', 'o', 's', 'e', ' ', 'i', 'n', ' ', 'v', 'a', 'l', 'u', 'e', ' ', 'b', 'y', ' ', '2', '1', ' ', '%', ' ', 'o')\n",
      "('M', 'a', 'r', 'k', ' ', 'W', 'o', 'r', 'k', 'e', 'n', 't', 'i', 'n', 'e', ' ', \"'\", 's', ' ', 'h', 'o', 'r', 'r', 'i', 'f', 'i', 'c', ' ', ',', ' ', 'y', 'o')\n",
      "('T', 'h', 'e', ' ', '£', ' ', '1', '4', '0', 'm', ' ', 'P', 'r', 'e', 'v', 'e', 'n', 't', ' ', 'p', 'r', 'o', 'g', 'r', 'a', 'm', 'm', 'e', ' ', 'i', 'n', 'v')\n",
      "('B', 'r', 'y', 'a', 'n', 't', ' ', 's', 'a', 'y', 's', ' ', ',', ' ', '\"', ' ', 'N', 'o', ' ', ',', ' ', 'I', ' ', 'm', 'e', 'a', 'n', 't', ' ', 't', 'o', ' ')\n",
      "('I', ' ', 'f', 'e', 'e', 'l', ' ', 't', 'h', 'a', 't', ' ', \"'\", 's', ' ', 't', 'h', 'e', ' ', 'r', 'i', 'g', 'h', 't', ' ', 'w', 'a', 'y', ' ', 't', 'o', ' ')\n",
      "('T', 'h', 'e', ' ', 'p', 'a', 'i', 'n', 't', 'i', 'n', 'g', ' ', 'w', 'a', 's', ' ', 'i', 'n', 'v', 'e', 's', 't', 'i', 'g', 'a', 't', 'e', 'd', ' ', 'i', 'n')\n",
      "('O', 'n', ' ', 'i', 't', 's', ' ', 'W', 'e', 'b', ' ', 's', 'i', 't', 'e', ' ', ',', ' ', 'a', 'm', 'e', 'r', 'i', 'c', 'a', 'n', 'h', 'u', 'm', 'a', 'n', 'e')\n",
      "('T', 'h', 'e', ' ', 'o', 'f', 'f', 'i', 'c', 'i', 'a', 'l', ' ', ',', ' ', 'w', 'h', 'o', ' ', 's', 'p', 'o', 'k', 'e', ' ', 't', 'o', ' ', 'T', 'h', 'e', ' ')\n",
      "('B', 'u', 't', ' ', 'i', 't', ' ', 'w', 'a', 's', ' ', 'C', 'e', 'c', 'i', 'l', ' ', 'B', '.', ' ', 'D', 'e', 'M', 'i', 'l', 'l', 'e', ' ', 'w', 'h', 'o', ' ')\n",
      "('B', 'l', 'a', 'i', 'r', ' ', 'e', 'x', 'p', 'l', 'a', 'i', 'n', 'e', 'd', ' ', 't', 'h', 'a', 't', ' ', 't', 'h', 'e', ' ', 's', 'i', 'n', 'g', 'l', 'e', ' ')\n",
      "('Y', 'e', 't', ' ', 'R', 'u', 's', 's', 'i', 'a', ' ', '\"', ' ', 'g', 'a', 'i', 'n', 's', ' ', 'n', 'o', ' ', 'a', 'd', 'v', 'a', 'n', 't', 'a', 'g', 'e', ' ')\n",
      "('A', 'n', 'd', ' ', 's', 'o', ' ', 'w', 'e', ' ', \"'\", 'v', 'e', ' ', 'g', 'o', 't', ' ', '-', '-', ' ', 'a', 'n', 'd', ' ', 't', 'h', 'i', 's', ' ', 'i', 's')\n",
      "('E', 'v', 'a', 'c', 'u', 'a', 't', 'i', 'o', 'n', 's', ' ', 'w', 'e', 'r', 'e', ' ', 'b', 'e', 'i', 'n', 'g', ' ', 'c', 'o', 'n', 's', 'i', 'd', 'e', 'r', 'e')\n",
      "('I', 't', ' ', \"'\", 's', ' ', 'b', 'y', ' ', 'w', 'h', 'o', 'm', ' ', '.', '`', '`', '`', '`', '`', '`', '`', '`', '`', '`', '`', '`', '`', '`', '`', '`', '`')\n",
      "('H', 'e', ' ', 'l', 'e', 'f', 't', ' ', 'F', 'r', 'i', 'd', 'a', 'y', ' ', 'm', 'o', 'r', 'n', 'i', 'n', 'g', ' ', 'a', 'n', 'd', ' ', 'f', 'l', 'e', 'w', ' ')\n",
      "('T', 'h', 'e', ' ', 'E', 'u', 'r', 'o', 'p', 'e', 'a', 'n', ' ', 'U', 'n', 'i', 'o', 'n', ' ', 'h', 'a', 's', ' ', 'a', 'l', 's', 'o', ' ', 'b', 'a', 'r', 'r')\n",
      "('V', 'i', 'd', 'e', 'o', 's', ' ', 'a', 'n', 'd', ' ', 'd', 'i', 'g', 'i', 't', 'a', 'l', ' ', 's', 'i', 'g', 'n', 's', ' ', 'i', 'n', 's', 't', 'r', 'u', 'c')\n",
      "('\"', ' ', 'I', 't', ' ', 'i', 's', ' ', 'y', 'o', 'u', 'r', ' ', 'h', 'o', 'm', 'e', ' ', 'f', 'o', 'r', 'm', ' ', 't', 'h', 'a', 't', ' ', 's', 'e', 'e', 's')\n",
      "('H', 'o', 'w', 'e', 'v', 'e', 'r', ' ', ',', ' ', 'i', 'f', ' ', 't', 'h', 'a', 't', ' ', 'w', 'e', 'r', 'e', ' ', 't', 'o', ' ', 'h', 'a', 'p', 'p', 'e', 'n')\n",
      "('\"', ' ', 'I', 't', ' ', 'w', 'a', 's', ' ', 'a', ' ', 'd', 'e', 'l', 'i', 'b', 'e', 'r', 'a', 't', 'e', ' ', 'a', 'n', 'd', ' ', 'i', 'l', 'l', 'e', 'g', 'a')\n",
      "('T', 'h', 'e', ' ', 'n', 'u', 'm', 'b', 'e', 'r', ' ', 'o', 'f', ' ', 'p', 'e', 'o', 'p', 'l', 'e', ' ', 'i', 'n', 'v', 'o', 'l', 'v', 'e', 'd', ' ', 'a', 'n')\n",
      "('\"', ' ', 'W', 'e', ' ', 'a', 'r', 'e', ' ', 'w', 'o', 'r', 'k', 'i', 'n', 'g', ' ', 'c', 'l', 'o', 's', 'e', 'l', 'y', ' ', 'w', 'i', 't', 'h', ' ', 'L', 'o')\n",
      "('T', 'h', 'e', ' ', 'e', 'm', 'e', 'r', 'g', 'e', 'n', 'c', 'y', ' ', 'f', 'u', 'n', 'd', 'i', 'n', 'g', ' ', 'g', 'i', 'v', 'e', 'n', ' ', 't', 'o', ' ', 'B')\n",
      "('T', 'h', 'o', 's', 'e', ' ', 'f', 'i', 'g', 'u', 'r', 'e', 's', ' ', 'm', 'a', 'r', 'k', 'e', 'd', ' ', 'a', ' ', 't', 'u', 'r', 'n', 'a', 'r', 'o', 'u', 'n')\n",
      "('W', 'h', 'a', 't', ' ', 'b', 'e', 't', 't', 'e', 'r', ' ', 's', 't', 'o', 'r', 'y', ' ', 'f', 'o', 'r', ' ', 'a', ' ', 't', 'i', 'm', 'e', ' ', 'o', 'f', ' ')\n",
      "('T', 'h', 'e', 's', 'e', ' ', 'C', 'o', 'm', 'p', 'a', 'n', 'y', 's', ' ', 'h', 'a', 'v', 'e', ' ', 'f', 'o', 'u', 'g', 'h', 't', ' ', 'a', 'n', 'd', ' ', 's')\n",
      "('T', 'h', 'e', ' ', 'c', 'a', 'n', 'd', 'i', 'd', 'a', 't', 'e', 's', ' ', 'p', 'l', 'a', 'y', 'e', 'd', ' ', 'i', 'n', ' ', 't', 'h', 'e', ' ', 'c', 'r', 'i')\n",
      "('T', 'h', 'i', 's', ' ', 'a', 'r', 'g', 'u', 'm', 'e', 'n', 't', ' ', 'd', 'e', 'f', 'l', 'e', 'c', 't', 's', ' ', 'a', 't', 't', 'e', 'n', 't', 'i', 'o', 'n')\n",
      "('H', 'a', 'n', 'd', 'b', 'o', 'o', 'k', 's', ' ', ',', ' ', 'p', 'r', 'o', 'f', 'e', 's', 's', 'i', 'o', 'n', 'a', 'l', ' ', 'g', 'u', 'i', 'd', 'e', 's', ' ')\n",
      "('W', 'i', 't', 'h', 'i', 'n', ' ', ',', ' ', 'S', 'e', 'n', 'a', 't', 'o', 'r', ' ', 'M', 'c', 'C', 'a', 'i', 'n', ' ', 'h', 'a', 's', ' ', 'j', 'u', 's', 't')\n",
      "('I', 'f', ' ', 'K', 'h', 'a', 'd', 'a', 'f', 'i', ' ', '\"', ' ', 'w', 'a', 'n', 't', 's', ' ', 't', 'o', ' ', 'b', 'e', ' ', 's', 'e', 'e', 'n', ' ', 'a', 's')\n",
      "('S', 'p', 'e', 'a', 'k', 'i', 'n', 'g', ' ', 'w', 'i', 't', 'h', ' ', 'r', 'e', 'p', 'o', 'r', 't', 'e', 'r', 's', ' ', 'a', 'r', 'o', 'u', 'n', 'd', ' ', 't')\n",
      "('T', 'h', 'e', ' ', 'U', 'n', 'i', 't', 'e', 'd', ' ', 'S', 't', 'a', 't', 'e', 's', ' ', 'a', 'n', 'd', ' ', 'i', 't', 's', ' ', 'a', 'l', 'l', 'i', 'e', 's')\n",
      "('B', 'o', 'l', 'i', 'v', 'i', 'a', ' ', 'a', 'l', 's', 'o', ' ', 'e', 'x', 'p', 'e', 'l', 'l', 'e', 'd', ' ', 'U', '.', 'S', '.', ' ', 'a', 'm', 'b', 'a', 's')\n",
      "('B', 'u', 't', ' ', 'i', 't', ' ', 'w', 'a', 's', ' ', 't', 'h', 'e', ' ', 'l', 'a', 's', 't', ' ', 'b', 'i', 't', ' ', 'o', 'f', ' ', 'c', 'e', 'l', 'e', 'b')\n",
      "('A', ' ', 'W', 'e', 'b', ' ', 's', 'i', 't', 'e', ' ', 'w', 'a', 's', ' ', 's', 'e', 't', ' ', 'u', 'p', ' ', 'c', 'a', 'l', 'l', 'i', 'n', 'g', ' ', 'f', 'o')\n",
      "('M', 'a', 'r', 'c', ' ', 'S', 't', 'a', 'a', 'l', ' ', 'a', 'n', 'd', ' ', 'D', 'a', 'n', ' ', 'G', 'i', 'r', 'a', 'r', 'd', 'i', ' ', 'd', 'e', 'v', 'e', 'l')\n",
      "('I', ' ', 'c', 'a', 'n', ' ', \"'\", 't', ' ', 't', 'e', 'l', 'l', ' ', 'y', 'o', 'u', ' ', 't', 'h', 'e', ' ', 's', 't', 'r', 'e', 'n', 'g', 't', 'h', ' ', 'a')\n",
      "('S', 't', 'a', 'f', 'f', ' ', 'm', 'e', 'm', 'b', 'e', 'r', 's', ' ', 'a', 't', ' ', 'E', 'q', 'u', 'a', 't', 'o', 'r', 'i', 'a', 'l', ' ', 'G', 'u', 'i', 'n')\n",
      "('B', 'r', 'i', 't', 'i', 's', 'h', ' ', 's', 'c', 'i', 'e', 'n', 't', 'i', 's', 't', 's', ' ', 'w', 'e', 'l', 'c', 'o', 'm', 'e', 'd', ' ', 't', 'h', 'e', ' ')\n",
      "('M', 'i', 'c', 'k', 'e', 'y', ' ', 'G', 'o', 'o', 'c', 'h', ' ', ',', ' ', 'G', 'F', 'I', ' ', \"'\", 's', ' ', 'c', 'h', 'i', 'e', 'f', ' ', 'e', 'x', 'e', 'c')\n",
      "('S', 'o', 'm', 'e', ' ', 'p', 'r', 'i', 'v', 'a', 't', 'e', 'l', 'y', ' ', 'f', 'a', 'v', 'o', 'u', 'r', ' ', 'a', ' ', 'd', 'e', 'a', 'l', ' ', 'w', 'i', 't')\n",
      "('I', 'n', 'd', 'e', 'e', 'd', ' ', ',', ' ', 'o', 'n', 'e', ' ', 'o', 'f', ' ', 't', 'h', 'e', ' ', 'm', 'o', 's', 't', ' ', 'd', 'i', 's', 't', 'u', 'r', 'b')\n",
      "('T', 'h', 'e', ' ', 't', 'i', 't', 'l', 'e', ' ', 'o', 'f', ' ', 't', 'h', 'e', ' ', 'N', 'e', 'w', ' ', 'Y', 'o', 'r', 'k', ' ', 's', 'c', 'h', 'o', 'o', 'l')\n",
      "('S', 'a', 'l', 'e', 's', ' ', 'o', 'f', ' ', 'd', 'i', 'g', 'i', 't', 'a', 'l', ' ', 't', 'e', 'l', 'e', 'v', 'i', 's', 'i', 'o', 'n', ' ', 's', 'e', 't', 's')\n",
      "('M', 'u', 'l', 'l', 'a', 'h', ' ', 'A', 'd', 'a', 'h', 'd', 'a', 'd', ' ', 'w', 'a', 's', ' ', 's', 't', 'a', 'n', 'd', 'i', 'n', 'g', ' ', 'b', 'y', ' ', 'a')\n",
      "('L', 'a', 's', 't', ' ', 'm', 'o', 'n', 't', 'h', ' ', 'h', 'e', ' ', 'd', 'e', 's', 'c', 'r', 'i', 'b', 'e', 'd', ' ', 'I', 'r', 'a', 'q', ' ', 'a', 'n', 'd')\n",
      "('Y', 'o', 'u', ' ', 'w', 'o', 'u', 'l', 'd', ' ', 'n', 'e', 'e', 'd', ' ', 'a', 'n', ' ', 'a', 'r', 'm', 'y', ' ', 'o', 'f', ' ', 'a', ' ', 'c', 'o', 'u', 'p')\n",
      "('J', 'e', 'a', 'n', ' ', 'N', 'o', 'u', 'v', 'e', 'l', ' ', ',', ' ', 'o', 'n', 'e', ' ', 'o', 'f', ' ', 't', 'h', 'e', ' ', 'm', 'o', 's', 't', ' ', 'd', 'e')\n",
      "('1', '0', '0', '0', 'B', 'a', 's', 'e', 'T', ' ', 'o', 'p', 'e', 'r', 'a', 't', 'i', 'o', 'n', ' ', 'a', 'n', 'd', ' ', 'P', 'o', 'w', 'e', 'r', ' ', 'o', 'v')\n",
      "('A', 't', ' ', '5', '5', ' ', ',', ' ', 'h', 'e', ' ', 'd', 'e', 'c', 'i', 'd', 'e', 'd', ' ', 't', 'o', ' ', 'e', 'n', 'd', ' ', 'h', 'i', 's', ' ', 'o', 'w')\n",
      "('C', 'l', 'a', 's', 's', 'e', 's', ' ', 'a', 't', ' ', 't', 'h', 'e', ' ', 'D', 'o', 'v', 'e', 'r', ' ', 'c', 'a', 'm', 'p', 'u', 's', ' ', 'h', 'a', 'v', 'e')\n",
      "('A', 'b', 'o', 'u', 't', ' ', '6', '0', '0', ',', '0', '0', '0', ' ', 's', 'i', 'x', 't', 'h', '-', 'g', 'r', 'a', 'd', 'e', ' ', 's', 'o', 'c', 'i', 'a', 'l')\n",
      "('(', ' ', 'T', 'h', 'a', 't', ' ', 's', 'a', 'm', 'e', ' ', 'y', 'e', 'a', 'r', ' ', ',', ' ', 'o', 'n', 'l', 'y', ' ', '1', ',', '0', '9', '6', ' ', 'o', 'f')\n",
      "('I', 'r', 'a', 'n', ' ', \"'\", 's', ' ', 'P', 'r', 'e', 's', 'i', 'd', 'e', 'n', 't', ' ', 'M', 'a', 'h', 'm', 'o', 'u', 'd', ' ', 'A', 'h', 'm', 'a', 'd', 'i')\n",
      "('I', 'n', ' ', 't', 'h', 'e', 'i', 'r', ' ', 'f', 'i', 'r', 's', 't', ' ', 'e', 'x', 'p', 'e', 'r', 'i', 'm', 'e', 'n', 't', 's', ' ', ',', ' ', 't', 'h', 'e')\n",
      "('T', 'h', 'i', 's', ' ', 'p', 'r', 'o', 'b', 'l', 'e', 'm', ' ', 'n', 'e', 'e', 'd', 's', ' ', 't', 'o', ' ', 'b', 'e', ' ', 'h', 'i', 'g', 'h', 'e', 'r', ' ')\n",
      "('\"', ' ', 'Y', 'o', 'u', ' ', 'c', 'o', 'u', 'l', 'd', 'n', ' ', \"'\", 't', ' ', 't', 'e', 'l', 'l', ' ', 'h', 'i', 'm', ' ', 'a', 'n', 'y', 't', 'h', 'i', 'n')\n",
      "('I', ' ', \"'\", 'd', ' ', 'r', 'e', 't', 'u', 'r', 'n', 'e', 'd', ' ', 'h', 'o', 'm', 'e', ' ', 'l', 'a', 't', 'e', ' ', 'a', 'n', 'd', ' ', 'w', 'a', 's', ' ')\n",
      "('P', 'r', 'e', 's', 's', 'u', 'r', 'e', ' ', 'i', 's', ' ', 'm', 'o', 'u', 'n', 't', 'i', 'n', 'g', ' ', 'f', 'o', 'r', ' ', 'a', ' ', 'b', 'r', 'e', 'a', 'k')\n",
      "('T', 'o', 'm', ' ', 'P', 'e', 't', 't', 'e', 'r', 's', ' ', ',', ' ', '5', '2', ' ', ',', ' ', 'w', 'h', 'o', ' ', 's', 'e', 'e', 'm', 'e', 'd', ' ', 't', 'o')\n",
      "('E', 'm', 'i', 's', 's', 'i', 'o', 'n', 's', ' ', 'o', 'f', ' ', 'c', 'a', 'r', 'b', 'o', 'n', ' ', 'd', 'i', 'o', 'x', 'i', 'd', 'e', ' ', 'f', 'r', 'o', 'm')\n",
      "('M', 'a', 'g', 'n', 'ú', 's', ' ', 'Á', 'r', 'n', 'i', ' ', 'S', 'k', 'ú', 'l', 'a', 's', 'o', 'n', ' ', ',', ' ', 'a', 'n', ' ', 'e', 'c', 'o', 'n', 'o', 'm')\n",
      "('A', ' ', 'N', 'o', 'r', 't', 'h', 'e', 'r', 'n', ' ', 'R', 'o', 'c', 'k', ' ', 's', 'p', 'o', 'k', 'e', 's', 'm', 'a', 'n', ' ', 's', 'a', 'i', 'd', ' ', 't')\n",
      "('S', 'i', 'n', 'c', 'e', ' ', 't', 'h', 'e', ' ', '1', '9', '6', '0', 's', ' ', ',', ' ', 't', 'h', 'e', ' ', 'c', 'o', 'n', 'f', 'i', 'r', 'm', 'a', 't', 'i')\n",
      "('C', 'a', 's', 'h', ' ', 'F', 'l', 'o', 'w', ' ', ':', ' ', 'F', 'o', 'r', ' ', 't', 'h', 'e', ' ', 'y', 'e', 'a', 'r', ' ', 'e', 'n', 'd', 'e', 'd', ' ', 'D')\n",
      "('T', 'h', 'e', ' ', 'o', 'u', 't', 'b', 'r', 'e', 'a', 'k', ' ', 'i', 's', ' ', 'b', 'l', 'a', 'm', 'e', 'd', ' ', 'o', 'n', ' ', 'l', 'a', 'c', 'k', ' ', 'o')\n",
      "('T', 'h', 'e', ' ', 'N', 'e', 'w', ' ', 'Y', 'o', 'r', 'k', ' ', 'G', 'i', 'a', 'n', 't', 's', ' ', 'f', 'a', 'n', 's', ' ', 'l', 'o', 'v', 'e', ' ', 't', 'h')\n",
      "('M', 'a', 'n', 'y', ' ', 'b', 'a', 'n', 'k', 's', ' ', 'a', 'r', 'e', ' ', 'h', 'o', 'p', 'i', 'n', 'g', ' ', 't', 'h', 'a', 't', ' ', 't', 'h', 'e', ' ', 'g')\n",
      "('A', 'l', 'l', ' ', 't', 'h', 'e', 'y', ' ', 'c', 'o', 'n', 'c', 'l', 'u', 'd', 'e', 'd', ' ', 'w', 'a', 's', ' ', 't', 'h', 'a', 't', ' ', 'M', 'r', ' ', 'M')\n",
      "('M', 'r', ' ', 'S', 'i', 'n', 'g', 'h', ' ', ',', ' ', 'w', 'h', 'o', ' ', 's', 'u', 'f', 'f', 'e', 'r', 'e', 'd', ' ', 'i', 'n', 'j', 'u', 'r', 'i', 'e', 's')\n",
      "('C', 'o', 'n', 'g', 'r', 'e', 's', 's', 'i', 'o', 'n', 'a', 'l', ' ', 'l', 'e', 'a', 'd', 'e', 'r', 's', ' ', 'v', 'o', 'w', 'e', 'd', ' ', 'F', 'r', 'i', 'd')\n",
      "('H', 'e', ' ', 'l', 'i', 'v', 'e', 's', ' ', 'i', 'n', ' ', 'I', 's', 'r', 'a', 'e', 'l', ' ', 'w', 'i', 't', 'h', ' ', 'R', 'i', 'v', 'k', 'i', ' ', \"'\", 's')\n",
      "('T', 'h', 'e', ' ', 'm', 'a', 't', 't', 'e', 'r', ' ', 't', 'h', 'a', 't', ' ', 's', 't', 'o', 'p', 'p', 'e', 'd', ' ', 'm', 'e', ' ', 'i', 'n', ' ', 'm', 'y')\n",
      "('T', 'h', 'e', ' ', 'r', 'e', 's', 'u', 'l', 't', 'i', 'n', 'g', ' ', 's', 't', 'e', 'a', 'm', ' ', 'd', 'r', 'i', 'v', 'e', 's', ' ', 't', 'u', 'r', 'b', 'i')\n",
      "('T', 'h', 'e', ' ', 'F', 'A', ' ', 'c', 'o', 'n', 'f', 'i', 'r', 'm', 'e', 'd', ' ', 'n', 'o', ' ', 'a', 'c', 't', 'i', 'o', 'n', ' ', 'w', 'o', 'u', 'l', 'd')\n",
      "('H', 'e', ' ', 'n', 'o', 't', 'e', 'd', ' ', 't', 'h', 'a', 't', ' ', 'l', 'a', 's', 't', ' ', 'y', 'e', 'a', 'r', ' ', 'w', 'o', 'r', 'l', 'd', ' ', 'm', 'i')\n",
      "('A', 't', ' ', 'o', 'n', 'e', ' ', 'i', 'n', 's', 't', 'i', 't', 'u', 't', 'i', 'o', 'n', ' ', ',', ' ', 't', 'h', 'e', 's', 'e', ' ', 'i', 's', 's', 'u', 'e')\n",
      "('G', 'M', ' ', 'h', 'a', 's', ' ', 'd', 'e', 'f', 'e', 'n', 'd', 'e', 'd', ' ', 'i', 't', 's', ' ', 'u', 's', 'e', ' ', 'o', 'f', ' ', 'i', 'n', 'c', 'e', 'n')\n",
      "('U', 'n', 'd', 'e', 'r', ' ', 't', 'h', 'e', ' ', 'c', 'o', 'n', 's', 'e', 'n', 't', ' ', 'o', 'r', 'd', 'e', 'r', ' ', ',', ' ', 'w', 'h', 'i', 'c', 'h', ' ')\n",
      "('I', 'n', ' ', 'r', 'e', 's', 'p', 'o', 'n', 's', 'e', ' ', 't', 'o', ' ', 't', 'h', 'a', 't', ' ', 'm', 'e', 'e', 't', 'i', 'n', 'g', ' ', ',', ' ', 'l', 'e')\n",
      "('W', 'h', 'e', 'n', ' ', 'y', 'o', 'u', ' ', 't', 'h', 'i', 'n', 'k', ' ', 'o', 'f', ' ', 'S', 'h', 'e', 'r', 'l', 'o', 'c', 'k', ' ', 'H', 'o', 'l', 'm', 'e')\n",
      "('B', 'A', 'L', 'T', 'I', 'M', 'O', 'R', 'E', ' ', '(', ' ', 'A', 'P', ' ', ')', ' ', '-', ' ', 'T', 'h', 'e', ' ', 'B', 'a', 'l', 't', 'i', 'm', 'o', 'r', 'e')\n",
      "('A', 'l', 's', 'o', ' ', ',', ' ', 'm', 'a', 'r', 'k', 'e', 't', ' ', 'r', 'e', 'n', 't', 's', ' ', 'f', 'e', 'l', 'l', ' ', 's', 'h', 'a', 'r', 'p', 'l', 'y')\n",
      "('T', 'h', 'e', ' ', 'b', 'i', 'g', ' ', 'p', 'r', 'o', 'b', 'l', 'e', 'm', ' ', 'i', 's', ' ', 't', 'h', 'a', 't', ' ', 'o', 'f', ' ', \"'\", ' ', 'l', 'o', 'a')\n",
      "('F', 'o', 'r', ' ', 'n', 'e', 'a', 'r', 'l', 'y', ' ', '5', '0', ' ', 'y', 'e', 'a', 'r', 's', ' ', ',', ' ', 't', 'h', 'e', ' ', 'H', 'a', 'r', 'l', 'e', 'm')\n",
      "('A', ' ', 'p', 'a', 's', 's', 'i', 'o', 'n', 'a', 't', 'e', ' ', 'K', 'o', 'p', 'i', 't', 'e', ' ', 'a', 'n', 'd', ' ', 'e', 'n', 't', 'h', 'u', 's', 'i', 'a')\n",
      "('I', 'n', ' ', '1', '9', '9', '6', ' ', ',', ' ', 'K', 'e', 'n', 'n', 'e', 'd', 'y', ' ', 'c', 'r', 'e', 'a', 't', 'e', 'd', ' ', 'C', 'o', 'r', 'a', 'l', ' ')\n",
      "('C', 'h', 'a', 'm', 'b', 'e', 'r', ' ', 'M', 'u', 's', 'i', 'c', ' ', 'a', 't', ' ', 't', 'h', 'e', ' ', 'Y', ' ', 'd', 'e', 'v', 'o', 't', 'e', 'd', ' ', 'i')\n",
      "('M', 'r', ' ', 'D', 'e', 'v', 'o', 'r', 'i', 'k', ' ', 's', 'a', 'i', 'd', ' ', 't', 'h', 'a', 't', ' ', 'h', 'e', ' ', 'a', 's', 'k', 'e', 'd', ' ', 't', 'h')\n",
      "('F', 'o', 'u', 'r', ' ', 'm', 'o', 'n', 't', 'h', 's', ' ', 'l', 'a', 't', 'e', 'r', ' ', ',', ' ', 'h', 'e', ' ', 'i', 's', ' ', 'w', 'o', 'r', 't', 'h', ' ')\n",
      "('I', ' ', 'h', 'a', 'v', 'e', ' ', 't', 'r', 'a', 'v', 'e', 'l', 'l', 'e', 'd', ' ', 't', 'h', 'e', ' ', 'w', 'o', 'r', 'l', 'd', ' ', 'a', 'n', 'd', ' ', 's')\n",
      "('H', 'o', 'w', 'e', 'v', 'e', 'r', ' ', ',', ' ', 'h', 'e', ' ', 's', 'a', 'i', 'd', ' ', 't', 'h', 'i', 's', ' ', 'd', 'i', 'd', ' ', 'n', 'o', 't', ' ', 'd')\n",
      "('B', 'u', 't', ' ', 'p', 'r', 'o', 's', 'e', 'c', 'u', 't', 'o', 'r', 's', ' ', 's', 'a', 'y', ' ', 't', 'h', 'a', 't', ' ', 'G', 'h', 'a', 'i', 'l', 'a', 'n')\n",
      "('T', 'h', 'i', 's', ' ', 'i', 's', ' ', 'j', 'u', 's', 't', ' ', 'p', 'a', 't', 'h', 'e', 't', 'i', 'c', ' ', '.', '`', '`', '`', '`', '`', '`', '`', '`', '`')\n",
      "loaded 1000000 lines in dataset\n"
     ]
    }
   ],
   "source": [
    "lib.print_model_settings(locals().copy())\n",
    "\n",
    "lines, charmap, inv_charmap = language_helpers.load_dataset(\n",
    "    max_length=SEQ_LEN,\n",
    "    max_n_examples=MAX_N_EXAMPLES,\n",
    "    data_dir=DATA_DIR\n",
    ")"
   ]
  },
  {
   "cell_type": "code",
   "execution_count": 4,
   "metadata": {
    "collapsed": true
   },
   "outputs": [],
   "source": [
    "def softmax(logits):\n",
    "    return tf.reshape(\n",
    "        tf.nn.softmax(\n",
    "            tf.reshape(logits, [-1, len(charmap)])\n",
    "        ),\n",
    "        tf.shape(logits)\n",
    "    )"
   ]
  },
  {
   "cell_type": "code",
   "execution_count": 5,
   "metadata": {
    "collapsed": true
   },
   "outputs": [],
   "source": [
    "def make_noise(shape):\n",
    "    return tf.random_normal(shape)"
   ]
  },
  {
   "cell_type": "code",
   "execution_count": 6,
   "metadata": {
    "collapsed": true
   },
   "outputs": [],
   "source": [
    "def ResBlock(name, inputs):\n",
    "    output = inputs\n",
    "    output = tf.nn.relu(output)\n",
    "    output = lib.ops.conv1d.Conv1D(name+'.1', DIM, DIM, 5, output)\n",
    "    output = tf.nn.relu(output)\n",
    "    output = lib.ops.conv1d.Conv1D(name+'.2', DIM, DIM, 5, output)\n",
    "    return inputs + (0.3*output)"
   ]
  },
  {
   "cell_type": "code",
   "execution_count": 7,
   "metadata": {
    "collapsed": true
   },
   "outputs": [],
   "source": [
    "def Generator(n_samples, prev_outputs=None):\n",
    "    output = make_noise(shape=[n_samples, 128])\n",
    "    output = lib.ops.linear.Linear('Generator.Input', 128, SEQ_LEN*DIM, output)\n",
    "    output = tf.reshape(output, [-1, DIM, SEQ_LEN])\n",
    "    output = ResBlock('Generator.1', output)\n",
    "    output = ResBlock('Generator.2', output)\n",
    "    output = ResBlock('Generator.3', output)\n",
    "    output = ResBlock('Generator.4', output)\n",
    "    output = ResBlock('Generator.5', output)\n",
    "    output = lib.ops.conv1d.Conv1D('Generator.Output', DIM, len(charmap), 1, output)\n",
    "    output = tf.transpose(output, [0, 2, 1])\n",
    "    output = softmax(output)\n",
    "    return output"
   ]
  },
  {
   "cell_type": "code",
   "execution_count": 8,
   "metadata": {
    "collapsed": true
   },
   "outputs": [],
   "source": [
    "def Discriminator(inputs):\n",
    "    output = tf.transpose(inputs, [0,2,1])\n",
    "    output = lib.ops.conv1d.Conv1D('Discriminator.Input', len(charmap), DIM, 1, output)\n",
    "    output = ResBlock('Discriminator.1', output)\n",
    "    output = ResBlock('Discriminator.2', output)\n",
    "    output = ResBlock('Discriminator.3', output)\n",
    "    output = ResBlock('Discriminator.4', output)\n",
    "    output = ResBlock('Discriminator.5', output)\n",
    "    output = tf.reshape(output, [-1, SEQ_LEN*DIM])\n",
    "    output = lib.ops.linear.Linear('Discriminator.Output', SEQ_LEN*DIM, 1, output)\n",
    "    return output"
   ]
  },
  {
   "cell_type": "code",
   "execution_count": 9,
   "metadata": {
    "collapsed": true
   },
   "outputs": [],
   "source": [
    "real_inputs_discrete = tf.placeholder(tf.int32, shape=[BATCH_SIZE, SEQ_LEN])\n",
    "real_inputs = tf.one_hot(real_inputs_discrete, len(charmap))\n",
    "fake_inputs = Generator(BATCH_SIZE)\n",
    "fake_inputs_discrete = tf.argmax(fake_inputs, fake_inputs.get_shape().ndims-1)"
   ]
  },
  {
   "cell_type": "code",
   "execution_count": 10,
   "metadata": {
    "collapsed": true
   },
   "outputs": [],
   "source": [
    "disc_real = Discriminator(real_inputs) \n",
    "disc_fake = Discriminator(fake_inputs)"
   ]
  },
  {
   "cell_type": "code",
   "execution_count": 11,
   "metadata": {
    "collapsed": true
   },
   "outputs": [],
   "source": [
    "disc_cost = tf.reduce_mean(disc_fake) - tf.reduce_mean(disc_real)\n",
    "gen_cost = -tf.reduce_mean(disc_fake)"
   ]
  },
  {
   "cell_type": "code",
   "execution_count": 12,
   "metadata": {
    "collapsed": true
   },
   "outputs": [],
   "source": [
    "# WGAN lipschitz-penalty\n",
    "alpha = tf.random_uniform(\n",
    "    shape=[BATCH_SIZE,1,1], \n",
    "    minval=0.,\n",
    "    maxval=1.\n",
    ")"
   ]
  },
  {
   "cell_type": "code",
   "execution_count": 13,
   "metadata": {
    "collapsed": true
   },
   "outputs": [],
   "source": [
    "differences = fake_inputs - real_inputs\n",
    "interpolates = real_inputs + (alpha*differences)\n",
    "gradients = tf.gradients(Discriminator(interpolates), [interpolates])[0]\n",
    "slopes = tf.sqrt(tf.reduce_sum(tf.square(gradients), reduction_indices=[1,2]))\n",
    "gradient_penalty = tf.reduce_mean((slopes-1.)**2)\n",
    "disc_cost += LAMBDA*gradient_penalty"
   ]
  },
  {
   "cell_type": "code",
   "execution_count": 14,
   "metadata": {
    "collapsed": true
   },
   "outputs": [],
   "source": [
    "gen_params = lib.params_with_name('Generator')\n",
    "disc_params = lib.params_with_name('Discriminator')"
   ]
  },
  {
   "cell_type": "code",
   "execution_count": 15,
   "metadata": {
    "collapsed": true
   },
   "outputs": [],
   "source": [
    "gen_train_op = tf.train.AdamOptimizer(learning_rate=1e-4, beta1=0.5, beta2=0.9).minimize(gen_cost, var_list=gen_params)\n",
    "disc_train_op = tf.train.AdamOptimizer(learning_rate=1e-4, beta1=0.5, beta2=0.9).minimize(disc_cost, var_list=disc_params)"
   ]
  },
  {
   "cell_type": "code",
   "execution_count": 16,
   "metadata": {
    "collapsed": true
   },
   "outputs": [],
   "source": [
    "# Dataset iterator\n",
    "def inf_train_gen():\n",
    "    while True:\n",
    "        np.random.shuffle(lines)\n",
    "        for i in range(0, len(lines)-BATCH_SIZE+1, BATCH_SIZE):\n",
    "            yield np.array(\n",
    "                [[charmap[c] for c in l] for l in lines[i:i+BATCH_SIZE]], \n",
    "                dtype='int32'\n",
    "            )"
   ]
  },
  {
   "cell_type": "code",
   "execution_count": 17,
   "metadata": {},
   "outputs": [
    {
     "name": "stdout",
     "output_type": "stream",
     "text": [
      "validation set JSD for n=1: 0.0010520087259543393\n",
      "validation set JSD for n=2: 0.015781876494449967\n",
      "validation set JSD for n=3: 0.08867560050286613\n",
      "validation set JSD for n=4: 0.24667240400083254\n"
     ]
    }
   ],
   "source": [
    "# During training we monitor JS divergence between the true & generated ngram\n",
    "# distributions for n=1,2,3,4. To get an idea of the optimal values, we\n",
    "# evaluate these statistics on a held-out set first.\n",
    "\n",
    "true_char_ngram_lms = [language_helpers.NgramLanguageModel(i+1, lines[10*BATCH_SIZE:], tokenize=False) for i in range(4)]\n",
    "validation_char_ngram_lms = [language_helpers.NgramLanguageModel(i+1, lines[:10*BATCH_SIZE], tokenize=False) for i in range(4)]\n",
    "for i in range(4):\n",
    "    print ( \"validation set JSD for n={}: {}\".format(i+1, true_char_ngram_lms[i].js_with(validation_char_ngram_lms[i])) )\n",
    "true_char_ngram_lms = [language_helpers.NgramLanguageModel(i+1, lines, tokenize=False) for i in range(4)]"
   ]
  },
  {
   "cell_type": "code",
   "execution_count": 18,
   "metadata": {},
   "outputs": [
    {
     "name": "stdout",
     "output_type": "stream",
     "text": [
      "[Start]\n",
      "   2.0% Done! [Iteration]:        200 [200x iterations time  ]:     385.07 secs [SUM]:     385.07 secs\n",
      "   4.0% Done! [Iteration]:        400 [200x iterations time  ]:     387.37 secs [SUM]:     772.44 secs\n",
      "   6.0% Done! [Iteration]:        600 [200x iterations time  ]:     388.74 secs [SUM]:    1161.18 secs\n",
      "   8.0% Done! [Iteration]:        800 [200x iterations time  ]:     389.28 secs [SUM]:    1550.45 secs\n",
      " 1e+01% Done! [Iteration]:       1000 [200x iterations time  ]:     389.01 secs [SUM]:    1939.47 secs\n",
      "1.2e+01% Done! [Iteration]:       1200 [200x iterations time  ]:     388.96 secs [SUM]:    2328.43secs\n",
      "1.4e+01% Done! [Iteration]:       1400 [200x iterations time  ]:     389.37 secs [SUM]:    2717.80secs\n",
      "1.6e+01% Done! [Iteration]:       1600 [200x iterations time  ]:     389.66 secs [SUM]:    3107.46secs\n",
      "1.8e+01% Done! [Iteration]:       1800 [200x iterations time  ]:     389.34 secs [SUM]:    3496.80secs\n",
      " 2e+01% Done! [Iteration]:       2000 [200x iterations time  ]:     389.27 secs [SUM]:    3886.06 secs\n",
      "2.2e+01% Done! [Iteration]:       2200 [200x iterations time  ]:     389.33 secs [SUM]:    4275.40secs\n",
      "2.4e+01% Done! [Iteration]:       2400 [200x iterations time  ]:     389.43 secs [SUM]:    4664.83secs\n",
      "2.6e+01% Done! [Iteration]:       2600 [200x iterations time  ]:     389.30 secs [SUM]:    5054.13secs\n",
      "2.8e+01% Done! [Iteration]:       2800 [200x iterations time  ]:     389.54 secs [SUM]:    5443.67secs\n",
      " 3e+01% Done! [Iteration]:       3000 [200x iterations time  ]:     389.34 secs [SUM]:    5833.01 secs\n",
      "3.2e+01% Done! [Iteration]:       3200 [200x iterations time  ]:     389.46 secs [SUM]:    6222.47secs\n",
      "3.4e+01% Done! [Iteration]:       3400 [200x iterations time  ]:     389.59 secs [SUM]:    6612.07secs\n",
      "3.6e+01% Done! [Iteration]:       3600 [200x iterations time  ]:     390.23 secs [SUM]:    7002.29secs\n",
      "3.8e+01% Done! [Iteration]:       3800 [200x iterations time  ]:     389.42 secs [SUM]:    7391.71secs\n",
      " 4e+01% Done! [Iteration]:       4000 [200x iterations time  ]:     389.60 secs [SUM]:    7781.32 secs\n",
      "4.2e+01% Done! [Iteration]:       4200 [200x iterations time  ]:     389.67 secs [SUM]:    8170.98secs\n",
      "4.4e+01% Done! [Iteration]:       4400 [200x iterations time  ]:     388.97 secs [SUM]:    8559.96secs\n",
      "4.6e+01% Done! [Iteration]:       4600 [200x iterations time  ]:     388.79 secs [SUM]:    8948.75secs\n",
      "4.8e+01% Done! [Iteration]:       4800 [200x iterations time  ]:     389.26 secs [SUM]:    9338.01secs\n",
      " 5e+01% Done! [Iteration]:       5000 [200x iterations time  ]:     389.16 secs [SUM]:    9727.17 secs\n",
      "5.2e+01% Done! [Iteration]:       5200 [200x iterations time  ]:     388.93 secs [SUM]:   10116.10secs\n",
      "5.4e+01% Done! [Iteration]:       5400 [200x iterations time  ]:     388.62 secs [SUM]:   10504.71secs\n",
      "5.6e+01% Done! [Iteration]:       5600 [200x iterations time  ]:     389.20 secs [SUM]:   10893.91secs\n",
      "5.8e+01% Done! [Iteration]:       5800 [200x iterations time  ]:     389.05 secs [SUM]:   11282.97secs\n",
      " 6e+01% Done! [Iteration]:       6000 [200x iterations time  ]:     389.04 secs [SUM]:   11672.01 secs\n",
      "6.2e+01% Done! [Iteration]:       6200 [200x iterations time  ]:     388.87 secs [SUM]:   12060.88secs\n",
      "6.4e+01% Done! [Iteration]:       6400 [200x iterations time  ]:     389.90 secs [SUM]:   12450.77secs\n",
      "6.6e+01% Done! [Iteration]:       6600 [200x iterations time  ]:     390.24 secs [SUM]:   12841.01secs\n",
      "6.8e+01% Done! [Iteration]:       6800 [200x iterations time  ]:     390.69 secs [SUM]:   13231.71secs\n",
      " 7e+01% Done! [Iteration]:       7000 [200x iterations time  ]:     391.31 secs [SUM]:   13623.02 secs\n",
      "7.2e+01% Done! [Iteration]:       7200 [200x iterations time  ]:     391.13 secs [SUM]:   14014.15secs\n",
      "7.4e+01% Done! [Iteration]:       7400 [200x iterations time  ]:     391.15 secs [SUM]:   14405.29secs\n",
      "7.6e+01% Done! [Iteration]:       7600 [200x iterations time  ]:     391.22 secs [SUM]:   14796.51secs\n",
      "7.8e+01% Done! [Iteration]:       7800 [200x iterations time  ]:     391.55 secs [SUM]:   15188.07secs\n",
      " 8e+01% Done! [Iteration]:       8000 [200x iterations time  ]:     391.68 secs [SUM]:   15579.75 secs\n",
      "8.2e+01% Done! [Iteration]:       8200 [200x iterations time  ]:     391.26 secs [SUM]:   15971.01secs\n",
      "8.4e+01% Done! [Iteration]:       8400 [200x iterations time  ]:     391.85 secs [SUM]:   16362.87secs\n",
      "8.6e+01% Done! [Iteration]:       8600 [200x iterations time  ]:     391.41 secs [SUM]:   16754.28secs\n",
      "8.8e+01% Done! [Iteration]:       8800 [200x iterations time  ]:     391.28 secs [SUM]:   17145.56secs\n",
      " 9e+01% Done! [Iteration]:       9000 [200x iterations time  ]:     391.75 secs [SUM]:   17537.31 secs\n",
      "9.2e+01% Done! [Iteration]:       9200 [200x iterations time  ]:     391.91 secs [SUM]:   17929.22secs\n",
      "9.4e+01% Done! [Iteration]:       9400 [200x iterations time  ]:     392.22 secs [SUM]:   18321.44secs\n",
      "9.6e+01% Done! [Iteration]:       9600 [200x iterations time  ]:     392.50 secs [SUM]:   18713.94secs\n",
      "9.8e+01% Done! [Iteration]:       9800 [200x iterations time  ]:     391.93 secs [SUM]:   19105.87secs\n",
      " 1e+02% Done! [Iteration]:      10000 [200x iterations time  ]:     392.03 secs [SUM]:   19497.90 secs\n"
     ]
    }
   ],
   "source": [
    "with tf.Session() as session:\n",
    "\n",
    "    session.run(tf.global_variables_initializer())\n",
    "\n",
    "    def generate_samples():\n",
    "        samples = session.run(fake_inputs)\n",
    "        samples = np.argmax(samples, axis=2)\n",
    "        decoded_samples = []\n",
    "        for i in range(len(samples)):\n",
    "            decoded = []\n",
    "            for j in range(len(samples[i])):\n",
    "                decoded.append(inv_charmap[samples[i][j]])\n",
    "            decoded_samples.append(tuple(decoded))\n",
    "        return decoded_samples\n",
    "\n",
    "    gen = inf_train_gen()\n",
    "\n",
    "    sum_time = 0.\n",
    "    line_time = 0. \n",
    "    loading_str = \"*\"\n",
    "    for iteration in range(ITERS):\n",
    "        start_time = time.time()\n",
    "        \n",
    "        if (iteration == 0):\n",
    "            now_time = time.clock()\n",
    "            print(\"[Start]\")\n",
    "\n",
    "        # Train generator\n",
    "        if iteration > 0:\n",
    "            _ = session.run(gen_train_op)\n",
    "\n",
    "        # Train critic\n",
    "        for i in range(CRITIC_ITERS):\n",
    "            _data = gen.__next__()\n",
    "            _disc_cost, _ = session.run(\n",
    "                [disc_cost, disc_train_op],\n",
    "                feed_dict={real_inputs_discrete:_data}\n",
    "            )\n",
    "\n",
    "        # How many iterations to change line \n",
    "        change_line=int(ITERS/500)\n",
    "        \n",
    "        after_time=time.clock() - now_time\n",
    "        sum_time+=after_time\n",
    "        eta_time = (ITERS-iteration)*(after_time)\n",
    "        \n",
    "        print(\" [{1:10}] [Iteration]: {0:10} [Unit iteration time   ]: {2:10.2f} secs [ETA]: {3:10.2f} secs\".format( (iteration+1), loading_str, after_time, eta_time) , end=\"\\r\")\n",
    "        now_time = time.clock()\n",
    "        if iteration % change_line == (change_line-1):\n",
    "            loading_str += \"*\"\n",
    "            if iteration % (10*change_line) == (10*change_line-1):            \n",
    "                print(\"{5:6.2}{0:7} [Iteration]: {1:10} [{2:22}]: {3:10.2f} secs [SUM]: {4:10.2f}\".format(\"% Done!\", (iteration+1), (str(10*change_line)+\"x iterations time\"), (sum_time-line_time), sum_time, (100*iteration/ITERS) ) )\n",
    "                loading_str = \"*\"\n",
    "                line_time = sum_time\n",
    "        \n",
    "        lib.plot.plot('time', time.time() - start_time)\n",
    "        lib.plot.plot('train disc cost', _disc_cost)\n",
    "\n",
    "        if iteration % (5*change_line) == (5*change_line-1):\n",
    "            #print(\"checkpintB\"+str(iteration+1))\n",
    "            samples = []\n",
    "            for i in range(10):\n",
    "                samples.extend(generate_samples())\n",
    "\n",
    "            for i in range(4):\n",
    "                lm = language_helpers.NgramLanguageModel(i+1, samples, tokenize=False)\n",
    "                lib.plot.plot('js{}'.format(i+1), lm.js_with(true_char_ngram_lms[i]))\n",
    "\n",
    "            with open('output_data/samples_{}.txt'.format(iteration+1), 'w',encoding = 'utf8') as f:\n",
    "                for s in samples:\n",
    "                    s = \"\".join(s)\n",
    "                    f.write(s + \"\\n\")\n",
    "\n",
    "        #if iteration % (5*change_line) == (5*change_line-1):\n",
    "            #print(iteration)\n",
    "            #lib.plot.flush()\n",
    "        \n",
    "        lib.plot.tick()\n"
   ]
  },
  {
   "cell_type": "code",
   "execution_count": null,
   "metadata": {
    "collapsed": true
   },
   "outputs": [],
   "source": []
  }
 ],
 "metadata": {
  "kernelspec": {
   "display_name": "Python 3",
   "language": "python",
   "name": "python3"
  },
  "language_info": {
   "codemirror_mode": {
    "name": "ipython",
    "version": 3
   },
   "file_extension": ".py",
   "mimetype": "text/x-python",
   "name": "python",
   "nbconvert_exporter": "python",
   "pygments_lexer": "ipython3",
   "version": "3.5.3"
  }
 },
 "nbformat": 4,
 "nbformat_minor": 2
}
