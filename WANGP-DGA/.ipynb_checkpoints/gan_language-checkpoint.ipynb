{
 "cells": [
  {
   "cell_type": "code",
   "execution_count": 1,
   "metadata": {
    "collapsed": true
   },
   "outputs": [],
   "source": [
    "import os, sys\n",
    "sys.path.append(os.getcwd())\n",
    "\n",
    "import time\n",
    "\n",
    "import numpy as np\n",
    "import tensorflow as tf\n",
    "\n",
    "import language_helpers\n",
    "import tflib as lib\n",
    "import tflib.ops.linear\n",
    "import tflib.ops.conv1d\n",
    "import tflib.plot"
   ]
  },
  {
   "cell_type": "code",
   "execution_count": 2,
   "metadata": {
    "collapsed": true
   },
   "outputs": [],
   "source": [
    "# Download Google Billion Word at http://www.statmt.org/lm-benchmark/ and\n",
    "# fill in the path to the extracted files here!\n",
    "DATA_DIR = '../Dataset/AlexaTop1M_NoSeparate'\n",
    "if len(DATA_DIR) == 0:\n",
    "    raise Exception(\"Please specify path to data directory in gan_language.py!\")\n",
    "\n",
    "BATCH_SIZE = 64 # Batch size\n",
    "ITERS = 1000 # How many iterations to train for  default = 200000 min=1000\n",
    "SEQ_LEN = 32 # Sequence length in characters\n",
    "DIM = 512 # Model dimensionality. This is fairly slow and overfits, even on\n",
    "          # Billion Word. Consider decreasing for smaller datasets.\n",
    "CRITIC_ITERS = 10 # How many critic iterations per generator iteration. We\n",
    "                  # use 10 for the results in the paper, but 5 should work fine\n",
    "                  # as well.\n",
    "LAMBDA = 10 # Gradient penalty lambda hyperparameter.\n",
    "MAX_N_EXAMPLES = 1000 # Max number of data examples to load. If data loading\n",
    "                          # is too slow or takes too much RAM, you can decrease\n",
    "                          # this (at the expense of having less training data). default = 10000000"
   ]
  },
  {
   "cell_type": "code",
   "execution_count": 3,
   "metadata": {},
   "outputs": [
    {
     "name": "stdout",
     "output_type": "stream",
     "text": [
      "loading dataset...\n",
      "('u', 'n', 'i', 't', 'e', 'd', '.', 'c', 'o', 'm', ' ', ' ', ' ', ' ', ' ', ' ', ' ', ' ', ' ', ' ', ' ', ' ', ' ', ' ', ' ', ' ', ' ', ' ', ' ', ' ', ' ', ' ')\n",
      "('e', 'r', 'o', 't', 'e', 'r', 'e', 's', 't', '.', 'n', 'e', 't', ' ', ' ', ' ', ' ', ' ', ' ', ' ', ' ', ' ', ' ', ' ', ' ', ' ', ' ', ' ', ' ', ' ', ' ', ' ')\n",
      "('k', 'i', 'j', 'i', 'j', 'i', '.', 'c', 'a', ' ', ' ', ' ', ' ', ' ', ' ', ' ', ' ', ' ', ' ', ' ', ' ', ' ', ' ', ' ', ' ', ' ', ' ', ' ', ' ', ' ', ' ', ' ')\n",
      "('s', 'c', 'i', 'e', 'n', 'c', 'e', 'd', 'i', 'r', 'e', 'c', 't', '.', 'c', 'o', 'm', ' ', ' ', ' ', ' ', ' ', ' ', ' ', ' ', ' ', ' ', ' ', ' ', ' ', ' ', ' ')\n",
      "('c', 'o', 'm', 'c', 'a', 's', 't', '.', 'n', 'e', 't', ' ', ' ', ' ', ' ', ' ', ' ', ' ', ' ', ' ', ' ', ' ', ' ', ' ', ' ', ' ', ' ', ' ', ' ', ' ', ' ', ' ')\n",
      "('l', 'i', 'n', 'k', 'e', 'd', 'i', 'n', '.', 'c', 'o', 'm', ' ', ' ', ' ', ' ', ' ', ' ', ' ', ' ', ' ', ' ', ' ', ' ', ' ', ' ', ' ', ' ', ' ', ' ', ' ', ' ')\n",
      "('r', 'e', 't', 'a', 'i', 'l', 'm', 'e', 'n', 'o', 't', '.', 'c', 'o', 'm', ' ', ' ', ' ', ' ', ' ', ' ', ' ', ' ', ' ', ' ', ' ', ' ', ' ', ' ', ' ', ' ', ' ')\n",
      "('g', 'o', 'o', 'g', 'l', 'e', '.', 'c', 'o', 'm', '.', 't', 'w', ' ', ' ', ' ', ' ', ' ', ' ', ' ', ' ', ' ', ' ', ' ', ' ', ' ', ' ', ' ', ' ', ' ', ' ', ' ')\n",
      "('b', 'l', 'e', 'a', 'c', 'h', 'e', 'r', 'r', 'e', 'p', 'o', 'r', 't', '.', 'c', 'o', 'm', ' ', ' ', ' ', ' ', ' ', ' ', ' ', ' ', ' ', ' ', ' ', ' ', ' ', ' ')\n",
      "('a', 'l', 'l', 'e', 'g', 'r', 'o', '.', 'p', 'l', ' ', ' ', ' ', ' ', ' ', ' ', ' ', ' ', ' ', ' ', ' ', ' ', ' ', ' ', ' ', ' ', ' ', ' ', ' ', ' ', ' ', ' ')\n",
      "('x', 'i', 'n', 'h', 'u', 'a', 'n', 'e', 't', '.', 'c', 'o', 'm', ' ', ' ', ' ', ' ', ' ', ' ', ' ', ' ', ' ', ' ', ' ', ' ', ' ', ' ', ' ', ' ', ' ', ' ', ' ')\n",
      "('c', 'a', 'm', 'b', 'r', 'i', 'd', 'g', 'e', '.', 'o', 'r', 'g', ' ', ' ', ' ', ' ', ' ', ' ', ' ', ' ', ' ', ' ', ' ', ' ', ' ', ' ', ' ', ' ', ' ', ' ', ' ')\n",
      "('e', '-', 'h', 'e', 'n', 't', 'a', 'i', '.', 'o', 'r', 'g', ' ', ' ', ' ', ' ', ' ', ' ', ' ', ' ', ' ', ' ', ' ', ' ', ' ', ' ', ' ', ' ', ' ', ' ', ' ', ' ')\n",
      "('b', 'o', 'x', '.', 'c', 'o', 'm', ' ', ' ', ' ', ' ', ' ', ' ', ' ', ' ', ' ', ' ', ' ', ' ', ' ', ' ', ' ', ' ', ' ', ' ', ' ', ' ', ' ', ' ', ' ', ' ', ' ')\n",
      "('k', 'i', 's', 's', 'a', 'n', 'i', 'm', 'e', '.', 't', 'o', ' ', ' ', ' ', ' ', ' ', ' ', ' ', ' ', ' ', ' ', ' ', ' ', ' ', ' ', ' ', ' ', ' ', ' ', ' ', ' ')\n",
      "('i', 'n', 't', 'e', 'r', 'i', 'a', '.', 'p', 'l', ' ', ' ', ' ', ' ', ' ', ' ', ' ', ' ', ' ', ' ', ' ', ' ', ' ', ' ', ' ', ' ', ' ', ' ', ' ', ' ', ' ', ' ')\n",
      "('g', 'o', 'o', 'g', 'l', 'e', '.', 'c', 'o', 'm', '.', 'p', 'k', ' ', ' ', ' ', ' ', ' ', ' ', ' ', ' ', ' ', ' ', ' ', ' ', ' ', ' ', ' ', ' ', ' ', ' ', ' ')\n",
      "('d', 'e', 't', 'a', 'i', 'l', '.', 't', 'm', 'a', 'l', 'l', '.', 'c', 'o', 'm', ' ', ' ', ' ', ' ', ' ', ' ', ' ', ' ', ' ', ' ', ' ', ' ', ' ', ' ', ' ', ' ')\n",
      "('e', 'y', 'n', 'y', '.', 'c', 'o', 'm', ' ', ' ', ' ', ' ', ' ', ' ', ' ', ' ', ' ', ' ', ' ', ' ', ' ', ' ', ' ', ' ', ' ', ' ', ' ', ' ', ' ', ' ', ' ', ' ')\n",
      "('p', 'a', 'y', 'p', 'a', 'l', '.', 'c', 'o', 'm', ' ', ' ', ' ', ' ', ' ', ' ', ' ', ' ', ' ', ' ', ' ', ' ', ' ', ' ', ' ', ' ', ' ', ' ', ' ', ' ', ' ', ' ')\n",
      "('y', 'a', 'd', 'i', '.', 's', 'k', ' ', ' ', ' ', ' ', ' ', ' ', ' ', ' ', ' ', ' ', ' ', ' ', ' ', ' ', ' ', ' ', ' ', ' ', ' ', ' ', ' ', ' ', ' ', ' ', ' ')\n",
      "('a', 'l', 'm', 'a', 's', 'r', 'y', 'a', 'l', 'y', 'o', 'u', 'm', '.', 'c', 'o', 'm', ' ', ' ', ' ', ' ', ' ', ' ', ' ', ' ', ' ', ' ', ' ', ' ', ' ', ' ', ' ')\n",
      "('o', 'f', 'f', 'i', 'c', 'e', '.', 'c', 'o', 'm', ' ', ' ', ' ', ' ', ' ', ' ', ' ', ' ', ' ', ' ', ' ', ' ', ' ', ' ', ' ', ' ', ' ', ' ', ' ', ' ', ' ', ' ')\n",
      "('b', 't', '.', 'c', 'o', 'm', ' ', ' ', ' ', ' ', ' ', ' ', ' ', ' ', ' ', ' ', ' ', ' ', ' ', ' ', ' ', ' ', ' ', ' ', ' ', ' ', ' ', ' ', ' ', ' ', ' ', ' ')\n",
      "('5', '1', '.', 'l', 'a', ' ', ' ', ' ', ' ', ' ', ' ', ' ', ' ', ' ', ' ', ' ', ' ', ' ', ' ', ' ', ' ', ' ', ' ', ' ', ' ', ' ', ' ', ' ', ' ', ' ', ' ', ' ')\n",
      "('b', 'u', 'z', 'z', 'f', 'i', 'l', '.', 'n', 'e', 't', ' ', ' ', ' ', ' ', ' ', ' ', ' ', ' ', ' ', ' ', ' ', ' ', ' ', ' ', ' ', ' ', ' ', ' ', ' ', ' ', ' ')\n",
      "('a', 'a', 's', 't', 'o', 'c', 'k', 's', '.', 'c', 'o', 'm', ' ', ' ', ' ', ' ', ' ', ' ', ' ', ' ', ' ', ' ', ' ', ' ', ' ', ' ', ' ', ' ', ' ', ' ', ' ', ' ')\n",
      "('g', 'o', 'o', 'g', 'l', 'e', '.', 'h', 'u', ' ', ' ', ' ', ' ', ' ', ' ', ' ', ' ', ' ', ' ', ' ', ' ', ' ', ' ', ' ', ' ', ' ', ' ', ' ', ' ', ' ', ' ', ' ')\n",
      "('4', 's', 'h', 'a', 'r', 'e', 'd', '.', 'c', 'o', 'm', ' ', ' ', ' ', ' ', ' ', ' ', ' ', ' ', ' ', ' ', ' ', ' ', ' ', ' ', ' ', ' ', ' ', ' ', ' ', ' ', ' ')\n",
      "('c', 'l', 'i', 'p', 'c', 'o', 'n', 'v', 'e', 'r', 't', 'e', 'r', '.', 'c', 'c', ' ', ' ', ' ', ' ', ' ', ' ', ' ', ' ', ' ', ' ', ' ', ' ', ' ', ' ', ' ', ' ')\n",
      "('a', 'v', 'i', 't', 'o', '.', 'r', 'u', ' ', ' ', ' ', ' ', ' ', ' ', ' ', ' ', ' ', ' ', ' ', ' ', ' ', ' ', ' ', ' ', ' ', ' ', ' ', ' ', ' ', ' ', ' ', ' ')\n",
      "('c', 'n', 'b', 'c', '.', 'c', 'o', 'm', ' ', ' ', ' ', ' ', ' ', ' ', ' ', ' ', ' ', ' ', ' ', ' ', ' ', ' ', ' ', ' ', ' ', ' ', ' ', ' ', ' ', ' ', ' ', ' ')\n",
      "('5', '1', 'y', 'e', 's', '.', 'c', 'o', 'm', ' ', ' ', ' ', ' ', ' ', ' ', ' ', ' ', ' ', ' ', ' ', ' ', ' ', ' ', ' ', ' ', ' ', ' ', ' ', ' ', ' ', ' ', ' ')\n",
      "('o', 'n', 'c', 'l', 'i', 'c', 'k', 'a', 'd', 's', '.', 'n', 'e', 't', ' ', ' ', ' ', ' ', ' ', ' ', ' ', ' ', ' ', ' ', ' ', ' ', ' ', ' ', ' ', ' ', ' ', ' ')\n",
      "('a', 'm', 'e', 'b', 'a', '.', 'j', 'p', ' ', ' ', ' ', ' ', ' ', ' ', ' ', ' ', ' ', ' ', ' ', ' ', ' ', ' ', ' ', ' ', ' ', ' ', ' ', ' ', ' ', ' ', ' ', ' ')\n",
      "('s', 'o', '-', 'n', 'e', 't', '.', 'n', 'e', '.', 'j', 'p', ' ', ' ', ' ', ' ', ' ', ' ', ' ', ' ', ' ', ' ', ' ', ' ', ' ', ' ', ' ', ' ', ' ', ' ', ' ', ' ')\n",
      "('n', 'd', 't', 'v', '.', 'c', 'o', 'm', ' ', ' ', ' ', ' ', ' ', ' ', ' ', ' ', ' ', ' ', ' ', ' ', ' ', ' ', ' ', ' ', ' ', ' ', ' ', ' ', ' ', ' ', ' ', ' ')\n",
      "('j', 'a', 'v', 'a', '.', 'c', 'o', 'm', ' ', ' ', ' ', ' ', ' ', ' ', ' ', ' ', ' ', ' ', ' ', ' ', ' ', ' ', ' ', ' ', ' ', ' ', ' ', ' ', ' ', ' ', ' ', ' ')\n",
      "('a', 'b', 'r', 'i', 'l', '.', 'c', 'o', 'm', '.', 'b', 'r', ' ', ' ', ' ', ' ', ' ', ' ', ' ', ' ', ' ', ' ', ' ', ' ', ' ', ' ', ' ', ' ', ' ', ' ', ' ', ' ')\n",
      "('t', 'i', 'm', 'e', 'a', 'n', 'd', 'd', 'a', 't', 'e', '.', 'c', 'o', 'm', ' ', ' ', ' ', ' ', ' ', ' ', ' ', ' ', ' ', ' ', ' ', ' ', ' ', ' ', ' ', ' ', ' ')\n",
      "('g', 'o', 'o', 'g', 'l', 'e', '.', 'c', 'o', 'm', '.', 'p', 'h', ' ', ' ', ' ', ' ', ' ', ' ', ' ', ' ', ' ', ' ', ' ', ' ', ' ', ' ', ' ', ' ', ' ', ' ', ' ')\n",
      "('i', 'n', 'v', 'e', 's', 't', 'o', 'p', 'e', 'd', 'i', 'a', '.', 'c', 'o', 'm', ' ', ' ', ' ', ' ', ' ', ' ', ' ', ' ', ' ', ' ', ' ', ' ', ' ', ' ', ' ', ' ')\n",
      "('w', 'a', 's', 'h', 'i', 'n', 'g', 't', 'o', 'n', 'p', 'o', 's', 't', '.', 'c', 'o', 'm', ' ', ' ', ' ', ' ', ' ', ' ', ' ', ' ', ' ', ' ', ' ', ' ', ' ', ' ')\n",
      "('p', 'a', 'y', 't', 'm', '.', 'c', 'o', 'm', ' ', ' ', ' ', ' ', ' ', ' ', ' ', ' ', ' ', ' ', ' ', ' ', ' ', ' ', ' ', ' ', ' ', ' ', ' ', ' ', ' ', ' ', ' ')\n",
      "('a', 'l', 'l', 'r', 'e', 'c', 'i', 'p', 'e', 's', '.', 'c', 'o', 'm', ' ', ' ', ' ', ' ', ' ', ' ', ' ', ' ', ' ', ' ', ' ', ' ', ' ', ' ', ' ', ' ', ' ', ' ')\n",
      "('s', 't', 'e', 'a', 'm', 'p', 'o', 'w', 'e', 'r', 'e', 'd', '.', 'c', 'o', 'm', ' ', ' ', ' ', ' ', ' ', ' ', ' ', ' ', ' ', ' ', ' ', ' ', ' ', ' ', ' ', ' ')\n",
      "('g', 'o', 'o', 'g', 'l', 'e', '.', 'c', 'n', ' ', ' ', ' ', ' ', ' ', ' ', ' ', ' ', ' ', ' ', ' ', ' ', ' ', ' ', ' ', ' ', ' ', ' ', ' ', ' ', ' ', ' ', ' ')\n",
      "('c', 'a', 'r', 'v', 'i', 'e', 'w', '.', 'c', 'o', '.', 'j', 'p', ' ', ' ', ' ', ' ', ' ', ' ', ' ', ' ', ' ', ' ', ' ', ' ', ' ', ' ', ' ', ' ', ' ', ' ', ' ')\n",
      "('j', 'd', '.', 'c', 'o', 'm', ' ', ' ', ' ', ' ', ' ', ' ', ' ', ' ', ' ', ' ', ' ', ' ', ' ', ' ', ' ', ' ', ' ', ' ', ' ', ' ', ' ', ' ', ' ', ' ', ' ', ' ')\n",
      "('p', 'r', 'j', 'c', 'q', '.', 'c', 'o', 'm', ' ', ' ', ' ', ' ', ' ', ' ', ' ', ' ', ' ', ' ', ' ', ' ', ' ', ' ', ' ', ' ', ' ', ' ', ' ', ' ', ' ', ' ', ' ')\n",
      "('d', 'i', 'c', 't', 'i', 'o', 'n', 'a', 'r', 'y', '.', 'c', 'o', 'm', ' ', ' ', ' ', ' ', ' ', ' ', ' ', ' ', ' ', ' ', ' ', ' ', ' ', ' ', ' ', ' ', ' ', ' ')\n",
      "('w', 'i', 'k', 'i', 'w', 'i', 'k', 'i', '.', 'j', 'p', ' ', ' ', ' ', ' ', ' ', ' ', ' ', ' ', ' ', ' ', ' ', ' ', ' ', ' ', ' ', ' ', ' ', ' ', ' ', ' ', ' ')\n",
      "('e', 'x', 'o', 'c', 'l', 'i', 'c', 'k', '.', 'c', 'o', 'm', ' ', ' ', ' ', ' ', ' ', ' ', ' ', ' ', ' ', ' ', ' ', ' ', ' ', ' ', ' ', ' ', ' ', ' ', ' ', ' ')\n",
      "('s', 'o', 'h', 'u', '.', 'c', 'o', 'm', ' ', ' ', ' ', ' ', ' ', ' ', ' ', ' ', ' ', ' ', ' ', ' ', ' ', ' ', ' ', ' ', ' ', ' ', ' ', ' ', ' ', ' ', ' ', ' ')\n",
      "('i', 'p', 'l', 't', '2', '0', '.', 'c', 'o', 'm', ' ', ' ', ' ', ' ', ' ', ' ', ' ', ' ', ' ', ' ', ' ', ' ', ' ', ' ', ' ', ' ', ' ', ' ', ' ', ' ', ' ', ' ')\n",
      "('i', 'f', 'e', 'n', 'g', '.', 'c', 'o', 'm', ' ', ' ', ' ', ' ', ' ', ' ', ' ', ' ', ' ', ' ', ' ', ' ', ' ', ' ', ' ', ' ', ' ', ' ', ' ', ' ', ' ', ' ', ' ')\n",
      "('g', 'i', 'z', 'm', 'o', 'd', 'o', '.', 'c', 'o', 'm', ' ', ' ', ' ', ' ', ' ', ' ', ' ', ' ', ' ', ' ', ' ', ' ', ' ', ' ', ' ', ' ', ' ', ' ', ' ', ' ', ' ')\n",
      "('w', 'e', 'a', 't', 'h', 'e', 'r', '.', 'c', 'o', 'm', ' ', ' ', ' ', ' ', ' ', ' ', ' ', ' ', ' ', ' ', ' ', ' ', ' ', ' ', ' ', ' ', ' ', ' ', ' ', ' ', ' ')\n",
      "('z', 'o', 'm', 'a', 't', 'o', '.', 'c', 'o', 'm', ' ', ' ', ' ', ' ', ' ', ' ', ' ', ' ', ' ', ' ', ' ', ' ', ' ', ' ', ' ', ' ', ' ', ' ', ' ', ' ', ' ', ' ')\n",
      "('d', 'm', 'm', '.', 'c', 'o', '.', 'j', 'p', ' ', ' ', ' ', ' ', ' ', ' ', ' ', ' ', ' ', ' ', ' ', ' ', ' ', ' ', ' ', ' ', ' ', ' ', ' ', ' ', ' ', ' ', ' ')\n",
      "('w', 'h', 'a', 't', 's', 'a', 'p', 'p', '.', 'c', 'o', 'm', ' ', ' ', ' ', ' ', ' ', ' ', ' ', ' ', ' ', ' ', ' ', ' ', ' ', ' ', ' ', ' ', ' ', ' ', ' ', ' ')\n",
      "('i', 'n', 'd', 'i', 'a', 'r', 'e', 's', 'u', 'l', 't', 's', '.', 'c', 'o', 'm', ' ', ' ', ' ', ' ', ' ', ' ', ' ', ' ', ' ', ' ', ' ', ' ', ' ', ' ', ' ', ' ')\n",
      "('s', 't', 'a', 'p', 'l', 'e', 's', '.', 'c', 'o', 'm', ' ', ' ', ' ', ' ', ' ', ' ', ' ', ' ', ' ', ' ', ' ', ' ', ' ', ' ', ' ', ' ', ' ', ' ', ' ', ' ', ' ')\n",
      "('s', 't', 'a', 'c', 'k', 'e', 'x', 'c', 'h', 'a', 'n', 'g', 'e', '.', 'c', 'o', 'm', ' ', ' ', ' ', ' ', ' ', ' ', ' ', ' ', ' ', ' ', ' ', ' ', ' ', ' ', ' ')\n",
      "('i', 'q', 'i', 'y', 'i', '.', 'c', 'o', 'm', ' ', ' ', ' ', ' ', ' ', ' ', ' ', ' ', ' ', ' ', ' ', ' ', ' ', ' ', ' ', ' ', ' ', ' ', ' ', ' ', ' ', ' ', ' ')\n",
      "('e', 'l', 'w', 'a', 't', 'a', 'n', 'n', 'e', 'w', 's', '.', 'c', 'o', 'm', ' ', ' ', ' ', ' ', ' ', ' ', ' ', ' ', ' ', ' ', ' ', ' ', ' ', ' ', ' ', ' ', ' ')\n",
      "('t', 'h', 'e', 'l', 'a', 'd', 'b', 'i', 'b', 'l', 'e', '.', 'c', 'o', 'm', ' ', ' ', ' ', ' ', ' ', ' ', ' ', ' ', ' ', ' ', ' ', ' ', ' ', ' ', ' ', ' ', ' ')\n",
      "('w', 'o', 'r', 'd', 'p', 'r', 'e', 's', 's', '.', 'c', 'o', 'm', ' ', ' ', ' ', ' ', ' ', ' ', ' ', ' ', ' ', ' ', ' ', ' ', ' ', ' ', ' ', ' ', ' ', ' ', ' ')\n",
      "('s', 'p', 'e', 'e', 'd', 't', 'e', 's', 't', '.', 'n', 'e', 't', ' ', ' ', ' ', ' ', ' ', ' ', ' ', ' ', ' ', ' ', ' ', ' ', ' ', ' ', ' ', ' ', ' ', ' ', ' ')\n",
      "('c', 'i', 's', 'c', 'o', '.', 'c', 'o', 'm', ' ', ' ', ' ', ' ', ' ', ' ', ' ', ' ', ' ', ' ', ' ', ' ', ' ', ' ', ' ', ' ', ' ', ' ', ' ', ' ', ' ', ' ', ' ')\n",
      "('g', 'o', 'o', 'g', 'l', 'e', '.', 'c', 'o', 'm', '.', 'u', 'a', ' ', ' ', ' ', ' ', ' ', ' ', ' ', ' ', ' ', ' ', ' ', ' ', ' ', ' ', ' ', ' ', ' ', ' ', ' ')\n",
      "('t', 'o', 'r', 'c', 'a', 'c', 'h', 'e', '.', 'n', 'e', 't', ' ', ' ', ' ', ' ', ' ', ' ', ' ', ' ', ' ', ' ', ' ', ' ', ' ', ' ', ' ', ' ', ' ', ' ', ' ', ' ')\n",
      "('g', 'i', 't', 'h', 'u', 'b', '.', 'c', 'o', 'm', ' ', ' ', ' ', ' ', ' ', ' ', ' ', ' ', ' ', ' ', ' ', ' ', ' ', ' ', ' ', ' ', ' ', ' ', ' ', ' ', ' ', ' ')\n",
      "('g', 's', 'm', 'a', 'r', 'e', 'n', 'a', '.', 'c', 'o', 'm', ' ', ' ', ' ', ' ', ' ', ' ', ' ', ' ', ' ', ' ', ' ', ' ', ' ', ' ', ' ', ' ', ' ', ' ', ' ', ' ')\n",
      "('f', 'o', 'l', 'h', 'a', '.', 'u', 'o', 'l', '.', 'c', 'o', 'm', '.', 'b', 'r', ' ', ' ', ' ', ' ', ' ', ' ', ' ', ' ', ' ', ' ', ' ', ' ', ' ', ' ', ' ', ' ')\n",
      "('g', 'a', 'm', 'e', 'p', 'e', 'd', 'i', 'a', '.', 'c', 'o', 'm', ' ', ' ', ' ', ' ', ' ', ' ', ' ', ' ', ' ', ' ', ' ', ' ', ' ', ' ', ' ', ' ', ' ', ' ', ' ')\n",
      "('g', 'o', 'o', 'g', 'l', 'e', '.', 'c', 'a', ' ', ' ', ' ', ' ', ' ', ' ', ' ', ' ', ' ', ' ', ' ', ' ', ' ', ' ', ' ', ' ', ' ', ' ', ' ', ' ', ' ', ' ', ' ')\n",
      "('i', 'n', 's', 't', 'a', 'g', 'r', 'a', 'm', '.', 'c', 'o', 'm', ' ', ' ', ' ', ' ', ' ', ' ', ' ', ' ', ' ', ' ', ' ', ' ', ' ', ' ', ' ', ' ', ' ', ' ', ' ')\n",
      "('g', 'm', 'x', '.', 'n', 'e', 't', ' ', ' ', ' ', ' ', ' ', ' ', ' ', ' ', ' ', ' ', ' ', ' ', ' ', ' ', ' ', ' ', ' ', ' ', ' ', ' ', ' ', ' ', ' ', ' ', ' ')\n",
      "('r', 'e', 'd', 't', 'u', 'b', 'e', '.', 'c', 'o', 'm', ' ', ' ', ' ', ' ', ' ', ' ', ' ', ' ', ' ', ' ', ' ', ' ', ' ', ' ', ' ', ' ', ' ', ' ', ' ', ' ', ' ')\n",
      "('e', 't', 's', 'y', '.', 'c', 'o', 'm', ' ', ' ', ' ', ' ', ' ', ' ', ' ', ' ', ' ', ' ', ' ', ' ', ' ', ' ', ' ', ' ', ' ', ' ', ' ', ' ', ' ', ' ', ' ', ' ')\n",
      "('e', 'b', 'a', 'y', '.', 'f', 'r', ' ', ' ', ' ', ' ', ' ', ' ', ' ', ' ', ' ', ' ', ' ', ' ', ' ', ' ', ' ', ' ', ' ', ' ', ' ', ' ', ' ', ' ', ' ', ' ', ' ')\n",
      "('a', 'b', 'c', 'n', 'e', 'w', 's', '.', 'g', 'o', '.', 'c', 'o', 'm', ' ', ' ', ' ', ' ', ' ', ' ', ' ', ' ', ' ', ' ', ' ', ' ', ' ', ' ', ' ', ' ', ' ', ' ')\n",
      "('t', 'o', 'p', 'i', 'x', '.', 'c', 'o', 'm', ' ', ' ', ' ', ' ', ' ', ' ', ' ', ' ', ' ', ' ', ' ', ' ', ' ', ' ', ' ', ' ', ' ', ' ', ' ', ' ', ' ', ' ', ' ')\n",
      "('b', 'i', 'o', 'b', 'i', 'o', 'c', 'h', 'i', 'l', 'e', '.', 'c', 'l', ' ', ' ', ' ', ' ', ' ', ' ', ' ', ' ', ' ', ' ', ' ', ' ', ' ', ' ', ' ', ' ', ' ', ' ')\n",
      "('n', 'a', 'm', 'e', 't', 'e', 's', 't', 's', '.', 'c', 'o', 'm', ' ', ' ', ' ', ' ', ' ', ' ', ' ', ' ', ' ', ' ', ' ', ' ', ' ', ' ', ' ', ' ', ' ', ' ', ' ')\n",
      "('i', 'n', 'f', 'o', 's', 'e', 'e', 'k', '.', 'c', 'o', '.', 'j', 'p', ' ', ' ', ' ', ' ', ' ', ' ', ' ', ' ', ' ', ' ', ' ', ' ', ' ', ' ', ' ', ' ', ' ', ' ')\n",
      "('b', 'l', 'a', 'c', 'k', 'b', 'o', 'a', 'r', 'd', '.', 'c', 'o', 'm', ' ', ' ', ' ', ' ', ' ', ' ', ' ', ' ', ' ', ' ', ' ', ' ', ' ', ' ', ' ', ' ', ' ', ' ')\n",
      "('a', 'b', 'o', 'u', 't', '.', 'c', 'o', 'm', ' ', ' ', ' ', ' ', ' ', ' ', ' ', ' ', ' ', ' ', ' ', ' ', ' ', ' ', ' ', ' ', ' ', ' ', ' ', ' ', ' ', ' ', ' ')\n",
      "('d', 'r', 'o', 'm', '.', 'r', 'u', ' ', ' ', ' ', ' ', ' ', ' ', ' ', ' ', ' ', ' ', ' ', ' ', ' ', ' ', ' ', ' ', ' ', ' ', ' ', ' ', ' ', ' ', ' ', ' ', ' ')\n",
      "('g', 'a', 'z', 'e', 't', 'a', 'e', 'x', 'p', 'r', 'e', 's', 's', '.', 'c', 'o', 'm', ' ', ' ', ' ', ' ', ' ', ' ', ' ', ' ', ' ', ' ', ' ', ' ', ' ', ' ', ' ')\n",
      "('b', 'u', 'y', '.', 't', 'm', 'a', 'l', 'l', '.', 'c', 'o', 'm', ' ', ' ', ' ', ' ', ' ', ' ', ' ', ' ', ' ', ' ', ' ', ' ', ' ', ' ', ' ', ' ', ' ', ' ', ' ')\n",
      "('o', 'n', 'c', 'l', 'i', 'c', 'k', 'p', 'r', 'e', 'd', 'i', 'c', 't', 'i', 'v', '.', 'c', 'o', 'm', ' ', ' ', ' ', ' ', ' ', ' ', ' ', ' ', ' ', ' ', ' ', ' ')\n",
      "('t', 's', 'i', 't', 'e', '.', 'j', 'p', ' ', ' ', ' ', ' ', ' ', ' ', ' ', ' ', ' ', ' ', ' ', ' ', ' ', ' ', ' ', ' ', ' ', ' ', ' ', ' ', ' ', ' ', ' ', ' ')\n",
      "('t', 'o', 'k', 'o', 'p', 'e', 'd', 'i', 'a', '.', 'c', 'o', 'm', ' ', ' ', ' ', ' ', ' ', ' ', ' ', ' ', ' ', ' ', ' ', ' ', ' ', ' ', ' ', ' ', ' ', ' ', ' ')\n",
      "('g', 'o', 'o', 'g', 'l', 'e', '.', 'r', 'u', ' ', ' ', ' ', ' ', ' ', ' ', ' ', ' ', ' ', ' ', ' ', ' ', ' ', ' ', ' ', ' ', ' ', ' ', ' ', ' ', ' ', ' ', ' ')\n",
      "('y', 'j', 'c', '.', 'i', 'r', ' ', ' ', ' ', ' ', ' ', ' ', ' ', ' ', ' ', ' ', ' ', ' ', ' ', ' ', ' ', ' ', ' ', ' ', ' ', ' ', ' ', ' ', ' ', ' ', ' ', ' ')\n",
      "('n', 'y', 'a', 'a', '.', 's', 'e', ' ', ' ', ' ', ' ', ' ', ' ', ' ', ' ', ' ', ' ', ' ', ' ', ' ', ' ', ' ', ' ', ' ', ' ', ' ', ' ', ' ', ' ', ' ', ' ', ' ')\n",
      "('t', 'h', 'e', 'w', 'h', 'i', 'z', 'm', 'a', 'r', 'k', 'e', 't', 'i', 'n', 'g', '.', 'c', 'o', 'm', ' ', ' ', ' ', ' ', ' ', ' ', ' ', ' ', ' ', ' ', ' ', ' ')\n",
      "('f', 'l', 'i', 'c', 'k', 'r', '.', 'c', 'o', 'm', ' ', ' ', ' ', ' ', ' ', ' ', ' ', ' ', ' ', ' ', ' ', ' ', ' ', ' ', ' ', ' ', ' ', ' ', ' ', ' ', ' ', ' ')\n",
      "loaded 1000 lines in dataset\n"
     ]
    }
   ],
   "source": [
    "#lib.print_model_settings(locals().copy())\n",
    "\n",
    "lines, charmap, inv_charmap = language_helpers.load_dataset(\n",
    "    max_length=SEQ_LEN,\n",
    "    max_n_examples=MAX_N_EXAMPLES,\n",
    "    data_dir=DATA_DIR\n",
    ")"
   ]
  },
  {
   "cell_type": "code",
   "execution_count": 4,
   "metadata": {
    "collapsed": true
   },
   "outputs": [],
   "source": [
    "def softmax(logits):\n",
    "    return tf.reshape(\n",
    "        tf.nn.softmax(\n",
    "            tf.reshape(logits, [-1, len(charmap)])\n",
    "        ),\n",
    "        tf.shape(logits)\n",
    "    )"
   ]
  },
  {
   "cell_type": "code",
   "execution_count": 5,
   "metadata": {
    "collapsed": true
   },
   "outputs": [],
   "source": [
    "def make_noise(shape):\n",
    "    return tf.random_normal(shape)"
   ]
  },
  {
   "cell_type": "code",
   "execution_count": 6,
   "metadata": {
    "collapsed": true
   },
   "outputs": [],
   "source": [
    "def ResBlock(name, inputs):\n",
    "    output = inputs\n",
    "    output = tf.nn.relu(output)\n",
    "    output = lib.ops.conv1d.Conv1D(name+'.1', DIM, DIM, 5, output)\n",
    "    output = tf.nn.relu(output)\n",
    "    output = lib.ops.conv1d.Conv1D(name+'.2', DIM, DIM, 5, output)\n",
    "    return inputs + (0.3*output)"
   ]
  },
  {
   "cell_type": "code",
   "execution_count": 7,
   "metadata": {
    "collapsed": true
   },
   "outputs": [],
   "source": [
    "def Generator(n_samples, prev_outputs=None):\n",
    "    output = make_noise(shape=[n_samples, 128])\n",
    "    output = lib.ops.linear.Linear('Generator.Input', 128, SEQ_LEN*DIM, output)\n",
    "    output = tf.reshape(output, [-1, DIM, SEQ_LEN])\n",
    "    output = ResBlock('Generator.1', output)\n",
    "    output = ResBlock('Generator.2', output)\n",
    "    output = ResBlock('Generator.3', output)\n",
    "    output = ResBlock('Generator.4', output)\n",
    "    output = ResBlock('Generator.5', output)\n",
    "    output = lib.ops.conv1d.Conv1D('Generator.Output', DIM, len(charmap), 1, output)\n",
    "    output = tf.transpose(output, [0, 2, 1])\n",
    "    output = softmax(output)\n",
    "    return output"
   ]
  },
  {
   "cell_type": "code",
   "execution_count": 8,
   "metadata": {
    "collapsed": true
   },
   "outputs": [],
   "source": [
    "def Discriminator(inputs):\n",
    "    output = tf.transpose(inputs, [0,2,1])\n",
    "    output = lib.ops.conv1d.Conv1D('Discriminator.Input', len(charmap), DIM, 1, output)\n",
    "    output = ResBlock('Discriminator.1', output)\n",
    "    output = ResBlock('Discriminator.2', output)\n",
    "    output = ResBlock('Discriminator.3', output)\n",
    "    output = ResBlock('Discriminator.4', output)\n",
    "    output = ResBlock('Discriminator.5', output)\n",
    "    output = tf.reshape(output, [-1, SEQ_LEN*DIM])\n",
    "    output = lib.ops.linear.Linear('Discriminator.Output', SEQ_LEN*DIM, 1, output)\n",
    "    return output"
   ]
  },
  {
   "cell_type": "code",
   "execution_count": 9,
   "metadata": {
    "collapsed": true
   },
   "outputs": [],
   "source": [
    "real_inputs_discrete = tf.placeholder(tf.int32, shape=[BATCH_SIZE, SEQ_LEN])\n",
    "real_inputs = tf.one_hot(real_inputs_discrete, len(charmap))\n",
    "fake_inputs = Generator(BATCH_SIZE)\n",
    "fake_inputs_discrete = tf.argmax(fake_inputs, fake_inputs.get_shape().ndims-1)"
   ]
  },
  {
   "cell_type": "code",
   "execution_count": 10,
   "metadata": {
    "collapsed": true
   },
   "outputs": [],
   "source": [
    "disc_real = Discriminator(real_inputs) \n",
    "disc_fake = Discriminator(fake_inputs)"
   ]
  },
  {
   "cell_type": "code",
   "execution_count": 11,
   "metadata": {
    "collapsed": true
   },
   "outputs": [],
   "source": [
    "disc_cost = tf.reduce_mean(disc_fake) - tf.reduce_mean(disc_real)\n",
    "gen_cost = -tf.reduce_mean(disc_fake)"
   ]
  },
  {
   "cell_type": "code",
   "execution_count": 12,
   "metadata": {
    "collapsed": true
   },
   "outputs": [],
   "source": [
    "# WGAN lipschitz-penalty\n",
    "alpha = tf.random_uniform(\n",
    "    shape=[BATCH_SIZE,1,1], \n",
    "    minval=0.,\n",
    "    maxval=1.\n",
    ")"
   ]
  },
  {
   "cell_type": "code",
   "execution_count": 13,
   "metadata": {
    "collapsed": true
   },
   "outputs": [],
   "source": [
    "differences = fake_inputs - real_inputs\n",
    "interpolates = real_inputs + (alpha*differences)\n",
    "gradients = tf.gradients(Discriminator(interpolates), [interpolates])[0]\n",
    "slopes = tf.sqrt(tf.reduce_sum(tf.square(gradients), reduction_indices=[1,2]))\n",
    "gradient_penalty = tf.reduce_mean((slopes-1.)**2)\n",
    "disc_cost += LAMBDA*gradient_penalty"
   ]
  },
  {
   "cell_type": "code",
   "execution_count": 14,
   "metadata": {
    "collapsed": true
   },
   "outputs": [],
   "source": [
    "gen_params = lib.params_with_name('Generator')\n",
    "disc_params = lib.params_with_name('Discriminator')"
   ]
  },
  {
   "cell_type": "code",
   "execution_count": 15,
   "metadata": {
    "collapsed": true
   },
   "outputs": [],
   "source": [
    "gen_train_op = tf.train.AdamOptimizer(learning_rate=1e-4, beta1=0.5, beta2=0.9).minimize(gen_cost, var_list=gen_params)\n",
    "disc_train_op = tf.train.AdamOptimizer(learning_rate=1e-4, beta1=0.5, beta2=0.9).minimize(disc_cost, var_list=disc_params)"
   ]
  },
  {
   "cell_type": "code",
   "execution_count": 16,
   "metadata": {
    "collapsed": true
   },
   "outputs": [],
   "source": [
    "# Dataset iterator\n",
    "def inf_train_gen():\n",
    "    while True:\n",
    "        np.random.shuffle(lines)\n",
    "        for i in range(0, len(lines)-BATCH_SIZE+1, BATCH_SIZE):\n",
    "            yield np.array(\n",
    "                [[charmap[c] for c in l] for l in lines[i:i+BATCH_SIZE]], \n",
    "                dtype='int32'\n",
    "            )"
   ]
  },
  {
   "cell_type": "code",
   "execution_count": null,
   "metadata": {},
   "outputs": [
    {
     "name": "stdout",
     "output_type": "stream",
     "text": [
      "validation set JSD for n=1: 0.001297849581138852\n",
      "validation set JSD for n=2: 0.02030933144030976\n",
      "validation set JSD for n=3: 0.10088167671332865\n",
      "validation set JSD for n=4: 0.15864484230149675\n"
     ]
    }
   ],
   "source": [
    "# During training we monitor JS divergence between the true & generated ngram\n",
    "# distributions for n=1,2,3,4. To get an idea of the optimal values, we\n",
    "# evaluate these statistics on a held-out set first.\n",
    "\n",
    "true_char_ngram_lms = [language_helpers.NgramLanguageModel(i+1, lines[10*BATCH_SIZE:], tokenize=False) for i in range(4)]\n",
    "validation_char_ngram_lms = [language_helpers.NgramLanguageModel(i+1, lines[:10*BATCH_SIZE], tokenize=False) for i in range(4)]\n",
    "for i in range(4):\n",
    "    print ( \"validation set JSD for n={}: {}\".format(i+1, true_char_ngram_lms[i].js_with(validation_char_ngram_lms[i])) )\n",
    "true_char_ngram_lms = [language_helpers.NgramLanguageModel(i+1, lines, tokenize=False) for i in range(4)]"
   ]
  },
  {
   "cell_type": "code",
   "execution_count": null,
   "metadata": {},
   "outputs": [
    {
     "name": "stdout",
     "output_type": "stream",
     "text": [
      "[Start]\n",
      "   1.9% Done! [Iteration]:         20 [20x iterations time   ]:      39.23 secs [SUM]:      39.23 secs\n",
      "   3.9% Done! [Iteration]:         40 [20x iterations time   ]:      38.46 secs [SUM]:      77.69 secs\n",
      "   5.9% Done! [Iteration]:         60 [20x iterations time   ]:      38.55 secs [SUM]:     116.23 secs\n",
      "   7.9% Done! [Iteration]:         80 [20x iterations time   ]:      38.63 secs [SUM]:     154.86 secs\n",
      "   9.9% Done! [Iteration]:        100 [20x iterations time   ]:      38.64 secs [SUM]:     193.50 secs\n",
      "1.2e+01% Done! [Iteration]:        120 [20x iterations time   ]:      38.66 secs [SUM]:     232.17secs\n",
      "1.4e+01% Done! [Iteration]:        140 [20x iterations time   ]:      38.63 secs [SUM]:     270.79secs\n",
      "1.6e+01% Done! [Iteration]:        160 [20x iterations time   ]:      38.60 secs [SUM]:     309.39secs\n",
      "1.8e+01% Done! [Iteration]:        180 [20x iterations time   ]:      38.66 secs [SUM]:     348.05secs\n",
      " 2e+01% Done! [Iteration]:        200 [20x iterations time   ]:      38.63 secs [SUM]:     386.68 secs\n",
      "2.2e+01% Done! [Iteration]:        220 [20x iterations time   ]:      38.63 secs [SUM]:     425.31secs\n",
      "2.4e+01% Done! [Iteration]:        240 [20x iterations time   ]:      38.70 secs [SUM]:     464.01secs\n",
      "2.6e+01% Done! [Iteration]:        260 [20x iterations time   ]:      38.79 secs [SUM]:     502.80secs\n",
      "2.8e+01% Done! [Iteration]:        280 [20x iterations time   ]:      39.01 secs [SUM]:     541.81secs\n",
      " 3e+01% Done! [Iteration]:        300 [20x iterations time   ]:      38.92 secs [SUM]:     580.73 secs\n",
      "3.2e+01% Done! [Iteration]:        320 [20x iterations time   ]:      39.00 secs [SUM]:     619.73secs\n",
      "3.4e+01% Done! [Iteration]:        340 [20x iterations time   ]:      39.01 secs [SUM]:     658.74secs\n",
      "3.6e+01% Done! [Iteration]:        360 [20x iterations time   ]:      39.03 secs [SUM]:     697.77secs\n",
      "3.8e+01% Done! [Iteration]:        380 [20x iterations time   ]:      39.05 secs [SUM]:     736.81secs\n",
      " 4e+01% Done! [Iteration]:        400 [20x iterations time   ]:      38.91 secs [SUM]:     775.73 secs\n",
      "4.2e+01% Done! [Iteration]:        420 [20x iterations time   ]:      39.02 secs [SUM]:     814.75secs\n",
      "4.4e+01% Done! [Iteration]:        440 [20x iterations time   ]:      39.17 secs [SUM]:     853.92secs\n",
      "4.6e+01% Done! [Iteration]:        460 [20x iterations time   ]:      39.19 secs [SUM]:     893.11secs\n",
      "4.8e+01% Done! [Iteration]:        480 [20x iterations time   ]:      39.33 secs [SUM]:     932.44secs\n",
      " 5e+01% Done! [Iteration]:        500 [20x iterations time   ]:      39.38 secs [SUM]:     971.82 secs\n",
      "5.2e+01% Done! [Iteration]:        520 [20x iterations time   ]:      39.26 secs [SUM]:    1011.08secs\n",
      "5.4e+01% Done! [Iteration]:        540 [20x iterations time   ]:      39.18 secs [SUM]:    1050.26secs\n",
      "5.6e+01% Done! [Iteration]:        560 [20x iterations time   ]:      39.18 secs [SUM]:    1089.44secs\n",
      "5.8e+01% Done! [Iteration]:        580 [20x iterations time   ]:      38.89 secs [SUM]:    1128.34secs\n",
      " 6e+01% Done! [Iteration]:        600 [20x iterations time   ]:      38.87 secs [SUM]:    1167.20 secs\n",
      "6.2e+01% Done! [Iteration]:        620 [20x iterations time   ]:      38.87 secs [SUM]:    1206.08secs\n",
      "6.4e+01% Done! [Iteration]:        640 [20x iterations time   ]:      39.17 secs [SUM]:    1245.25secs\n",
      "6.6e+01% Done! [Iteration]:        660 [20x iterations time   ]:      39.03 secs [SUM]:    1284.28secs\n",
      "6.8e+01% Done! [Iteration]:        680 [20x iterations time   ]:      38.85 secs [SUM]:    1323.12secs\n",
      " 7e+01% Done! [Iteration]:        700 [20x iterations time   ]:      38.90 secs [SUM]:    1362.03 secs\n",
      "7.2e+01% Done! [Iteration]:        720 [20x iterations time   ]:      38.99 secs [SUM]:    1401.01secs\n",
      "7.4e+01% Done! [Iteration]:        740 [20x iterations time   ]:      39.02 secs [SUM]:    1440.03secs\n",
      "7.6e+01% Done! [Iteration]:        760 [20x iterations time   ]:      38.89 secs [SUM]:    1478.92secs\n",
      "7.8e+01% Done! [Iteration]:        780 [20x iterations time   ]:      38.98 secs [SUM]:    1517.89secs\n",
      " 8e+01% Done! [Iteration]:        800 [20x iterations time   ]:      39.07 secs [SUM]:    1556.97 secs\n",
      "8.2e+01% Done! [Iteration]:        820 [20x iterations time   ]:      39.05 secs [SUM]:    1596.01secs\n",
      "8.4e+01% Done! [Iteration]:        840 [20x iterations time   ]:      39.04 secs [SUM]:    1635.05secs\n",
      "8.6e+01% Done! [Iteration]:        860 [20x iterations time   ]:      39.03 secs [SUM]:    1674.08secs\n",
      "8.8e+01% Done! [Iteration]:        880 [20x iterations time   ]:      39.05 secs [SUM]:    1713.13secs\n",
      " 9e+01% Done! [Iteration]:        900 [20x iterations time   ]:      38.99 secs [SUM]:    1752.12 secs\n",
      " [****      ] [Iteration]:        907 [Unit iteration time   ]:       1.92 secs [ETA]:     180.93 secs\r"
     ]
    }
   ],
   "source": [
    "with tf.Session() as session:\n",
    "\n",
    "    session.run(tf.global_variables_initializer())\n",
    "\n",
    "    def generate_samples():\n",
    "        samples = session.run(fake_inputs)\n",
    "        samples = np.argmax(samples, axis=2)\n",
    "        decoded_samples = []\n",
    "        for i in range(len(samples)):\n",
    "            decoded = []\n",
    "            for j in range(len(samples[i])):\n",
    "                decoded.append(inv_charmap[samples[i][j]])\n",
    "            decoded_samples.append(tuple(decoded))\n",
    "        return decoded_samples\n",
    "\n",
    "    gen = inf_train_gen()\n",
    "\n",
    "    sum_time = 0.\n",
    "    line_time = 0. \n",
    "    loading_str = \"*\"\n",
    "    for iteration in range(ITERS):\n",
    "        start_time = time.time()\n",
    "        \n",
    "        if (iteration == 0):\n",
    "            now_time = time.clock()\n",
    "            print(\"[Start]\")\n",
    "\n",
    "        # Train generator\n",
    "        if iteration > 0:\n",
    "            _ = session.run(gen_train_op)\n",
    "\n",
    "        # Train critic\n",
    "        for i in range(CRITIC_ITERS):\n",
    "            _data = gen.__next__()\n",
    "            _disc_cost, _ = session.run(\n",
    "                [disc_cost, disc_train_op],\n",
    "                feed_dict={real_inputs_discrete:_data}\n",
    "            )\n",
    "\n",
    "        # How many iterations to change line \n",
    "        change_line=int(ITERS/500)\n",
    "        \n",
    "        after_time=time.clock() - now_time\n",
    "        sum_time+=after_time\n",
    "        eta_time = (ITERS-iteration)*(after_time)\n",
    "        \n",
    "        print(\" [{1:10}] [Iteration]: {0:10} [Unit iteration time   ]: {2:10.2f} secs [ETA]: {3:10.2f} secs\".format( (iteration+1), loading_str, after_time, eta_time) , end=\"\\r\")\n",
    "        now_time = time.clock()\n",
    "        if iteration % change_line == (change_line-1):\n",
    "            loading_str += \"*\"\n",
    "            if iteration % (10*change_line) == (10*change_line-1):            \n",
    "                print(\"{5:6.2}{0:7} [Iteration]: {1:10} [{2:22}]: {3:10.2f} secs [SUM]: {4:10.2f}\".format(\"% Done!\", (iteration+1), (str(10*change_line)+\"x iterations time\"), (sum_time-line_time), sum_time, (100*iteration/ITERS) ) )\n",
    "                loading_str = \"*\"\n",
    "                line_time = sum_time\n",
    "        \n",
    "        lib.plot.plot('time', time.time() - start_time)\n",
    "        lib.plot.plot('train disc cost', _disc_cost)\n",
    "\n",
    "        if iteration % (5*change_line) == (5*change_line-1):\n",
    "            #print(\"checkpintB\"+str(iteration+1))\n",
    "            samples = []\n",
    "            for i in range(10):\n",
    "                samples.extend(generate_samples())\n",
    "\n",
    "            for i in range(4):\n",
    "                lm = language_helpers.NgramLanguageModel(i+1, samples, tokenize=False)\n",
    "                lib.plot.plot('js{}'.format(i+1), lm.js_with(true_char_ngram_lms[i]))\n",
    "\n",
    "            with open('output_data/samples_{}.txt'.format(iteration+1), 'w',encoding = 'utf8') as f:\n",
    "                for s in samples:\n",
    "                    s = \"\".join(s)\n",
    "                    s = s.replace(\".. \",\"\")\n",
    "                    s = s.replace(\". \",\"\")\n",
    "                    s = s.replace(\" \",\"\")\n",
    "                    s = s.replace(\"....\",\".\")\n",
    "                    s = s.replace(\"...\",\".\")\n",
    "                    s = s.replace(\"..\",\".\")\n",
    "                    f.write(s + \"\\n\")\n",
    "\n",
    "        #if iteration % (5*change_line) == (5*change_line-1):\n",
    "            #print(iteration)\n",
    "            #lib.plot.flush()\n",
    "        \n",
    "        lib.plot.tick()\n"
   ]
  },
  {
   "cell_type": "code",
   "execution_count": null,
   "metadata": {},
   "outputs": [],
   "source": [
    "change_line"
   ]
  },
  {
   "cell_type": "code",
   "execution_count": null,
   "metadata": {
    "collapsed": true
   },
   "outputs": [],
   "source": []
  }
 ],
 "metadata": {
  "kernelspec": {
   "display_name": "Python 3",
   "language": "python",
   "name": "python3"
  },
  "language_info": {
   "codemirror_mode": {
    "name": "ipython",
    "version": 3
   },
   "file_extension": ".py",
   "mimetype": "text/x-python",
   "name": "python",
   "nbconvert_exporter": "python",
   "pygments_lexer": "ipython3",
   "version": "3.5.3"
  }
 },
 "nbformat": 4,
 "nbformat_minor": 2
}
