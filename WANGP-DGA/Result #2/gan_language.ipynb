{
 "cells": [
  {
   "cell_type": "code",
   "execution_count": 1,
   "metadata": {
    "collapsed": true
   },
   "outputs": [],
   "source": [
    "import os, sys\n",
    "sys.path.append(os.getcwd())\n",
    "\n",
    "import time\n",
    "\n",
    "import numpy as np\n",
    "import tensorflow as tf\n",
    "\n",
    "import language_helpers\n",
    "import tflib as lib\n",
    "import tflib.ops.linear\n",
    "import tflib.ops.conv1d\n",
    "import tflib.plot"
   ]
  },
  {
   "cell_type": "code",
   "execution_count": 2,
   "metadata": {
    "collapsed": true
   },
   "outputs": [],
   "source": [
    "# Download Google Billion Word at http://www.statmt.org/lm-benchmark/ and\n",
    "# fill in the path to the extracted files here!\n",
    "DATA_DIR = '../Dataset/AlexaTop1M_NoSeparate'\n",
    "if len(DATA_DIR) == 0:\n",
    "    raise Exception(\"Please specify path to data directory in gan_language.py!\")\n",
    "\n",
    "BATCH_SIZE = 64 # Batch size\n",
    "# How many iterations to train for, min value is 1000, Please increase the number of iteration in 1000 units\n",
    "ITERS = 20000 \n",
    "SEQ_LEN = 32 # Sequence length in characters\n",
    "DIM = 512 # Model dimensionality. This is fairly slow and overfits, even on\n",
    "          # Billion Word. Consider decreasing for smaller datasets.\n",
    "CRITIC_ITERS = 10 # How many critic iterations per generator iteration. We\n",
    "                  # use 10 for the results in the paper, but 5 should work fine\n",
    "                  # as well.\n",
    "LAMBDA = 10 # Gradient penalty lambda hyperparameter.\n",
    "MAX_N_EXAMPLES = 100000 # Max number of data examples to load. If data loading\n",
    "                          # is too slow or takes too much RAM, you can decrease\n",
    "                          # this (at the expense of having less training data). default value is 10000000"
   ]
  },
  {
   "cell_type": "code",
   "execution_count": 3,
   "metadata": {},
   "outputs": [
    {
     "name": "stdout",
     "output_type": "stream",
     "text": [
      "loading dataset...\n",
      "('a', 'n', 'd', 'r', 'o', 'i', 'd', 'l', 'o', 's', 't', '.', 'c', 'o', 'm', ' ', ' ', ' ', ' ', ' ', ' ', ' ', ' ', ' ', ' ', ' ', ' ', ' ', ' ', ' ', ' ', ' ')\n",
      "('g', 'r', 'e', 'e', 'n', 'd', 'o', 'w', 'n', '.', 'c', 'n', ' ', ' ', ' ', ' ', ' ', ' ', ' ', ' ', ' ', ' ', ' ', ' ', ' ', ' ', ' ', ' ', ' ', ' ', ' ', ' ')\n",
      "('b', 'e', 'f', 'o', 'r', 'e', 'i', 't', 's', 'n', 'e', 'w', 's', '.', 'c', 'o', 'm', ' ', ' ', ' ', ' ', ' ', ' ', ' ', ' ', ' ', ' ', ' ', ' ', ' ', ' ', ' ')\n",
      "('s', 't', 'e', 'a', 'c', 'h', 's', '.', 'c', 'o', 'm', ' ', ' ', ' ', ' ', ' ', ' ', ' ', ' ', ' ', ' ', ' ', ' ', ' ', ' ', ' ', ' ', ' ', ' ', ' ', ' ', ' ')\n",
      "('j', 'a', 'v', 'a', 'r', 'c', 'h', 'i', 'v', 'e', '.', 'c', 'o', 'm', ' ', ' ', ' ', ' ', ' ', ' ', ' ', ' ', ' ', ' ', ' ', ' ', ' ', ' ', ' ', ' ', ' ', ' ')\n",
      "('c', 'i', 'v', 'i', 'l', 'l', 'i', 'n', 'k', '.', 'n', 'e', 't', ' ', ' ', ' ', ' ', ' ', ' ', ' ', ' ', ' ', ' ', ' ', ' ', ' ', ' ', ' ', ' ', ' ', ' ', ' ')\n",
      "('r', 'i', 'o', 'l', 'e', 'a', 'r', 'n', '.', 'o', 'r', 'g', ' ', ' ', ' ', ' ', ' ', ' ', ' ', ' ', ' ', ' ', ' ', ' ', ' ', ' ', ' ', ' ', ' ', ' ', ' ', ' ')\n",
      "('r', 'k', 'o', 'm', 'i', '.', 'r', 'u', ' ', ' ', ' ', ' ', ' ', ' ', ' ', ' ', ' ', ' ', ' ', ' ', ' ', ' ', ' ', ' ', ' ', ' ', ' ', ' ', ' ', ' ', ' ', ' ')\n",
      "('t', 'o', 't', 'a', 'l', '.', 'c', 'o', 'm', ' ', ' ', ' ', ' ', ' ', ' ', ' ', ' ', ' ', ' ', ' ', ' ', ' ', ' ', ' ', ' ', ' ', ' ', ' ', ' ', ' ', ' ', ' ')\n",
      "('p', 'r', 'o', 'd', 'u', 'c', 't', 'r', 'e', 'p', 'o', 'r', 't', 'c', 'a', 'r', 'd', '.', 'c', 'o', 'm', ' ', ' ', ' ', ' ', ' ', ' ', ' ', ' ', ' ', ' ', ' ')\n",
      "('m', 'd', 'n', '2', '0', '1', '5', 'x', '1', '.', 'c', 'o', 'm', ' ', ' ', ' ', ' ', ' ', ' ', ' ', ' ', ' ', ' ', ' ', ' ', ' ', ' ', ' ', ' ', ' ', ' ', ' ')\n",
      "('p', 'r', 'o', 'f', 'e', 's', 's', 'i', 'o', 'n', 'a', 'l', 's', '.', 'a', 'z', ' ', ' ', ' ', ' ', ' ', ' ', ' ', ' ', ' ', ' ', ' ', ' ', ' ', ' ', ' ', ' ')\n",
      "('2', '4', '.', 'a', 'e', ' ', ' ', ' ', ' ', ' ', ' ', ' ', ' ', ' ', ' ', ' ', ' ', ' ', ' ', ' ', ' ', ' ', ' ', ' ', ' ', ' ', ' ', ' ', ' ', ' ', ' ', ' ')\n",
      "('c', 'a', 'r', 'e', 'e', 'r', 'p', 'l', 'a', 'n', 'n', 'e', 'r', '.', 'c', 'o', 'm', ' ', ' ', ' ', ' ', ' ', ' ', ' ', ' ', ' ', ' ', ' ', ' ', ' ', ' ', ' ')\n",
      "('c', 'o', 'n', 'f', 'o', 'r', 'a', 'm', 'a', '.', 'c', 'h', ' ', ' ', ' ', ' ', ' ', ' ', ' ', ' ', ' ', ' ', ' ', ' ', ' ', ' ', ' ', ' ', ' ', ' ', ' ', ' ')\n",
      "('t', 'r', 'i', 'b', 'a', 'l', 'w', 'a', 'r', 's', '.', 'c', 'o', 'm', '.', 'b', 'r', ' ', ' ', ' ', ' ', ' ', ' ', ' ', ' ', ' ', ' ', ' ', ' ', ' ', ' ', ' ')\n",
      "('s', 't', 'o', 'r', 'y', 'b', 'o', 'a', 'r', 'd', 't', 'h', 'a', 't', '.', 'c', 'o', 'm', ' ', ' ', ' ', ' ', ' ', ' ', ' ', ' ', ' ', ' ', ' ', ' ', ' ', ' ')\n",
      "('f', 'o', 'r', 'b', 'e', 's', '.', 'n', 'e', 't', '.', 'u', 'a', ' ', ' ', ' ', ' ', ' ', ' ', ' ', ' ', ' ', ' ', ' ', ' ', ' ', ' ', ' ', ' ', ' ', ' ', ' ')\n",
      "('m', 'o', 'n', 'e', 'y', 'd', 'b', 'a', 'g', '.', 'r', 'u', ' ', ' ', ' ', ' ', ' ', ' ', ' ', ' ', ' ', ' ', ' ', ' ', ' ', ' ', ' ', ' ', ' ', ' ', ' ', ' ')\n",
      "('e', 'm', 'p', 'r', 'e', 'g', 'a', 'n', 'd', 'o', 'b', 'r', 'a', 's', 'i', 'l', '.', 'c', 'o', 'm', '.', 'b', 'r', ' ', ' ', ' ', ' ', ' ', ' ', ' ', ' ', ' ')\n",
      "('f', 'a', 'n', 'g', 'r', 'a', 'p', 'h', 's', '.', 'c', 'o', 'm', ' ', ' ', ' ', ' ', ' ', ' ', ' ', ' ', ' ', ' ', ' ', ' ', ' ', ' ', ' ', ' ', ' ', ' ', ' ')\n",
      "('c', 'a', 'm', 'i', 'l', 'l', 'e', 's', 't', 'y', 'l', 'e', 's', '.', 'c', 'o', 'm', ' ', ' ', ' ', ' ', ' ', ' ', ' ', ' ', ' ', ' ', ' ', ' ', ' ', ' ', ' ')\n",
      "('o', 'z', 'n', 'z', 'b', '.', 'c', 'o', 'm', ' ', ' ', ' ', ' ', ' ', ' ', ' ', ' ', ' ', ' ', ' ', ' ', ' ', ' ', ' ', ' ', ' ', ' ', ' ', ' ', ' ', ' ', ' ')\n",
      "('t', 'o', 'l', 'e', 'x', 'o', '.', 'c', 'o', 'm', ' ', ' ', ' ', ' ', ' ', ' ', ' ', ' ', ' ', ' ', ' ', ' ', ' ', ' ', ' ', ' ', ' ', ' ', ' ', ' ', ' ', ' ')\n",
      "('s', 't', 'u', 'd', 'e', 'n', 't', 'd', 'o', 'c', 't', 'o', 'r', '.', 'n', 'e', 't', ' ', ' ', ' ', ' ', ' ', ' ', ' ', ' ', ' ', ' ', ' ', ' ', ' ', ' ', ' ')\n",
      "('a', 'l', 'm', 'a', 'n', 'a', 'r', '.', 'c', 'o', 'm', '.', 'l', 'b', ' ', ' ', ' ', ' ', ' ', ' ', ' ', ' ', ' ', ' ', ' ', ' ', ' ', ' ', ' ', ' ', ' ', ' ')\n",
      "('e', 'l', 'd', 'o', 'r', 'a', 'd', 'o', '.', 'c', 'o', 'm', '.', 'u', 'a', ' ', ' ', ' ', ' ', ' ', ' ', ' ', ' ', ' ', ' ', ' ', ' ', ' ', ' ', ' ', ' ', ' ')\n",
      "('s', 'g', 's', '.', 'c', 'o', 'm', ' ', ' ', ' ', ' ', ' ', ' ', ' ', ' ', ' ', ' ', ' ', ' ', ' ', ' ', ' ', ' ', ' ', ' ', ' ', ' ', ' ', ' ', ' ', ' ', ' ')\n",
      "('o', 'l', 'l', 'i', 's', '.', 'r', 'u', ' ', ' ', ' ', ' ', ' ', ' ', ' ', ' ', ' ', ' ', ' ', ' ', ' ', ' ', ' ', ' ', ' ', ' ', ' ', ' ', ' ', ' ', ' ', ' ')\n",
      "('b', 'g', 'e', '.', 'c', 'o', 'm', ' ', ' ', ' ', ' ', ' ', ' ', ' ', ' ', ' ', ' ', ' ', ' ', ' ', ' ', ' ', ' ', ' ', ' ', ' ', ' ', ' ', ' ', ' ', ' ', ' ')\n",
      "('m', 'i', 'l', 'a', 'a', 'p', '.', 'o', 'r', 'g', ' ', ' ', ' ', ' ', ' ', ' ', ' ', ' ', ' ', ' ', ' ', ' ', ' ', ' ', ' ', ' ', ' ', ' ', ' ', ' ', ' ', ' ')\n",
      "('h', 'a', 'r', 'i', 'b', 'o', '.', 'c', 'o', 'm', ' ', ' ', ' ', ' ', ' ', ' ', ' ', ' ', ' ', ' ', ' ', ' ', ' ', ' ', ' ', ' ', ' ', ' ', ' ', ' ', ' ', ' ')\n",
      "('c', 's', 'n', '.', 's', 'e', ' ', ' ', ' ', ' ', ' ', ' ', ' ', ' ', ' ', ' ', ' ', ' ', ' ', ' ', ' ', ' ', ' ', ' ', ' ', ' ', ' ', ' ', ' ', ' ', ' ', ' ')\n",
      "('d', 'e', 'p', 'i', 'c', '.', 'm', 'e', ' ', ' ', ' ', ' ', ' ', ' ', ' ', ' ', ' ', ' ', ' ', ' ', ' ', ' ', ' ', ' ', ' ', ' ', ' ', ' ', ' ', ' ', ' ', ' ')\n",
      "('c', 't', 'p', 'e', '.', 'n', 'e', 't', ' ', ' ', ' ', ' ', ' ', ' ', ' ', ' ', ' ', ' ', ' ', ' ', ' ', ' ', ' ', ' ', ' ', ' ', ' ', ' ', ' ', ' ', ' ', ' ')\n",
      "('f', 'r', 'e', 'e', 'l', 'a', 'n', 'c', 'e', 'h', 'u', 'n', 't', '.', 'c', 'o', 'm', ' ', ' ', ' ', ' ', ' ', ' ', ' ', ' ', ' ', ' ', ' ', ' ', ' ', ' ', ' ')\n",
      "('i', 'y', 'i', 'n', 'e', 't', '.', 'c', 'o', 'm', ' ', ' ', ' ', ' ', ' ', ' ', ' ', ' ', ' ', ' ', ' ', ' ', ' ', ' ', ' ', ' ', ' ', ' ', ' ', ' ', ' ', ' ')\n",
      "('i', 'l', 'i', 's', 'p', '.', 'o', 'r', 'g', ' ', ' ', ' ', ' ', ' ', ' ', ' ', ' ', ' ', ' ', ' ', ' ', ' ', ' ', ' ', ' ', ' ', ' ', ' ', ' ', ' ', ' ', ' ')\n",
      "('4', 'p', 'l', 'e', 'b', 's', '.', 'o', 'r', 'g', ' ', ' ', ' ', ' ', ' ', ' ', ' ', ' ', ' ', ' ', ' ', ' ', ' ', ' ', ' ', ' ', ' ', ' ', ' ', ' ', ' ', ' ')\n",
      "('r', 'e', 'd', 't', 'a', 'g', '.', 'c', 'a', ' ', ' ', ' ', ' ', ' ', ' ', ' ', ' ', ' ', ' ', ' ', ' ', ' ', ' ', ' ', ' ', ' ', ' ', ' ', ' ', ' ', ' ', ' ')\n",
      "('n', 'e', 'b', 'e', 'r', 'i', 't', 'r', 'u', 'b', 'k', 'u', '.', 'r', 'u', ' ', ' ', ' ', ' ', ' ', ' ', ' ', ' ', ' ', ' ', ' ', ' ', ' ', ' ', ' ', ' ', ' ')\n",
      "('a', 'v', 't', 'o', '-', 'f', 'l', 'o', 't', '.', 'r', 'u', ' ', ' ', ' ', ' ', ' ', ' ', ' ', ' ', ' ', ' ', ' ', ' ', ' ', ' ', ' ', ' ', ' ', ' ', ' ', ' ')\n",
      "('n', 't', 'v', 'b', 'd', '.', 'c', 'o', 'm', ' ', ' ', ' ', ' ', ' ', ' ', ' ', ' ', ' ', ' ', ' ', ' ', ' ', ' ', ' ', ' ', ' ', ' ', ' ', ' ', ' ', ' ', ' ')\n",
      "('g', 'u', 'f', 'i', 'x', '.', 'c', 'o', 'm', ' ', ' ', ' ', ' ', ' ', ' ', ' ', ' ', ' ', ' ', ' ', ' ', ' ', ' ', ' ', ' ', ' ', ' ', ' ', ' ', ' ', ' ', ' ')\n",
      "('m', 's', 'm', 'v', 'p', 's', '.', 'c', 'o', 'm', ' ', ' ', ' ', ' ', ' ', ' ', ' ', ' ', ' ', ' ', ' ', ' ', ' ', ' ', ' ', ' ', ' ', ' ', ' ', ' ', ' ', ' ')\n",
      "('a', 'c', 't', 'i', 'v', 'e', 'b', 'u', 'i', 'l', 'd', 'i', 'n', 'g', '.', 'c', 'o', 'm', ' ', ' ', ' ', ' ', ' ', ' ', ' ', ' ', ' ', ' ', ' ', ' ', ' ', ' ')\n",
      "('t', 'h', 'e', 'm', 'e', 't', 'r', 'u', 's', 't', '.', 'c', 'o', 'm', ' ', ' ', ' ', ' ', ' ', ' ', ' ', ' ', ' ', ' ', ' ', ' ', ' ', ' ', ' ', ' ', ' ', ' ')\n",
      "('y', 'o', 'u', 'r', 'l', 'i', 'f', 'e', 'm', 'o', 'm', 'e', 'n', 't', 's', '.', 'c', 'a', ' ', ' ', ' ', ' ', ' ', ' ', ' ', ' ', ' ', ' ', ' ', ' ', ' ', ' ')\n",
      "('t', 'r', 'i', 'u', 'm', 'p', 'h', 'r', 'a', 't', '.', 'n', 'e', 't', ' ', ' ', ' ', ' ', ' ', ' ', ' ', ' ', ' ', ' ', ' ', ' ', ' ', ' ', ' ', ' ', ' ', ' ')\n",
      "('s', 'p', 'o', 'r', 't', '3', '6', '0', '.', 'c', 'o', 'm', ' ', ' ', ' ', ' ', ' ', ' ', ' ', ' ', ' ', ' ', ' ', ' ', ' ', ' ', ' ', ' ', ' ', ' ', ' ', ' ')\n",
      "('d', 'i', 'a', 'g', 'e', 'o', '.', 'c', 'o', 'm', ' ', ' ', ' ', ' ', ' ', ' ', ' ', ' ', ' ', ' ', ' ', ' ', ' ', ' ', ' ', ' ', ' ', ' ', ' ', ' ', ' ', ' ')\n",
      "('d', 'a', 'l', 'a', 'h', 'o', 'o', '.', 'c', 'o', 'm', ' ', ' ', ' ', ' ', ' ', ' ', ' ', ' ', ' ', ' ', ' ', ' ', ' ', ' ', ' ', ' ', ' ', ' ', ' ', ' ', ' ')\n",
      "('6', '6', 'y', 's', '.', 't', 'v', ' ', ' ', ' ', ' ', ' ', ' ', ' ', ' ', ' ', ' ', ' ', ' ', ' ', ' ', ' ', ' ', ' ', ' ', ' ', ' ', ' ', ' ', ' ', ' ', ' ')\n",
      "('c', 'h', 'i', 'l', 'i', 'n', 'd', 'o', '.', 'c', 'o', 'm', ' ', ' ', ' ', ' ', ' ', ' ', ' ', ' ', ' ', ' ', ' ', ' ', ' ', ' ', ' ', ' ', ' ', ' ', ' ', ' ')\n",
      "('s', 't', 'y', 'l', 'e', 't', 'a', 'g', '.', 'c', 'o', 'm', ' ', ' ', ' ', ' ', ' ', ' ', ' ', ' ', ' ', ' ', ' ', ' ', ' ', ' ', ' ', ' ', ' ', ' ', ' ', ' ')\n",
      "('i', 'l', 'm', 'k', 'i', 'd', 'u', 'n', 'y', 'a', '.', 'c', 'o', 'm', ' ', ' ', ' ', ' ', ' ', ' ', ' ', ' ', ' ', ' ', ' ', ' ', ' ', ' ', ' ', ' ', ' ', ' ')\n",
      "('l', 'e', 't', 'o', 't', 'e', '.', 'c', 'o', 'm', ' ', ' ', ' ', ' ', ' ', ' ', ' ', ' ', ' ', ' ', ' ', ' ', ' ', ' ', ' ', ' ', ' ', ' ', ' ', ' ', ' ', ' ')\n",
      "('g', 'r', 'a', 'm', 'm', 'a', 'r', '-', 'm', 'o', 'n', 's', 't', 'e', 'r', '.', 'c', 'o', 'm', ' ', ' ', ' ', ' ', ' ', ' ', ' ', ' ', ' ', ' ', ' ', ' ', ' ')\n",
      "('w', 'e', 'd', 'd', 'i', 'n', 'g', 'p', 'a', 'p', 'e', 'r', 'd', 'i', 'v', 'a', 's', '.', 'c', 'o', 'm', ' ', ' ', ' ', ' ', ' ', ' ', ' ', ' ', ' ', ' ', ' ')\n",
      "('t', 'u', 't', 'o', 'r', 'i', 'a', 'l', 'h', 'o', 'r', 'i', 'z', 'o', 'n', '.', 'c', 'o', 'm', ' ', ' ', ' ', ' ', ' ', ' ', ' ', ' ', ' ', ' ', ' ', ' ', ' ')\n",
      "('m', 'o', 'r', 'u', 'i', '.', 'c', 'o', 'm', ' ', ' ', ' ', ' ', ' ', ' ', ' ', ' ', ' ', ' ', ' ', ' ', ' ', ' ', ' ', ' ', ' ', ' ', ' ', ' ', ' ', ' ', ' ')\n",
      "('s', 'p', 'l', 'i', 'o', '4', '.', 'c', 'o', 'm', ' ', ' ', ' ', ' ', ' ', ' ', ' ', ' ', ' ', ' ', ' ', ' ', ' ', ' ', ' ', ' ', ' ', ' ', ' ', ' ', ' ', ' ')\n",
      "('7', '-', 'z', 'i', 'p', '.', 'o', 'r', 'g', ' ', ' ', ' ', ' ', ' ', ' ', ' ', ' ', ' ', ' ', ' ', ' ', ' ', ' ', ' ', ' ', ' ', ' ', ' ', ' ', ' ', ' ', ' ')\n",
      "('f', 'i', 'l', 'm', 'p', 'a', 'l', 'a', 's', 't', '.', 't', 'o', ' ', ' ', ' ', ' ', ' ', ' ', ' ', ' ', ' ', ' ', ' ', ' ', ' ', ' ', ' ', ' ', ' ', ' ', ' ')\n",
      "('s', 'o', 'b', 'y', 't', 'i', 'y', 'a', 'v', 'm', 'i', 'r', 'e', '.', 'c', 'o', 'm', ' ', ' ', ' ', ' ', ' ', ' ', ' ', ' ', ' ', ' ', ' ', ' ', ' ', ' ', ' ')\n",
      "('p', 'e', 'o', 'p', 'l', 'e', 'f', 'l', 'u', 'e', 'n', 't', '.', 'c', 'o', 'm', ' ', ' ', ' ', ' ', ' ', ' ', ' ', ' ', ' ', ' ', ' ', ' ', ' ', ' ', ' ', ' ')\n",
      "('z', 'h', 'l', 'e', 'd', 'n', 'i', 't', 'o', '.', 'c', 'z', ' ', ' ', ' ', ' ', ' ', ' ', ' ', ' ', ' ', ' ', ' ', ' ', ' ', ' ', ' ', ' ', ' ', ' ', ' ', ' ')\n",
      "('n', 'i', 'c', 'k', 'e', 'l', 'o', 'd', 'e', 'o', 'n', '.', 'n', 'l', ' ', ' ', ' ', ' ', ' ', ' ', ' ', ' ', ' ', ' ', ' ', ' ', ' ', ' ', ' ', ' ', ' ', ' ')\n",
      "('t', 'o', 'p', '-', 's', 'h', 'o', 'p', '.', 'r', 'u', ' ', ' ', ' ', ' ', ' ', ' ', ' ', ' ', ' ', ' ', ' ', ' ', ' ', ' ', ' ', ' ', ' ', ' ', ' ', ' ', ' ')\n",
      "('b', 'i', 'n', 'g', 'p', 'l', 'a', 'c', 'e', 's', '.', 'c', 'o', 'm', ' ', ' ', ' ', ' ', ' ', ' ', ' ', ' ', ' ', ' ', ' ', ' ', ' ', ' ', ' ', ' ', ' ', ' ')\n",
      "('s', 'k', 'e', 't', 'c', 'h', 't', 'h', 'e', 'm', 'e', 's', '.', 'c', 'o', 'm', ' ', ' ', ' ', ' ', ' ', ' ', ' ', ' ', ' ', ' ', ' ', ' ', ' ', ' ', ' ', ' ')\n",
      "('f', 'i', 's', 'h', 'i', 'n', 'g', '.', 'k', 'i', 'e', 'v', '.', 'u', 'a', ' ', ' ', ' ', ' ', ' ', ' ', ' ', ' ', ' ', ' ', ' ', ' ', ' ', ' ', ' ', ' ', ' ')\n",
      "('t', 'p', '-', 'l', 'i', 'n', 'k', '.', 'i', 'n', ' ', ' ', ' ', ' ', ' ', ' ', ' ', ' ', ' ', ' ', ' ', ' ', ' ', ' ', ' ', ' ', ' ', ' ', ' ', ' ', ' ', ' ')\n",
      "('f', 'i', 'l', 'm', 'o', 'l', 'j', 'u', 'p', 'c', 'i', '.', 'c', 'o', 'm', ' ', ' ', ' ', ' ', ' ', ' ', ' ', ' ', ' ', ' ', ' ', ' ', ' ', ' ', ' ', ' ', ' ')\n",
      "('m', 'a', 'g', 'f', 'a', '.', 'c', 'o', 'm', ' ', ' ', ' ', ' ', ' ', ' ', ' ', ' ', ' ', ' ', ' ', ' ', ' ', ' ', ' ', ' ', ' ', ' ', ' ', ' ', ' ', ' ', ' ')\n",
      "('t', 'a', 'l', 'a', 'h', 'o', 's', 't', '.', 'c', 'o', 'm', ' ', ' ', ' ', ' ', ' ', ' ', ' ', ' ', ' ', ' ', ' ', ' ', ' ', ' ', ' ', ' ', ' ', ' ', ' ', ' ')\n",
      "('o', 'u', 'r', 't', 'i', 'm', 'e', '.', 'c', 'o', 'm', ' ', ' ', ' ', ' ', ' ', ' ', ' ', ' ', ' ', ' ', ' ', ' ', ' ', ' ', ' ', ' ', ' ', ' ', ' ', ' ', ' ')\n",
      "('h', 'e', 'r', 'o', 'e', 's', 'a', 'n', 'd', 'g', 'e', 'n', 'e', 'r', 'a', 'l', 's', '.', 'c', 'o', 'm', ' ', ' ', ' ', ' ', ' ', ' ', ' ', ' ', ' ', ' ', ' ')\n",
      "('n', 'a', 'b', 'a', 'r', 'd', '.', 'o', 'r', 'g', ' ', ' ', ' ', ' ', ' ', ' ', ' ', ' ', ' ', ' ', ' ', ' ', ' ', ' ', ' ', ' ', ' ', ' ', ' ', ' ', ' ', ' ')\n",
      "('l', 't', 'u', 'r', '.', 'c', 'o', 'm', ' ', ' ', ' ', ' ', ' ', ' ', ' ', ' ', ' ', ' ', ' ', ' ', ' ', ' ', ' ', ' ', ' ', ' ', ' ', ' ', ' ', ' ', ' ', ' ')\n",
      "('j', 'r', '-', 'c', 'e', 'n', 't', 'r', 'a', 'l', '.', 'c', 'o', '.', 'j', 'p', ' ', ' ', ' ', ' ', ' ', ' ', ' ', ' ', ' ', ' ', ' ', ' ', ' ', ' ', ' ', ' ')\n",
      "('f', 'x', 's', 'a', '.', 'o', 'r', 'g', ' ', ' ', ' ', ' ', ' ', ' ', ' ', ' ', ' ', ' ', ' ', ' ', ' ', ' ', ' ', ' ', ' ', ' ', ' ', ' ', ' ', ' ', ' ', ' ')\n",
      "('j', 'm', 'm', '1', '8', '1', '8', '.', 'n', 'e', 't', ' ', ' ', ' ', ' ', ' ', ' ', ' ', ' ', ' ', ' ', ' ', ' ', ' ', ' ', ' ', ' ', ' ', ' ', ' ', ' ', ' ')\n",
      "('o', 'e', 'e', 'e', 'e', '.', 'c', 'o', 'm', ' ', ' ', ' ', ' ', ' ', ' ', ' ', ' ', ' ', ' ', ' ', ' ', ' ', ' ', ' ', ' ', ' ', ' ', ' ', ' ', ' ', ' ', ' ')\n",
      "('a', 'n', 'i', 'd', 'u', 'b', '.', 'c', 'o', 'm', ' ', ' ', ' ', ' ', ' ', ' ', ' ', ' ', ' ', ' ', ' ', ' ', ' ', ' ', ' ', ' ', ' ', ' ', ' ', ' ', ' ', ' ')\n",
      "('f', 'q', 'x', 's', 'w', '.', 'c', 'o', 'm', ' ', ' ', ' ', ' ', ' ', ' ', ' ', ' ', ' ', ' ', ' ', ' ', ' ', ' ', ' ', ' ', ' ', ' ', ' ', ' ', ' ', ' ', ' ')\n",
      "('t', 'a', 'p', 'w', 'i', 'r', 'e', 's', '.', 'c', 'o', 'm', ' ', ' ', ' ', ' ', ' ', ' ', ' ', ' ', ' ', ' ', ' ', ' ', ' ', ' ', ' ', ' ', ' ', ' ', ' ', ' ')\n",
      "('l', 's', 'b', 't', 'l', 'y', '.', 'c', 'o', 'm', ' ', ' ', ' ', ' ', ' ', ' ', ' ', ' ', ' ', ' ', ' ', ' ', ' ', ' ', ' ', ' ', ' ', ' ', ' ', ' ', ' ', ' ')\n",
      "('a', 'l', 'v', 'e', 'r', 'd', 'e', '.', 'n', 'e', 't', ' ', ' ', ' ', ' ', ' ', ' ', ' ', ' ', ' ', ' ', ' ', ' ', ' ', ' ', ' ', ' ', ' ', ' ', ' ', ' ', ' ')\n",
      "('t', 'y', 'd', 'a', '.', 's', 'e', ' ', ' ', ' ', ' ', ' ', ' ', ' ', ' ', ' ', ' ', ' ', ' ', ' ', ' ', ' ', ' ', ' ', ' ', ' ', ' ', ' ', ' ', ' ', ' ', ' ')\n",
      "('a', 't', 'l', 'a', 's', 'f', 'o', 'r', 'm', 'e', 'n', '.', 'd', 'e', ' ', ' ', ' ', ' ', ' ', ' ', ' ', ' ', ' ', ' ', ' ', ' ', ' ', ' ', ' ', ' ', ' ', ' ')\n",
      "('e', 'g', 'r', 'e', 't', '.', 'c', 'o', 'm', ' ', ' ', ' ', ' ', ' ', ' ', ' ', ' ', ' ', ' ', ' ', ' ', ' ', ' ', ' ', ' ', ' ', ' ', ' ', ' ', ' ', ' ', ' ')\n",
      "('b', 'l', 'a', 'b', 'l', 'a', 'c', 'a', 'r', '.', 'd', 'e', ' ', ' ', ' ', ' ', ' ', ' ', ' ', ' ', ' ', ' ', ' ', ' ', ' ', ' ', ' ', ' ', ' ', ' ', ' ', ' ')\n",
      "('n', 'o', 'v', 'a', 's', 'o', 'l', '.', 'c', 'o', 'm', ' ', ' ', ' ', ' ', ' ', ' ', ' ', ' ', ' ', ' ', ' ', ' ', ' ', ' ', ' ', ' ', ' ', ' ', ' ', ' ', ' ')\n",
      "('j', 'r', 'a', 'n', 'k', '.', 'o', 'r', 'g', ' ', ' ', ' ', ' ', ' ', ' ', ' ', ' ', ' ', ' ', ' ', ' ', ' ', ' ', ' ', ' ', ' ', ' ', ' ', ' ', ' ', ' ', ' ')\n",
      "('d', 'i', 'v', 'c', 's', 's', '5', '.', 'c', 'o', 'm', ' ', ' ', ' ', ' ', ' ', ' ', ' ', ' ', ' ', ' ', ' ', ' ', ' ', ' ', ' ', ' ', ' ', ' ', ' ', ' ', ' ')\n",
      "('g', 'o', 'o', 'g', 'l', 'e', '.', 'c', 'o', '.', 'a', 'o', ' ', ' ', ' ', ' ', ' ', ' ', ' ', ' ', ' ', ' ', ' ', ' ', ' ', ' ', ' ', ' ', ' ', ' ', ' ', ' ')\n",
      "('m', 'p', 'c', '.', 'a', 'm', ' ', ' ', ' ', ' ', ' ', ' ', ' ', ' ', ' ', ' ', ' ', ' ', ' ', ' ', ' ', ' ', ' ', ' ', ' ', ' ', ' ', ' ', ' ', ' ', ' ', ' ')\n",
      "('n', 'm', 'k', '.', 'c', 'o', '.', 'i', 'n', ' ', ' ', ' ', ' ', ' ', ' ', ' ', ' ', ' ', ' ', ' ', ' ', ' ', ' ', ' ', ' ', ' ', ' ', ' ', ' ', ' ', ' ', ' ')\n",
      "('c', 'a', 's', 'e', 't', 'i', 'f', 'y', '.', 'c', 'o', 'm', ' ', ' ', ' ', ' ', ' ', ' ', ' ', ' ', ' ', ' ', ' ', ' ', ' ', ' ', ' ', ' ', ' ', ' ', ' ', ' ')\n",
      "loaded 100000 lines in dataset\n"
     ]
    }
   ],
   "source": [
    "#lib.print_model_settings(locals().copy())\n",
    "\n",
    "lines, charmap, inv_charmap = language_helpers.load_dataset(\n",
    "    max_length=SEQ_LEN,\n",
    "    max_n_examples=MAX_N_EXAMPLES,\n",
    "    data_dir=DATA_DIR\n",
    ")"
   ]
  },
  {
   "cell_type": "code",
   "execution_count": 4,
   "metadata": {
    "collapsed": true
   },
   "outputs": [],
   "source": [
    "def softmax(logits):\n",
    "    return tf.reshape(\n",
    "        tf.nn.softmax(\n",
    "            tf.reshape(logits, [-1, len(charmap)])\n",
    "        ),\n",
    "        tf.shape(logits)\n",
    "    )"
   ]
  },
  {
   "cell_type": "code",
   "execution_count": 5,
   "metadata": {
    "collapsed": true
   },
   "outputs": [],
   "source": [
    "def make_noise(shape):\n",
    "    return tf.random_normal(shape)"
   ]
  },
  {
   "cell_type": "code",
   "execution_count": 6,
   "metadata": {
    "collapsed": true
   },
   "outputs": [],
   "source": [
    "def ResBlock(name, inputs):\n",
    "    output = inputs\n",
    "    output = tf.nn.relu(output)\n",
    "    output = lib.ops.conv1d.Conv1D(name+'.1', DIM, DIM, 5, output)\n",
    "    output = tf.nn.relu(output)\n",
    "    output = lib.ops.conv1d.Conv1D(name+'.2', DIM, DIM, 5, output)\n",
    "    return inputs + (0.3*output)"
   ]
  },
  {
   "cell_type": "code",
   "execution_count": 7,
   "metadata": {
    "collapsed": true
   },
   "outputs": [],
   "source": [
    "def Generator(n_samples, prev_outputs=None):\n",
    "    output = make_noise(shape=[n_samples, 128])\n",
    "    output = lib.ops.linear.Linear('Generator.Input', 128, SEQ_LEN*DIM, output)\n",
    "    output = tf.reshape(output, [-1, DIM, SEQ_LEN])\n",
    "    output = ResBlock('Generator.1', output)\n",
    "    output = ResBlock('Generator.2', output)\n",
    "    output = ResBlock('Generator.3', output)\n",
    "    output = ResBlock('Generator.4', output)\n",
    "    output = ResBlock('Generator.5', output)\n",
    "    output = lib.ops.conv1d.Conv1D('Generator.Output', DIM, len(charmap), 1, output)\n",
    "    output = tf.transpose(output, [0, 2, 1])\n",
    "    output = softmax(output)\n",
    "    return output"
   ]
  },
  {
   "cell_type": "code",
   "execution_count": 8,
   "metadata": {
    "collapsed": true
   },
   "outputs": [],
   "source": [
    "def Discriminator(inputs):\n",
    "    output = tf.transpose(inputs, [0,2,1])\n",
    "    output = lib.ops.conv1d.Conv1D('Discriminator.Input', len(charmap), DIM, 1, output)\n",
    "    output = ResBlock('Discriminator.1', output)\n",
    "    output = ResBlock('Discriminator.2', output)\n",
    "    output = ResBlock('Discriminator.3', output)\n",
    "    output = ResBlock('Discriminator.4', output)\n",
    "    output = ResBlock('Discriminator.5', output)\n",
    "    output = tf.reshape(output, [-1, SEQ_LEN*DIM])\n",
    "    output = lib.ops.linear.Linear('Discriminator.Output', SEQ_LEN*DIM, 1, output)\n",
    "    return output"
   ]
  },
  {
   "cell_type": "code",
   "execution_count": 9,
   "metadata": {
    "collapsed": true
   },
   "outputs": [],
   "source": [
    "real_inputs_discrete = tf.placeholder(tf.int32, shape=[BATCH_SIZE, SEQ_LEN])\n",
    "real_inputs = tf.one_hot(real_inputs_discrete, len(charmap))\n",
    "fake_inputs = Generator(BATCH_SIZE)\n",
    "fake_inputs_discrete = tf.argmax(fake_inputs, fake_inputs.get_shape().ndims-1)"
   ]
  },
  {
   "cell_type": "code",
   "execution_count": 10,
   "metadata": {
    "collapsed": true
   },
   "outputs": [],
   "source": [
    "disc_real = Discriminator(real_inputs) \n",
    "disc_fake = Discriminator(fake_inputs)"
   ]
  },
  {
   "cell_type": "code",
   "execution_count": 11,
   "metadata": {
    "collapsed": true
   },
   "outputs": [],
   "source": [
    "disc_cost = tf.reduce_mean(disc_fake) - tf.reduce_mean(disc_real)\n",
    "gen_cost = -tf.reduce_mean(disc_fake)"
   ]
  },
  {
   "cell_type": "code",
   "execution_count": 12,
   "metadata": {
    "collapsed": true
   },
   "outputs": [],
   "source": [
    "# WGAN lipschitz-penalty\n",
    "alpha = tf.random_uniform(\n",
    "    shape=[BATCH_SIZE,1,1], \n",
    "    minval=0.,\n",
    "    maxval=1.\n",
    ")"
   ]
  },
  {
   "cell_type": "code",
   "execution_count": 13,
   "metadata": {
    "collapsed": true
   },
   "outputs": [],
   "source": [
    "differences = fake_inputs - real_inputs\n",
    "interpolates = real_inputs + (alpha*differences)\n",
    "gradients = tf.gradients(Discriminator(interpolates), [interpolates])[0]\n",
    "slopes = tf.sqrt(tf.reduce_sum(tf.square(gradients), reduction_indices=[1,2]))\n",
    "gradient_penalty = tf.reduce_mean((slopes-1.)**2)\n",
    "disc_cost += LAMBDA*gradient_penalty"
   ]
  },
  {
   "cell_type": "code",
   "execution_count": 14,
   "metadata": {
    "collapsed": true
   },
   "outputs": [],
   "source": [
    "gen_params = lib.params_with_name('Generator')\n",
    "disc_params = lib.params_with_name('Discriminator')"
   ]
  },
  {
   "cell_type": "code",
   "execution_count": 15,
   "metadata": {
    "collapsed": true
   },
   "outputs": [],
   "source": [
    "gen_train_op = tf.train.AdamOptimizer(learning_rate=1e-4, beta1=0.5, beta2=0.9).minimize(gen_cost, var_list=gen_params)\n",
    "disc_train_op = tf.train.AdamOptimizer(learning_rate=1e-4, beta1=0.5, beta2=0.9).minimize(disc_cost, var_list=disc_params)"
   ]
  },
  {
   "cell_type": "code",
   "execution_count": 16,
   "metadata": {
    "collapsed": true
   },
   "outputs": [],
   "source": [
    "# Dataset iterator\n",
    "def inf_train_gen():\n",
    "    while True:\n",
    "        np.random.shuffle(lines)\n",
    "        for i in range(0, len(lines)-BATCH_SIZE+1, BATCH_SIZE):\n",
    "            yield np.array(\n",
    "                [[charmap[c] for c in l] for l in lines[i:i+BATCH_SIZE]], \n",
    "                dtype='int32'\n",
    "            )"
   ]
  },
  {
   "cell_type": "code",
   "execution_count": 17,
   "metadata": {},
   "outputs": [
    {
     "name": "stdout",
     "output_type": "stream",
     "text": [
      "validation set JSD for n=1: 0.0003697052248269592\n",
      "validation set JSD for n=2: 0.01154442057046276\n",
      "validation set JSD for n=3: 0.07990417910497839\n",
      "validation set JSD for n=4: 0.1761505943563537\n"
     ]
    }
   ],
   "source": [
    "# During training we monitor JS divergence between the true & generated ngram\n",
    "# distributions for n=1,2,3,4. To get an idea of the optimal values, we\n",
    "# evaluate these statistics on a held-out set first.\n",
    "\n",
    "true_char_ngram_lms = [language_helpers.NgramLanguageModel(i+1, lines[10*BATCH_SIZE:], tokenize=False) for i in range(4)]\n",
    "validation_char_ngram_lms = [language_helpers.NgramLanguageModel(i+1, lines[:10*BATCH_SIZE], tokenize=False) for i in range(4)]\n",
    "for i in range(4):\n",
    "    print ( \"validation set JSD for n={}: {}\".format(i+1, true_char_ngram_lms[i].js_with(validation_char_ngram_lms[i])) )\n",
    "true_char_ngram_lms = [language_helpers.NgramLanguageModel(i+1, lines, tokenize=False) for i in range(4)]"
   ]
  },
  {
   "cell_type": "code",
   "execution_count": 18,
   "metadata": {},
   "outputs": [
    {
     "name": "stdout",
     "output_type": "stream",
     "text": [
      "[Start]\n",
      "    1% Done! [Iteration]:        200 [200x iterations time   ]:     380.68 secs [SUM]:     380.68 secs\n",
      "    2% Done! [Iteration]:        400 [200x iterations time   ]:     383.20 secs [SUM]:     763.89 secs\n",
      "    3% Done! [Iteration]:        600 [200x iterations time   ]:     386.04 secs [SUM]:    1149.93 secs\n",
      "    4% Done! [Iteration]:        800 [200x iterations time   ]:     387.18 secs [SUM]:    1537.11 secs\n",
      "    5% Done! [Iteration]:       1000 [200x iterations time   ]:     386.82 secs [SUM]:    1923.93 secs\n",
      "    6% Done! [Iteration]:       1200 [200x iterations time   ]:     386.85 secs [SUM]:    2310.78 secs\n",
      "    7% Done! [Iteration]:       1400 [200x iterations time   ]:     387.79 secs [SUM]:    2698.56 secs\n",
      "    8% Done! [Iteration]:       1600 [200x iterations time   ]:     387.60 secs [SUM]:    3086.16 secs\n",
      "    9% Done! [Iteration]:       1800 [200x iterations time   ]:     387.83 secs [SUM]:    3473.99 secs\n",
      "   10% Done! [Iteration]:       2000 [200x iterations time   ]:     387.75 secs [SUM]:    3861.74 secs\n",
      "   11% Done! [Iteration]:       2200 [200x iterations time   ]:     387.65 secs [SUM]:    4249.38 secs\n",
      "   12% Done! [Iteration]:       2400 [200x iterations time   ]:     387.26 secs [SUM]:    4636.65 secs\n",
      "   13% Done! [Iteration]:       2600 [200x iterations time   ]:     387.18 secs [SUM]:    5023.82 secs\n",
      "   14% Done! [Iteration]:       2800 [200x iterations time   ]:     387.04 secs [SUM]:    5410.86 secs\n",
      "   15% Done! [Iteration]:       3000 [200x iterations time   ]:     387.02 secs [SUM]:    5797.87 secs\n",
      "   16% Done! [Iteration]:       3200 [200x iterations time   ]:     387.05 secs [SUM]:    6184.92 secs\n",
      "   17% Done! [Iteration]:       3400 [200x iterations time   ]:     387.03 secs [SUM]:    6571.95 secs\n",
      "   18% Done! [Iteration]:       3600 [200x iterations time   ]:     387.39 secs [SUM]:    6959.34 secs\n",
      "   19% Done! [Iteration]:       3800 [200x iterations time   ]:     387.55 secs [SUM]:    7346.89 secs\n",
      "   20% Done! [Iteration]:       4000 [200x iterations time   ]:     387.03 secs [SUM]:    7733.92 secs\n",
      "   21% Done! [Iteration]:       4200 [200x iterations time   ]:     386.96 secs [SUM]:    8120.89 secs\n",
      "   22% Done! [Iteration]:       4400 [200x iterations time   ]:     386.98 secs [SUM]:    8507.86 secs\n",
      "   23% Done! [Iteration]:       4600 [200x iterations time   ]:     387.02 secs [SUM]:    8894.88 secs\n",
      "   24% Done! [Iteration]:       4800 [200x iterations time   ]:     386.95 secs [SUM]:    9281.84 secs\n",
      "   25% Done! [Iteration]:       5000 [200x iterations time   ]:     386.79 secs [SUM]:    9668.62 secs\n",
      "   26% Done! [Iteration]:       5200 [200x iterations time   ]:     386.86 secs [SUM]:   10055.48 secs\n",
      "   27% Done! [Iteration]:       5400 [200x iterations time   ]:     387.10 secs [SUM]:   10442.58 secs\n",
      "   28% Done! [Iteration]:       5600 [200x iterations time   ]:     387.53 secs [SUM]:   10830.11 secs\n",
      "   29% Done! [Iteration]:       5800 [200x iterations time   ]:     387.54 secs [SUM]:   11217.65 secs\n",
      "   30% Done! [Iteration]:       6000 [200x iterations time   ]:     387.25 secs [SUM]:   11604.89 secs\n",
      "   31% Done! [Iteration]:       6200 [200x iterations time   ]:     389.61 secs [SUM]:   11994.50 secs\n",
      "   32% Done! [Iteration]:       6400 [200x iterations time   ]:     389.72 secs [SUM]:   12384.22 secs\n",
      "   33% Done! [Iteration]:       6600 [200x iterations time   ]:     390.42 secs [SUM]:   12774.64 secs\n",
      "   34% Done! [Iteration]:       6800 [200x iterations time   ]:     390.48 secs [SUM]:   13165.13 secs\n",
      "   35% Done! [Iteration]:       7000 [200x iterations time   ]:     390.87 secs [SUM]:   13556.00 secs\n",
      "   36% Done! [Iteration]:       7200 [200x iterations time   ]:     390.78 secs [SUM]:   13946.78 secs\n",
      "   37% Done! [Iteration]:       7400 [200x iterations time   ]:     391.95 secs [SUM]:   14338.73 secs\n",
      "   38% Done! [Iteration]:       7600 [200x iterations time   ]:     391.03 secs [SUM]:   14729.76 secs\n",
      "   39% Done! [Iteration]:       7800 [200x iterations time   ]:     390.69 secs [SUM]:   15120.44 secs\n",
      "   40% Done! [Iteration]:       8000 [200x iterations time   ]:     392.20 secs [SUM]:   15512.65 secs\n",
      "   41% Done! [Iteration]:       8200 [200x iterations time   ]:     392.58 secs [SUM]:   15905.22 secs\n",
      "   42% Done! [Iteration]:       8400 [200x iterations time   ]:     392.35 secs [SUM]:   16297.57 secs\n",
      "   43% Done! [Iteration]:       8600 [200x iterations time   ]:     391.51 secs [SUM]:   16689.08 secs\n",
      "   44% Done! [Iteration]:       8800 [200x iterations time   ]:     391.20 secs [SUM]:   17080.29 secs\n",
      "   45% Done! [Iteration]:       9000 [200x iterations time   ]:     391.22 secs [SUM]:   17471.50 secs\n",
      "   46% Done! [Iteration]:       9200 [200x iterations time   ]:     390.95 secs [SUM]:   17862.46 secs\n",
      "   47% Done! [Iteration]:       9400 [200x iterations time   ]:     392.75 secs [SUM]:   18255.20 secs\n",
      "   48% Done! [Iteration]:       9600 [200x iterations time   ]:     393.01 secs [SUM]:   18648.22 secs\n",
      "   49% Done! [Iteration]:       9800 [200x iterations time   ]:     392.50 secs [SUM]:   19040.71 secs\n",
      "   50% Done! [Iteration]:      10000 [200x iterations time   ]:     391.29 secs [SUM]:   19432.00 secs\n",
      "   51% Done! [Iteration]:      10200 [200x iterations time   ]:     391.40 secs [SUM]:   19823.41 secs\n",
      "   52% Done! [Iteration]:      10400 [200x iterations time   ]:     390.33 secs [SUM]:   20213.74 secs\n",
      "   53% Done! [Iteration]:      10600 [200x iterations time   ]:     391.67 secs [SUM]:   20605.42 secs\n",
      "   54% Done! [Iteration]:      10800 [200x iterations time   ]:     391.94 secs [SUM]:   20997.35 secs\n",
      "   55% Done! [Iteration]:      11000 [200x iterations time   ]:     390.56 secs [SUM]:   21387.91 secs\n",
      "   56% Done! [Iteration]:      11200 [200x iterations time   ]:     390.48 secs [SUM]:   21778.39 secs\n",
      "   57% Done! [Iteration]:      11400 [200x iterations time   ]:     391.00 secs [SUM]:   22169.40 secs\n",
      "   58% Done! [Iteration]:      11600 [200x iterations time   ]:     390.10 secs [SUM]:   22559.50 secs\n",
      "   59% Done! [Iteration]:      11800 [200x iterations time   ]:     390.71 secs [SUM]:   22950.21 secs\n",
      "   60% Done! [Iteration]:      12000 [200x iterations time   ]:     390.59 secs [SUM]:   23340.80 secs\n",
      "   61% Done! [Iteration]:      12200 [200x iterations time   ]:     390.56 secs [SUM]:   23731.36 secs\n",
      "   62% Done! [Iteration]:      12400 [200x iterations time   ]:     389.86 secs [SUM]:   24121.22 secs\n",
      "   63% Done! [Iteration]:      12600 [200x iterations time   ]:     393.45 secs [SUM]:   24514.67 secs\n",
      "   64% Done! [Iteration]:      12800 [200x iterations time   ]:     392.13 secs [SUM]:   24906.80 secs\n",
      "   65% Done! [Iteration]:      13000 [200x iterations time   ]:     391.81 secs [SUM]:   25298.61 secs\n",
      "   66% Done! [Iteration]:      13200 [200x iterations time   ]:     391.30 secs [SUM]:   25689.92 secs\n",
      "   67% Done! [Iteration]:      13400 [200x iterations time   ]:     391.54 secs [SUM]:   26081.46 secs\n",
      "   68% Done! [Iteration]:      13600 [200x iterations time   ]:     391.70 secs [SUM]:   26473.16 secs\n",
      "   69% Done! [Iteration]:      13800 [200x iterations time   ]:     391.73 secs [SUM]:   26864.89 secs\n",
      "   70% Done! [Iteration]:      14000 [200x iterations time   ]:     392.85 secs [SUM]:   27257.74 secs\n",
      "   71% Done! [Iteration]:      14200 [200x iterations time   ]:     391.76 secs [SUM]:   27649.50 secs\n",
      "   72% Done! [Iteration]:      14400 [200x iterations time   ]:     393.56 secs [SUM]:   28043.06 secs\n",
      "   73% Done! [Iteration]:      14600 [200x iterations time   ]:     392.38 secs [SUM]:   28435.44 secs\n",
      "   74% Done! [Iteration]:      14800 [200x iterations time   ]:     392.29 secs [SUM]:   28827.74 secs\n",
      "   75% Done! [Iteration]:      15000 [200x iterations time   ]:     393.37 secs [SUM]:   29221.11 secs\n",
      "   76% Done! [Iteration]:      15200 [200x iterations time   ]:     392.88 secs [SUM]:   29613.99 secs\n",
      "   77% Done! [Iteration]:      15400 [200x iterations time   ]:     393.44 secs [SUM]:   30007.43 secs\n",
      "   78% Done! [Iteration]:      15600 [200x iterations time   ]:     393.43 secs [SUM]:   30400.85 secs\n",
      "   79% Done! [Iteration]:      15800 [200x iterations time   ]:     393.98 secs [SUM]:   30794.84 secs\n"
     ]
    },
    {
     "name": "stdout",
     "output_type": "stream",
     "text": [
      "   80% Done! [Iteration]:      16000 [200x iterations time   ]:     393.31 secs [SUM]:   31188.15 secs\n",
      "   81% Done! [Iteration]:      16200 [200x iterations time   ]:     393.35 secs [SUM]:   31581.50 secs\n",
      "   82% Done! [Iteration]:      16400 [200x iterations time   ]:     393.82 secs [SUM]:   31975.32 secs\n",
      "   83% Done! [Iteration]:      16600 [200x iterations time   ]:     393.19 secs [SUM]:   32368.51 secs\n",
      "   84% Done! [Iteration]:      16800 [200x iterations time   ]:     394.13 secs [SUM]:   32762.64 secs\n",
      "   85% Done! [Iteration]:      17000 [200x iterations time   ]:     394.43 secs [SUM]:   33157.07 secs\n",
      "   86% Done! [Iteration]:      17200 [200x iterations time   ]:     393.90 secs [SUM]:   33550.97 secs\n",
      "   87% Done! [Iteration]:      17400 [200x iterations time   ]:     392.76 secs [SUM]:   33943.73 secs\n",
      "   88% Done! [Iteration]:      17600 [200x iterations time   ]:     392.90 secs [SUM]:   34336.62 secs\n",
      "   89% Done! [Iteration]:      17800 [200x iterations time   ]:     392.93 secs [SUM]:   34729.55 secs\n",
      "   90% Done! [Iteration]:      18000 [200x iterations time   ]:     392.92 secs [SUM]:   35122.47 secs\n",
      "   91% Done! [Iteration]:      18200 [200x iterations time   ]:     392.76 secs [SUM]:   35515.23 secs\n",
      "   92% Done! [Iteration]:      18400 [200x iterations time   ]:     393.71 secs [SUM]:   35908.94 secs\n",
      "   93% Done! [Iteration]:      18600 [200x iterations time   ]:     394.64 secs [SUM]:   36303.58 secs\n",
      "   94% Done! [Iteration]:      18800 [200x iterations time   ]:     392.69 secs [SUM]:   36696.27 secs\n",
      "   95% Done! [Iteration]:      19000 [200x iterations time   ]:     392.94 secs [SUM]:   37089.21 secs\n",
      "   96% Done! [Iteration]:      19200 [200x iterations time   ]:     393.48 secs [SUM]:   37482.69 secs\n",
      "   97% Done! [Iteration]:      19400 [200x iterations time   ]:     395.36 secs [SUM]:   37878.05 secs\n",
      "   98% Done! [Iteration]:      19600 [200x iterations time   ]:     396.97 secs [SUM]:   38275.03 secs\n",
      "   99% Done! [Iteration]:      19800 [200x iterations time   ]:     398.47 secs [SUM]:   38673.50 secs\n",
      "  100% Done! [Iteration]:      20000 [200x iterations time   ]:     397.17 secs [SUM]:   39070.67 secs\n"
     ]
    }
   ],
   "source": [
    "with tf.Session() as session:\n",
    "\n",
    "    session.run(tf.global_variables_initializer())\n",
    "\n",
    "    def generate_samples():\n",
    "        samples = session.run(fake_inputs)\n",
    "        samples = np.argmax(samples, axis=2)\n",
    "        decoded_samples = []\n",
    "        for i in range(len(samples)):\n",
    "            decoded = []\n",
    "            for j in range(len(samples[i])):\n",
    "                decoded.append(inv_charmap[samples[i][j]])\n",
    "            decoded_samples.append(tuple(decoded))\n",
    "        return decoded_samples\n",
    "\n",
    "    gen = inf_train_gen()\n",
    "\n",
    "    sum_time = 0.\n",
    "    line_time = 0. \n",
    "    loading_str = \"*\"\n",
    "    for iteration in range(ITERS):\n",
    "        start_time = time.time()\n",
    "        \n",
    "        if (iteration == 0):\n",
    "            now_time = time.clock()\n",
    "            print(\"[Start]\")\n",
    "\n",
    "        # Train generator\n",
    "        if iteration > 0:\n",
    "            _ = session.run(gen_train_op)\n",
    "\n",
    "        # Train critic\n",
    "        for i in range(CRITIC_ITERS):\n",
    "            _data = gen.__next__()\n",
    "            _disc_cost, _ = session.run(\n",
    "                [disc_cost, disc_train_op],\n",
    "                feed_dict={real_inputs_discrete:_data}\n",
    "            )\n",
    "\n",
    "        # How many iterations to change line \n",
    "        change_line=int(ITERS/1000)\n",
    "        \n",
    "        after_time=time.clock() - now_time\n",
    "        sum_time+=after_time\n",
    "        eta_time = (ITERS-iteration)*(after_time)\n",
    "        \n",
    "        print(\"[{1:10}] [Iteration]: {0:10} [Unit iteration time    ]: {2:10.2f} secs [ETA]: {3:10.2f} secs\".format( (iteration+1), loading_str, after_time, eta_time) , end=\"\\r\")\n",
    "        now_time = time.clock()\n",
    "        if iteration % change_line == (change_line-1):\n",
    "            loading_str += \"*\"\n",
    "            if iteration % (10*change_line) == (10*change_line-1):            \n",
    "                print(\"{5:5.0f}{0:7} [Iteration]: {1:10} [{2:23}]: {3:10.2f} secs [SUM]: {4:10.2f}\".format(\"% Done!\", (iteration+1), (str(10*change_line)+\"x iterations time\"), (sum_time-line_time), sum_time, (100*iteration/ITERS) ) )\n",
    "                loading_str = \"*\"\n",
    "                line_time = sum_time\n",
    "        \n",
    "        lib.plot.plot('time', time.time() - start_time)\n",
    "        lib.plot.plot('train disc cost', _disc_cost)\n",
    "\n",
    "        if iteration % (10*change_line) == (10*change_line-1):\n",
    "            #print(\"checkpintB\"+str(iteration+1))\n",
    "            samples = []\n",
    "            for i in range(10):\n",
    "                samples.extend(generate_samples())\n",
    "\n",
    "            for i in range(4):\n",
    "                lm = language_helpers.NgramLanguageModel(i+1, samples, tokenize=False)\n",
    "                lib.plot.plot('js{}'.format(i+1), lm.js_with(true_char_ngram_lms[i]))\n",
    "\n",
    "            with open('output_data/samples_{}.txt'.format(str(iteration+1).zfill(7)), 'w',encoding = 'utf8') as f:\n",
    "                for s in samples:\n",
    "                    s = \"\".join(s)\n",
    "                    s = language_helpers.checkDNSFrom(s)\n",
    "                    f.write(str(s) + \"\\n\")\n",
    "\n",
    "        #if iteration % (10*change_line) == (10*change_line-1):\n",
    "            #print(iteration)\n",
    "            #lib.plot.flush()\n",
    "        \n",
    "        lib.plot.tick()\n"
   ]
  },
  {
   "cell_type": "code",
   "execution_count": null,
   "metadata": {
    "collapsed": true
   },
   "outputs": [],
   "source": []
  }
 ],
 "metadata": {
  "kernelspec": {
   "display_name": "Python 3",
   "language": "python",
   "name": "python3"
  },
  "language_info": {
   "codemirror_mode": {
    "name": "ipython",
    "version": 3
   },
   "file_extension": ".py",
   "mimetype": "text/x-python",
   "name": "python",
   "nbconvert_exporter": "python",
   "pygments_lexer": "ipython3",
   "version": "3.5.3"
  }
 },
 "nbformat": 4,
 "nbformat_minor": 2
}
