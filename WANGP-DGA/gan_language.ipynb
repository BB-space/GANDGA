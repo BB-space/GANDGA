{
 "cells": [
  {
   "cell_type": "code",
   "execution_count": 1,
   "metadata": {
    "collapsed": true
   },
   "outputs": [],
   "source": [
    "import os, sys\n",
    "sys.path.append(os.getcwd())\n",
    "\n",
    "import time\n",
    "\n",
    "import numpy as np\n",
    "import tensorflow as tf\n",
    "\n",
    "import language_helpers\n",
    "import tflib as lib\n",
    "import tflib.ops.linear\n",
    "import tflib.ops.conv1d\n",
    "import tflib.plot"
   ]
  },
  {
   "cell_type": "code",
   "execution_count": 2,
   "metadata": {},
   "outputs": [],
   "source": [
    "# Download Google Billion Word at http://www.statmt.org/lm-benchmark/ and\n",
    "# fill in the path to the extracted files here!\n",
    "DATA_DIR = 'data/output'\n",
    "if len(DATA_DIR) == 0:\n",
    "    raise Exception(\"Please specify path to data directory in gan_language.py!\")\n",
    "\n",
    "BATCH_SIZE = 64 # Batch size\n",
    "ITERS = 50 # How many iterations to train for  default = 200000\n",
    "SEQ_LEN = 32 # Sequence length in characters\n",
    "DIM = 512 # Model dimensionality. This is fairly slow and overfits, even on\n",
    "          # Billion Word. Consider decreasing for smaller datasets.\n",
    "CRITIC_ITERS = 10 # How many critic iterations per generator iteration. We\n",
    "                  # use 10 for the results in the paper, but 5 should work fine\n",
    "                  # as well.\n",
    "LAMBDA = 10 # Gradient penalty lambda hyperparameter.\n",
    "MAX_N_EXAMPLES = 100000 # Max number of data examples to load. If data loading\n",
    "                          # is too slow or takes too much RAM, you can decrease\n",
    "                          # this (at the expense of having less training data). default = 10000000"
   ]
  },
  {
   "cell_type": "code",
   "execution_count": 3,
   "metadata": {},
   "outputs": [
    {
     "name": "stdout",
     "output_type": "stream",
     "text": [
      "Uppercase local vars:\n",
      "\tBATCH_SIZE: 64\n",
      "\tCRITIC_ITERS: 10\n",
      "\tDATA_DIR: data/output\n",
      "\tDIM: 512\n",
      "\tITERS: 50\n",
      "\tLAMBDA: 10\n",
      "\tMAX_N_EXAMPLES: 100000\n",
      "\tSEQ_LEN: 32\n",
      "loading dataset...\n",
      "('T', 'h', 'e', ' ', 'f', 'e', 'w', 'e', 'r', ' ', 'm', 'i', 's', 's', 'i', 'l', 'e', 's', ' ', 'R', 'u', 's', 's', 'i', 'a', ' ', 'h', 'a', 's', ' ', ',', ' ')\n",
      "('H', 'e', ' ', 'c', 'o', 'u', 'l', 'd', ' ', 'n', 'o', 't', ' ', 'e', 'x', 'p', 'l', 'a', 'i', 'n', ' ', 'w', 'h', 'y', ' ', 'S', 'h', 'a', 'k', 'i', 'r', ' ')\n",
      "('W', 'e', ' ', 'p', 'u', 'n', 'i', 's', 'h', ' ', 'c', 'r', 'i', 'm', 'i', 'n', 'a', 'l', ' ', 'b', 'e', 'h', 'a', 'v', 'i', 'o', 'r', ' ', 'i', 'n', ' ', 'i')\n",
      "('O', 'v', 'e', 'r', ' ', 't', 'h', 'e', ' ', 'p', 'a', 's', 't', ' ', 't', 'h', 'r', 'e', 'e', ' ', 'w', 'e', 'e', 'k', 's', ' ', 'T', 'h', 'e', ' ', 'S', 'u')\n",
      "('O', 'n', ' ', 'o', 'n', 'e', ' ', 'h', 'a', 'n', 'd', ' ', ',', ' ', '3', '2', ' ', 'p', 'e', 'r', 'c', 'e', 'n', 't', ' ', 'o', 'f', ' ', 'r', 'e', 'g', 'i')\n",
      "('T', 'h', 'e', ' ', 'o', 'f', 'f', 'e', 'n', 's', 'i', 'v', 'e', ' ', 'l', 'i', 'n', 'e', ' ', '.', '`', '`', '`', '`', '`', '`', '`', '`', '`', '`', '`', '`')\n",
      "('C', 'a', 'l', 'd', 'e', 'r', 'o', 'n', ' ', ',', ' ', 'i', 'n', ' ', 'a', ' ', 't', 'e', 'l', 'e', 'v', 'i', 's', 'e', 'd', ' ', 'a', 'd', 'd', 'r', 'e', 's')\n",
      "('I', 'n', ' ', 't', 'h', 'e', ' ', 'b', 'e', 'g', 'i', 'n', 'n', 'i', 'n', 'g', ' ', 'p', 'r', 'e', 'p', 'a', 'i', 'd', ' ', 'c', 'a', 'r', 'd', 's', ' ', 'w')\n",
      "('\"', ' ', 'I', 'f', ' ', 'y', 'o', 'u', ' ', 'h', 'a', 'v', 'e', ' ', 'b', 'e', 'e', 'n', ' ', 'a', ' ', 's', 'u', 'r', 'p', 'r', 'i', 's', 'e', ' ', 'o', 'n')\n",
      "('O', 'b', 'a', 'm', 'a', ' ', \"'\", 's', ' ', 'c', 'a', 'm', 'p', 'a', 'i', 'g', 'n', ' ', 'd', 'i', 'd', ' ', 'n', 'o', 't', ' ', 'h', 'a', 'v', 'e', ' ', 'a')\n",
      "('T', 'h', 'e', ' ', 'g', 'o', 'o', 'd', ' ', 'n', 'e', 'w', 's', ' ', 'i', 's', ' ', 't', 'h', 'a', 't', ' ', 'r', 'e', 'm', 'e', 'd', 'i', 'e', 's', ' ', 'l')\n",
      "('\"', ' ', 'S', 'o', ' ', 'I', ' ', 'c', 'a', 'm', 'e', ' ', 'u', 'p', ' ', 'w', 'i', 't', 'h', ' ', 't', 'h', 'e', ' ', 'i', 'd', 'e', 'a', ' ', 't', 'o', ' ')\n",
      "('W', 'i', 't', 'h', ' ', 't', 'h', 'a', 't', ' ', 'q', 'u', 'o', 't', 'e', ' ', 'i', 'n', ' ', 'm', 'i', 'n', 'd', ' ', ',', ' ', 't', 'h', 'e', ' ', 'q', 'u')\n",
      "('U', 'n', 'd', 'e', 'r', 'g', 'r', 'a', 'd', 'u', 'a', 't', 'e', 's', ' ', 'h', 'a', 'v', 'e', ' ', 'a', ' ', 's', 'a', 'y', 'i', 'n', 'g', ' ', 'w', 'i', 't')\n",
      "('I', 't', 's', ' ', 'm', 'a', 'n', 'u', 'f', 'a', 'c', 't', 'u', 'r', 'e', 'r', ' ', ',', ' ', 'G', 'l', 'a', 'x', 'o', 'S', 'm', 'i', 't', 'h', 'K', 'l', 'i')\n",
      "('N', 'o', 'w', ' ', 't', 'h', 'e', 'y', ' ', \"'\", 'r', 'e', ' ', 'e', 'v', 'e', 'n', ' ', 'w', 'o', 'r', 's', 'e', ' ', 'o', 'f', 'f', ' ', ',', ' ', 'a', 'n')\n",
      "('T', 'h', 'e', ' ', 'm', 'o', 's', 't', ' ', 'c', 'o', 'm', 'm', 'o', 'n', ' ', 'c', 'o', 'n', 'd', 'i', 't', 'i', 'o', 'n', ' ', 'w', 'a', 's', ' ', 'r', 'u')\n",
      "('H', 'O', 'U', 'R', 'S', ' ', 'A', 'N', 'D', ' ', 'A', 'D', 'M', 'I', 'S', 'S', 'I', 'O', 'N', ' ', 'O', 'n', ' ', 'F', 'r', 'i', 'd', 'a', 'y', ' ', 't', 'h')\n",
      "('J', 'o', 'h', 'n', ' ', 'C', 'a', 'm', 'e', 'r', 'o', 'n', ' ', 'M', 'i', 't', 'c', 'h', 'e', 'l', 'l', ' ', 'w', 'i', 't', 'h', ' ', 'N', 'i', 'c', 'o', 'l')\n",
      "('P', 'o', 'r', 't', 'a', 'd', 'o', 'w', 'n', ' ', 'h', 'a', 'd', ' ', 'p', 'r', 'o', 't', 'e', 's', 't', 'e', 'd', ' ', 'a', 'b', 'o', 'u', 't', ' ', 'C', 'o')\n",
      "('H', 'e', ' ', 'w', 'a', 's', ' ', 'r', 'e', 's', 'p', 'o', 'n', 's', 'i', 'b', 'l', 'e', ' ', 'f', 'o', 'r', ' ', 't', 'h', 'e', ' ', 's', 't', 'a', 't', 'e')\n",
      "('T', 'h', 'e', ' ', 'C', 'h', 'i', 'n', 'e', 's', 'e', ' ', 'g', 'o', 'v', 'e', 'r', 'n', 'm', 'e', 'n', 't', ' ', 'h', 'a', 's', ' ', 'a', 'l', 'l', 'o', 'w')\n",
      "('A', 'n', 'd', ' ', 't', 'h', 'a', 't', ' ', \"'\", 's', ' ', 'e', 'v', 'e', 'n', ' ', 'a', 'f', 't', 'e', 'r', ' ', 't', 'h', 'e', 'y', ' ', 's', 'e', 'n', 't')\n",
      "('H', 'a', 'v', 'i', 'n', 'g', ' ', 'a', 'l', 'r', 'e', 'a', 'd', 'y', ' ', 'w', 'o', 'n', ' ', 'a', 'w', 'a', 'y', ' ', 't', 'o', ' ', 'A', 'r', 's', 'e', 'n')\n",
      "('I', 't', ' ', 'w', 'a', 's', ' ', 'a', 'n', ' ', 'a', 't', 'm', 'o', 's', 'p', 'h', 'e', 'r', 'e', ' ', 'o', 'f', ' ', 'i', 'n', 't', 'i', 'm', 'i', 'd', 'a')\n",
      "('W', 'h', 'i', 'l', 'e', ' ', 't', 'h', 'e', ' ', 'e', 'u', 'r', 'o', ' ', 'c', 'l', 'i', 'm', 'b', 'e', 'd', ' ', 't', 'o', ' ', 's', 't', 'a', 'y', ' ', 'i')\n",
      "('T', 'h', 'e', ' ', 'b', 'o', 'r', 'o', 'u', 'g', 'h', ' ', 'p', 'r', 'e', 's', 'i', 'd', 'e', 'n', 't', ' ', \"'\", 's', ' ', 'g', 'u', 'i', 'd', 'e', 'l', 'i')\n",
      "('T', 'h', 'e', ' ', 'd', 'i', 's', 'p', 'u', 't', 'e', ' ', 'o', 'v', 'e', 'r', ' ', 't', 'h', 'e', ' ', 'f', 'i', 'g', 'u', 'r', 'e', 's', ' ', 'h', 'a', 'd')\n",
      "('P', 'r', 'e', 's', 'e', 'n', 't', 'e', 'd', ' ', 'b', 'y', ' ', 'T', 'o', 'n', 'y', ' ', 'R', 'o', 'b', 'i', 'n', 's', 'o', 'n', ' ', ',', ' ', 't', 'h', 'e')\n",
      "('2', '9', ' ', '(', ' ', 'U', 'P', 'I', ' ', ')', ' ', '-', '-', ' ', 'N', 'e', 'w', ' ', 'J', 'e', 'r', 's', 'e', 'y', ' ', 's', 't', 'a', 't', 'e', ' ', 'o')\n",
      "('T', 'h', 'e', ' ', 'i', 'n', 'f', 'l', 'u', 'e', 'n', 't', 'i', 'a', 'l', ' ', 'R', 'i', 'k', 'i', ' ', 'F', 'l', 'u', 't', 'e', 'y', ' ', \"'\", 's', ' ', 'i')\n",
      "('M', 'o', 'r', 'e', ' ', 's', 'o', ' ', ',', ' ', 'c', 'e', 'r', 't', 'a', 'i', 'n', 'l', 'y', ' ', ',', ' ', 't', 'h', 'a', 'n', ' ', 't', 'h', 'e', ' ', 'r')\n",
      "('I', 'n', ' ', 't', 'h', 'e', ' ', 'U', 'K', ' ', 'a', 'l', 'o', 'n', 'e', ' ', ',', ' ', 't', 'h', 'e', ' ', 's', 'e', 'w', 'a', 'g', 'e', ' ', 's', 'y', 's')\n",
      "('T', 'h', 'e', ' ', 'g', 'r', 'o', 'u', 'p', ' ', 's', 'e', 't', ' ', 'o', 'f', 'f', ' ', 'o', 'n', ' ', '\"', ' ', 'a', 'n', ' ', 'e', 'x', 'c', 'u', 'r', 's')\n",
      "('B', 'u', 't', ' ', 'w', 'i', 't', 'h', ' ', 'l', 'o', 'n', 'g', 'e', 'r', ' ', 's', 't', 'a', 'y', 's', ' ', 'i', 'n', ' ', 's', 'p', 'a', 'c', 'e', ' ', 'b')\n",
      "('H', 'P', 'N', ' ', 'h', 'a', 's', ' ', 'b', 'e', 'e', 'n', ' ', 's', 'e', 'l', 'e', 'c', 't', 'e', 'd', ' ', 'a', 's', ' ', 'o', 'n', 'e', ' ', 'o', 'f', ' ')\n",
      "('C', 'a', 'm', 'e', 'r', 'o', 'n', ' ', 'h', 'i', 'm', 's', 'e', 'l', 'f', ' ', 's', 'o', 'u', 'g', 'h', 't', ' ', 't', 'o', ' ', 'e', 'n', 'c', 'o', 'u', 'r')\n",
      "('I', 'n', 'd', 'i', 'c', 'a', 't', 'o', 'r', 's', ' ', 's', 'u', 'g', 'g', 'e', 's', 't', ' ', 't', 'h', 'a', 't', ' ', 't', 'h', 'e', ' ', 'r', 'e', 'c', 'o')\n",
      "('\"', ' ', 'H', 'e', ' ', 'd', 'i', 'd', 'n', ' ', \"'\", 't', ' ', 'k', 'n', 'o', 'w', ' ', 'h', 'o', 'w', ' ', 'w', 'e', ' ', 'c', 'a', 'm', 'e', ' ', 't', 'o')\n",
      "('M', 'r', ' ', 'B', 'a', 'n', ' ', 's', 'a', 'i', 'd', ' ', 'M', 'r', ' ', 'G', 'a', 'm', 'b', 'a', 'r', 'i', ' ', 'e', 'x', 'p', 'e', 'c', 't', 'e', 'd', ' ')\n",
      "('S', 'p', 'u', 'r', 's', ' ', 'c', 'o', 'n', 't', 'r', 'o', 'l', 'l', 'e', 'd', ' ', 't', 'h', 'e', ' ', 'm', 'a', 't', 'c', 'h', ' ', 'f', 'r', 'o', 'm', ' ')\n",
      "('\"', ' ', 'W', 'e', ' ', \"'\", 'r', 'e', ' ', 'a', 'l', 'l', ' ', 'd', 'i', 's', 'a', 'p', 'p', 'o', 'i', 'n', 't', 'e', 'd', ' ', '.', '`', '`', '`', '`', '`')\n",
      "('C', 'h', 'a', 'r', 'l', 'i', 'e', ' ', 'G', 'i', 'b', 's', 'o', 'n', ' ', 'w', 'a', 's', ' ', 'w', 'o', 'n', 'd', 'e', 'r', 'f', 'u', 'l', ' ', 'o', 'n', ' ')\n",
      "('B', 'i', 's', 'h', 'o', 'p', ' ', 'R', 'i', 'c', 'h', 'a', 'r', 'd', ' ', 'W', 'i', 'l', 'l', 'i', 'a', 'm', 's', 'o', 'n', ' ', 'f', 'l', 'e', 'w', ' ', 'i')\n",
      "('T', 'o', 'n', 'y', ' ', 'K', 'e', 'r', 'r', 'i', 'd', 'g', 'e', ' ', ',', ' ', 'o', 'f', ' ', 't', 'h', 'e', ' ', 's', 'e', 'x', 'u', 'a', 'l', ' ', 'h', 'e')\n",
      "('T', 'h', 'e', ' ', 't', 'e', 'x', 't', 'u', 'r', 'e', ' ', 'a', 'n', 'd', ' ', 't', 'h', 'e', ' ', 't', 'a', 's', 't', 'e', ' ', 'w', 'e', 'r', 'e', ' ', 'e')\n",
      "('B', 'u', 't', ' ', 't', 'h', 'a', 't', ' ', \"'\", 's', ' ', 'n', 'o', 't', ' ', 't', 'h', 'e', ' ', 'c', 'a', 's', 'e', ' ', 'w', 'i', 't', 'h', ' ', 'L', 'e')\n",
      "('E', 'l', 'l', 'e', 'n', ' ', 'D', 'e', 'G', 'e', 'n', 'e', 'r', 'e', 's', ' ', 'r', 'e', 'p', 'l', 'a', 'c', 'e', 's', ' ', 'P', 'a', 'u', 'l', 'a', ' ', 't')\n",
      "('\"', ' ', 'T', 'h', 'o', 's', 'e', ' ', 'k', 'i', 'n', 'd', 's', ' ', 'o', 'f', ' ', 'c', 'o', 'n', 'v', 'e', 'r', 's', 'a', 't', 'i', 'o', 'n', ' ', '-', '-')\n",
      "('O', 'n', 'e', ' ', 'o', 'f', ' ', 't', 'h', 'e', ' ', 'm', 'a', 'i', 'n', ' ', 's', 'u', 's', 'p', 'e', 'c', 't', 's', ' ', 's', 'e', 'e', 'n', ' ', 'i', 'n')\n",
      "('\"', ' ', 'T', 'o', ' ', 'h', 'e', 'l', 'p', ' ', 'd', 'r', 'i', 'v', 'e', 'r', 's', ' ', 'p', 'l', 'a', 'n', ' ', 't', 'h', 'e', 'i', 'r', ' ', 'j', 'o', 'u')\n",
      "('P', 'i', 'c', 'a', 'r', 'd', ' ', 'h', 'a', 'd', ' ', 's', 'u', 'e', 'd', ' ', 'P', 'i', 'c', 'o', 'w', 'e', 'r', ' ', ',', ' ', 'a', 'l', 'l', 'e', 'g', 'i')\n",
      "('M', 'o', 'd', 'e', 'r', 'n', ' ', ',', ' ', 'h', 'i', 'g', 'h', '-', 't', 'e', 'c', 'h', 'n', 'o', 'l', 'o', 'g', 'y', ' ', 'o', 'p', 'e', 'r', 'a', 't', 'i')\n",
      "('D', 'r', 'e', 'w', ' ', 'P', 'e', 't', 'e', 'r', 's', 'o', 'n', ' ', 't', 'o', 'o', 'k', ' ', 't', 'w', 'o', ' ', 'l', 'i', 'e', '-', 'd', 'e', 't', 'e', 'c')\n",
      "('T', 'h', 'e', ' ', 'C', 'i', 'v', 'i', 'c', ' ', 'T', 'r', 'u', 's', 't', ' ', 'w', 'a', 's', ' ', 't', 'h', 'e', ' ', 'n', 'a', 't', 'i', 'o', 'n', 'a', 'l')\n",
      "('T', 'h', 'e', ' ', 'M', 'e', 'e', 't', 'i', 'n', 'g', ' ', 'I', 's', ' ', 'E', 'x', 'p', 'e', 'c', 't', 'e', 'd', ' ', 'T', 'o', ' ', 'B', 'e', ' ', 'H', 'e')\n",
      "('A', 'b', 'o', 'u', 't', ' ', '3', '5', ' ', 'p', 'e', 'r', ' ', 'c', 'e', 'n', 't', ' ', 'o', 'f', ' ', 't', 'h', 'a', 't', ' ', 'f', 'i', 'g', 'u', 'r', 'e')\n",
      "('T', 'a', 'k', 'e', ' ', ',', ' ', 'f', 'o', 'r', ' ', 'e', 'x', 'a', 'm', 'p', 'l', 'e', ' ', ',', ' ', 't', 'h', 'e', ' ', 'p', 'u', 's', 'h', ' ', 't', 'o')\n",
      "('I', 'v', 'a', 'n', ' ', 'M', 'i', 'h', 'a', 'i', 'l', 'i', 'c', 'e', 'n', 'k', 'o', ' ', ',', ' ', 'a', ' ', '6', '8', '-', 'y', 'e', 'a', 'r', '-', 'o', 'l')\n",
      "('I', 'f', ' ', 'g', 'r', 'o', 'w', 't', 'h', ' ', 'f', 'u', 'n', 'd', ' ', 'm', 'a', 'n', 'a', 'g', 'e', 'r', 's', ' ', 'r', 'u', 's', 'h', ' ', 't', 'o', ' ')\n",
      "('H', 'e', ' ', 't', 'o', 'l', 'd', ' ', 'M', 'o', 't', 'h', 'e', 'r', ' ', 'J', 'o', 'n', 'e', 's', ' ', 'm', 'a', 'g', 'a', 'z', 'i', 'n', 'e', ' ', 'a', 'b')\n",
      "('P', 'B', 'S', ' ', 'p', 'r', 'o', 'd', 'u', 'c', 'e', 'r', 's', ' ', 'a', 'r', 'e', ' ', 'a', 'l', 's', 'o', ' ', 'p', 'l', 'a', 'n', 'n', 'i', 'n', 'g', ' ')\n",
      "('O', 'n', ' ', 't', 'h', 'e', ' ', 'r', 'a', 'n', 'c', 'h', ' ', 'M', 'r', '.', ' ', 'K', 'i', 'e', 'h', 'n', 'e', ' ', 'r', 'e', 'c', 'e', 'i', 'v', 'e', 'd')\n",
      "('\"', ' ', 'I', 'f', ' ', 'y', 'o', 'u', ' ', \"'\", 'r', 'e', ' ', 'l', 'o', 'o', 'k', 'i', 'n', 'g', ' ', 'f', 'o', 'r', ' ', 'p', 'u', 'm', 'p', 'k', 'i', 'n')\n",
      "('W', 'h', 'i', 'l', 'e', ' ', 'w', 'e', ' ', 'w', 'e', 'r', 'e', ' ', 't', 'h', 'e', 'r', 'e', ' ', ',', ' ', 'h', 'e', ' ', 'l', 'e', 'f', 't', ' ', 'n', 'o')\n",
      "('P', 'o', 'r', 't', 's', 'm', 'o', 'u', 't', 'h', ' ', '(', ' ', '4', '-', '5', '-', '1', ' ', ')', ' ', ':', ' ', 'D', ' ', 'J', 'a', 'm', 'e', 's', ' ', '-')\n",
      "('I', 'f', ' ', 'y', 'o', 'u', ' ', 'h', 'a', 'v', 'e', ' ', 'a', 'n', 'y', ' ', 'i', 'd', 'e', 'a', 's', ' ', ',', ' ', 't', 'h', 'a', 't', ' ', 'w', 'o', 'u')\n",
      "('2', ' ', 'h', 'e', 'a', 'r', 'i', 'n', 'g', ' ', 'o', 'n', ' ', 't', 'h', 'e', ' ', 'm', 'a', 't', 't', 'e', 'r', ' ', 'h', 'a', 's', ' ', 'b', 'e', 'e', 'n')\n",
      "('H', 'o', 'w', ' ', 'm', 'u', 'c', 'h', ' ', 'l', 'o', 'n', 'g', 'e', 'r', ' ', 'w', 'i', 'l', 'l', ' ', 't', 'h', 'e', ' ', 'U', 'n', 'i', 't', 'e', 'd', ' ')\n",
      "('T', 's', 'o', 'n', 'g', 'a', ' ', 'u', 'p', 's', 'e', 't', ' ', 'N', 'o', '.', ' ', '3', ' ', 'N', 'o', 'v', 'a', 'k', ' ', 'D', 'j', 'o', 'k', 'o', 'v', 'i')\n",
      "('I', 't', ' ', 'w', 'a', 's', ' ', 'a', 'l', 's', 'o', ' ', 's', 'u', 'c', 'c', 'e', 's', 's', 'f', 'u', 'l', ' ', 'w', 'h', 'e', 'n', ' ', 'u', 's', 'e', 'd')\n",
      "('Y', 'e', 's', ' ', 't', 'h', 'o', 's', 'e', ' ', 'f', 'u', 'n', ' ', 'l', 'o', 'v', 'i', 'n', 'g', ' ', 'd', 'e', 'n', 'i', 'a', 'r', 's', ' ', ',', ' ', 'w')\n",
      "('T', 'h', 'e', ' ', 'c', 'l', 'u', 'b', ' ', 'i', 's', ' ', 'e', 'x', 'p', 'e', 'r', 'i', 'm', 'e', 'n', 't', 'i', 'n', 'g', ' ', 'w', 'i', 't', 'h', ' ', 'r')\n",
      "('W', 'o', 'm', 'e', 'n', ' ', 'c', 'o', 'm', 'p', 'r', 'i', 's', 'e', ' ', 'j', 'u', 's', 't', ' ', '1', '3', ' ', 'p', 'e', 'r', 'c', 'e', 'n', 't', ' ', 'o')\n",
      "('T', 'h', 'e', 'r', 'e', ' ', 'w', 'a', 's', ' ', 'g', 'o', 'o', 'd', ' ', 'n', 'e', 'w', 's', ' ', 'h', 'o', 'w', 'e', 'v', 'e', 'r', ' ', 'f', 'o', 'r', ' ')\n",
      "('P', 'o', 'n', 'c', 'e', ' ', 'a', 'l', 's', 'o', ' ', 's', 'a', 'i', 'd', ' ', 't', 'w', 'o', ' ', 'o', 'f', ' ', 'h', 'i', 's', ' ', 'f', 'r', 'i', 'e', 'n')\n",
      "('\"', ' ', 'I', 't', ' ', \"'\", 's', ' ', 'a', ' ', 'v', 'a', 'l', 'u', 'a', 'b', 'l', 'e', ' ', 'f', 'a', 'c', 'i', 'l', 'i', 't', 'y', ' ', '.', '`', '`', '`')\n",
      "('A', ' ', 's', 'h', 'e', 'r', 'i', 'f', 'f', ' ', 's', 'a', 'i', 'd', ' ', 'W', 'e', 'd', 'n', 'e', 's', 'd', 'a', 'y', ' ', 't', 'h', 'a', 't', ' ', 'a', 'u')\n",
      "('F', 'i', 'r', 's', 't', ' ', '5', ' ', 'L', 'A', ' ', \"'\", 's', ' ', '\"', ' ', 'R', 'e', 'a', 'd', ' ', 'E', 'a', 'r', 'l', 'y', ' ', ',', ' ', 'R', 'e', 'a')\n",
      "('O', 'i', 'l', ' ', 'p', 'r', 'i', 'c', 'e', 's', ' ', 'e', 'd', 'g', 'e', 'd', ' ', 'h', 'i', 'g', 'h', 'e', 'r', ' ', ',', ' ', 'w', 'i', 't', 'h', ' ', 'l')\n",
      "('R', 'e', 'v', 'e', 'n', 'u', 'e', ' ', 'f', 'o', 'r', ' ', 't', 'h', 'e', ' ', 'f', 'i', 'r', 's', 't', ' ', 'n', 'i', 'n', 'e', ' ', 'm', 'o', 'n', 't', 'h')\n",
      "('T', 'h', 'e', ' ', 'C', 'o', 'l', 't', 'o', 'n', ' ', 'l', 'i', 'b', 'r', 'a', 'r', 'y', ' ', 's', 'a', 'w', ' ', '1', '6', '0', ',', '9', '4', '5', ' ', 'p')\n",
      "('A', 'l', 't', 'h', 'o', 'u', 'g', 'h', ' ', 't', 'h', 'e', ' ', 'F', 'e', 'd', ' ', 'm', 'e', 'e', 't', 'i', 'n', 'g', ' ', 'l', 'o', 'o', 'm', 's', ' ', 'l')\n",
      "('M', 'o', 'z', 'i', 'l', 'l', 'a', ' ', \"'\", 's', ' ', 'F', 'i', 'r', 'e', 'f', 'o', 'x', ' ', ',', ' ', 't', 'h', 'e', ' ', 's', 'e', 'c', 'o', 'n', 'd', ' ')\n",
      "('L', 'e', 't', 't', 'e', 'r', 'm', 'a', 'n', ' ', 's', 'a', 'i', 'd', ' ', 'd', 'u', 'r', 'i', 'n', 'g', ' ', 'M', 'o', 'n', 'd', 'a', 'y', ' ', 'n', 'i', 'g')\n",
      "('A', 'i', 'r', 'l', 'i', 'n', 'e', ' ', 'e', 'x', 'e', 'c', 'u', 't', 'i', 'v', 'e', 's', ' ', 'h', 'a', 'v', 'e', ' ', 'w', 'o', 'r', 'k', 'e', 'd', ' ', 'c')\n",
      "('B', 'r', 'o', 'w', 'n', ' ', \"'\", 's', ' ', 'j', 'o', 'b', ' ', 'a', 's', ' ', 'a', ' ', 'b', 'u', 'f', 'f', 'e', 't', ' ', 'm', 'a', 'n', 'a', 'g', 'e', 'r')\n",
      "('A', 's', ' ', 's', 'u', 'c', 'h', ' ', ',', ' ', 't', 'h', 'i', 's', ' ', 'i', 's', ' ', 'a', ' ', 'r', 'a', 't', 'h', 'e', 'r', ' ', 's', 'h', 'a', 'r', 'p')\n",
      "('A', 'j', 'r', 'a', 'm', 'i', ' ', 's', 'a', 'i', 'd', ' ', 'h', 'o', 'w', 'e', 'v', 'e', 'r', ' ', 't', 'h', 'a', 't', ' ', 'P', 'a', 'l', 'e', 's', 't', 'i')\n",
      "('M', 'i', 'l', 'a', 'n', ' ', 'h', 'a', 'd', ' ', 'm', 'i', 's', 's', 'e', 'd', ' ', 'o', 'u', 't', ' ', 'o', 'n', ' ', 'C', 'h', 'a', 'm', 'p', 'i', 'o', 'n')\n",
      "('W', 'i', 't', 'h', ' ', '\"', ' ', 'B', 'a', 'l', 'e', 'n', 'c', 'i', 'a', 'g', 'a', ' ', ':', ' ', 'S', 'p', 'a', 'n', 'i', 's', 'h', ' ', 'M', 'a', 's', 't')\n",
      "('F', 'e', 'r', 'g', 'u', 's', 'o', 'n', ' ', ',', ' ', 'w', 'h', 'o', ' ', 'h', 'a', 's', 'n', ' ', \"'\", 't', ' ', 'd', 'o', 'n', 'e', ' ', 'm', 'u', 'c', 'h')\n",
      "('K', 'a', 'r', 'z', 'a', 'i', ' ', 'h', 'a', 's', ' ', 'l', 'e', 'd', ' ', 'A', 'f', 'g', 'h', 'a', 'n', 'i', 's', 't', 'a', 'n', ' ', 's', 'i', 'n', 'c', 'e')\n",
      "('\"', ' ', 'N', 'e', 'w', ' ', 'm', 'u', 's', 'i', 'c', ' ', 'c', 'o', 'm', 'i', 'n', 'g', ' ', 'r', 'e', 'a', 'l', ' ', 's', 'o', 'o', 'n', ' ', ',', ' ', 'I')\n",
      "('S', 'e', 'v', 'e', 'r', 'i', 'n', ' ', \"'\", 's', ' ', 'f', 'e', 'l', 'l', 'o', 'w', ' ', 'c', 'o', '-', 'r', 'a', 'p', 'p', 'o', 'r', 't', 'e', 'u', 'r', ' ')\n",
      "('B', 'y', ' ', 't', 'h', 'e', ' ', 'e', 'i', 'g', 'h', 't', 'h', ' ', ',', ' ', 'M', 'o', 'r', 'r', 'o', 'w', ' ', 'w', 'a', 's', ' ', 't', 'i', 'r', 'i', 'n')\n",
      "('F', 'o', 'r', ' ', 'e', 'x', 'a', 'm', 'p', 'l', 'e', ' ', ',', ' ', 'i', 't', ' ', 'f', 'i', 'n', 'd', 's', ' ', 't', 'h', 'a', 't', ' ', 'w', 'h', 'i', 'l')\n",
      "('\"', ' ', 'B', 'i', 'l', 'l', ' ', 'b', 'r', 'i', 'n', 'g', 's', ' ', 'a', ' ', 'w', 'e', 'a', 'l', 't', 'h', ' ', 'o', 'f', ' ', 'b', 'u', 's', 'i', 'n', 'e')\n",
      "('T', 'h', 'a', 't', ' ', 's', 'o', 'u', 'n', 'd', 'e', 'd', ' ', 'r', 'e', 'a', 's', 'o', 'n', 'a', 'b', 'l', 'e', ' ', '.', '`', '`', '`', '`', '`', '`', '`')\n",
      "('B', 'u', 't', ' ', 'w', 'e', ' ', 'c', 'a', 'n', ' ', \"'\", 't', ' ', 'f', 'i', 'n', 'd', ' ', 'a', ' ', 'w', 'o', 'm', 'a', 'n', ' ', 't', 'o', ' ', 't', 'a')\n",
      "loaded 100000 lines in dataset\n"
     ]
    }
   ],
   "source": [
    "lib.print_model_settings(locals().copy())\n",
    "\n",
    "lines, charmap, inv_charmap = language_helpers.load_dataset(\n",
    "    max_length=SEQ_LEN,\n",
    "    max_n_examples=MAX_N_EXAMPLES,\n",
    "    data_dir=DATA_DIR\n",
    ")"
   ]
  },
  {
   "cell_type": "code",
   "execution_count": 4,
   "metadata": {
    "collapsed": true
   },
   "outputs": [],
   "source": [
    "def softmax(logits):\n",
    "    return tf.reshape(\n",
    "        tf.nn.softmax(\n",
    "            tf.reshape(logits, [-1, len(charmap)])\n",
    "        ),\n",
    "        tf.shape(logits)\n",
    "    )"
   ]
  },
  {
   "cell_type": "code",
   "execution_count": 5,
   "metadata": {
    "collapsed": true
   },
   "outputs": [],
   "source": [
    "def make_noise(shape):\n",
    "    return tf.random_normal(shape)"
   ]
  },
  {
   "cell_type": "code",
   "execution_count": 6,
   "metadata": {
    "collapsed": true
   },
   "outputs": [],
   "source": [
    "def ResBlock(name, inputs):\n",
    "    output = inputs\n",
    "    output = tf.nn.relu(output)\n",
    "    output = lib.ops.conv1d.Conv1D(name+'.1', DIM, DIM, 5, output)\n",
    "    output = tf.nn.relu(output)\n",
    "    output = lib.ops.conv1d.Conv1D(name+'.2', DIM, DIM, 5, output)\n",
    "    return inputs + (0.3*output)"
   ]
  },
  {
   "cell_type": "code",
   "execution_count": 7,
   "metadata": {
    "collapsed": true
   },
   "outputs": [],
   "source": [
    "def Generator(n_samples, prev_outputs=None):\n",
    "    output = make_noise(shape=[n_samples, 128])\n",
    "    output = lib.ops.linear.Linear('Generator.Input', 128, SEQ_LEN*DIM, output)\n",
    "    output = tf.reshape(output, [-1, DIM, SEQ_LEN])\n",
    "    output = ResBlock('Generator.1', output)\n",
    "    output = ResBlock('Generator.2', output)\n",
    "    output = ResBlock('Generator.3', output)\n",
    "    output = ResBlock('Generator.4', output)\n",
    "    output = ResBlock('Generator.5', output)\n",
    "    output = lib.ops.conv1d.Conv1D('Generator.Output', DIM, len(charmap), 1, output)\n",
    "    output = tf.transpose(output, [0, 2, 1])\n",
    "    output = softmax(output)\n",
    "    return output"
   ]
  },
  {
   "cell_type": "code",
   "execution_count": 8,
   "metadata": {
    "collapsed": true
   },
   "outputs": [],
   "source": [
    "def Discriminator(inputs):\n",
    "    output = tf.transpose(inputs, [0,2,1])\n",
    "    output = lib.ops.conv1d.Conv1D('Discriminator.Input', len(charmap), DIM, 1, output)\n",
    "    output = ResBlock('Discriminator.1', output)\n",
    "    output = ResBlock('Discriminator.2', output)\n",
    "    output = ResBlock('Discriminator.3', output)\n",
    "    output = ResBlock('Discriminator.4', output)\n",
    "    output = ResBlock('Discriminator.5', output)\n",
    "    output = tf.reshape(output, [-1, SEQ_LEN*DIM])\n",
    "    output = lib.ops.linear.Linear('Discriminator.Output', SEQ_LEN*DIM, 1, output)\n",
    "    return output"
   ]
  },
  {
   "cell_type": "code",
   "execution_count": 9,
   "metadata": {
    "collapsed": true
   },
   "outputs": [],
   "source": [
    "real_inputs_discrete = tf.placeholder(tf.int32, shape=[BATCH_SIZE, SEQ_LEN])\n",
    "real_inputs = tf.one_hot(real_inputs_discrete, len(charmap))\n",
    "fake_inputs = Generator(BATCH_SIZE)\n",
    "fake_inputs_discrete = tf.argmax(fake_inputs, fake_inputs.get_shape().ndims-1)"
   ]
  },
  {
   "cell_type": "code",
   "execution_count": 10,
   "metadata": {
    "collapsed": true
   },
   "outputs": [],
   "source": [
    "disc_real = Discriminator(real_inputs) \n",
    "disc_fake = Discriminator(fake_inputs)"
   ]
  },
  {
   "cell_type": "code",
   "execution_count": 11,
   "metadata": {
    "collapsed": true
   },
   "outputs": [],
   "source": [
    "disc_cost = tf.reduce_mean(disc_fake) - tf.reduce_mean(disc_real)\n",
    "gen_cost = -tf.reduce_mean(disc_fake)"
   ]
  },
  {
   "cell_type": "code",
   "execution_count": 12,
   "metadata": {
    "collapsed": true
   },
   "outputs": [],
   "source": [
    "# WGAN lipschitz-penalty\n",
    "alpha = tf.random_uniform(\n",
    "    shape=[BATCH_SIZE,1,1], \n",
    "    minval=0.,\n",
    "    maxval=1.\n",
    ")"
   ]
  },
  {
   "cell_type": "code",
   "execution_count": 13,
   "metadata": {
    "collapsed": true
   },
   "outputs": [],
   "source": [
    "differences = fake_inputs - real_inputs\n",
    "interpolates = real_inputs + (alpha*differences)\n",
    "gradients = tf.gradients(Discriminator(interpolates), [interpolates])[0]\n",
    "slopes = tf.sqrt(tf.reduce_sum(tf.square(gradients), reduction_indices=[1,2]))\n",
    "gradient_penalty = tf.reduce_mean((slopes-1.)**2)\n",
    "disc_cost += LAMBDA*gradient_penalty"
   ]
  },
  {
   "cell_type": "code",
   "execution_count": 14,
   "metadata": {
    "collapsed": true
   },
   "outputs": [],
   "source": [
    "gen_params = lib.params_with_name('Generator')\n",
    "disc_params = lib.params_with_name('Discriminator')"
   ]
  },
  {
   "cell_type": "code",
   "execution_count": 15,
   "metadata": {
    "collapsed": true
   },
   "outputs": [],
   "source": [
    "gen_train_op = tf.train.AdamOptimizer(learning_rate=1e-4, beta1=0.5, beta2=0.9).minimize(gen_cost, var_list=gen_params)\n",
    "disc_train_op = tf.train.AdamOptimizer(learning_rate=1e-4, beta1=0.5, beta2=0.9).minimize(disc_cost, var_list=disc_params)"
   ]
  },
  {
   "cell_type": "code",
   "execution_count": 16,
   "metadata": {
    "collapsed": true
   },
   "outputs": [],
   "source": [
    "# Dataset iterator\n",
    "def inf_train_gen():\n",
    "    while True:\n",
    "        np.random.shuffle(lines)\n",
    "        for i in range(0, len(lines)-BATCH_SIZE+1, BATCH_SIZE):\n",
    "            yield np.array(\n",
    "                [[charmap[c] for c in l] for l in lines[i:i+BATCH_SIZE]], \n",
    "                dtype='int32'\n",
    "            )"
   ]
  },
  {
   "cell_type": "code",
   "execution_count": 17,
   "metadata": {},
   "outputs": [
    {
     "name": "stdout",
     "output_type": "stream",
     "text": [
      "validation set JSD for n=1: 0.0009053959053045796\n",
      "validation set JSD for n=2: 0.015119320254753566\n",
      "validation set JSD for n=3: 0.08686910351792093\n",
      "validation set JSD for n=4: 0.2448777496067526\n"
     ]
    }
   ],
   "source": [
    "# During training we monitor JS divergence between the true & generated ngram\n",
    "# distributions for n=1,2,3,4. To get an idea of the optimal values, we\n",
    "# evaluate these statistics on a held-out set first.\n",
    "\n",
    "true_char_ngram_lms = [language_helpers.NgramLanguageModel(i+1, lines[10*BATCH_SIZE:], tokenize=False) for i in range(4)]\n",
    "validation_char_ngram_lms = [language_helpers.NgramLanguageModel(i+1, lines[:10*BATCH_SIZE], tokenize=False) for i in range(4)]\n",
    "for i in range(4):\n",
    "    print ( \"validation set JSD for n={}: {}\".format(i+1, true_char_ngram_lms[i].js_with(validation_char_ngram_lms[i])) )\n",
    "true_char_ngram_lms = [language_helpers.NgramLanguageModel(i+1, lines, tokenize=False) for i in range(4)]"
   ]
  },
  {
   "cell_type": "code",
   "execution_count": 18,
   "metadata": {},
   "outputs": [
    {
     "name": "stdout",
     "output_type": "stream",
     "text": [
      "Start\n",
      "Cost time: 20.092146817616428 Sum time: 20.092146817616428 ETA: 80.36858727046571\n",
      "ITER:10\n",
      "Cost time: 19.166597396026273 Sum time: 39.2587442136427 ETA: 58.88811632046405\n",
      "ITER:20\n",
      "Cost time: 19.229042770102794 Sum time: 58.487786983745494 ETA: 38.99185798916366\n",
      "ITER:30\n",
      "Cost time: 19.216719222000357 Sum time: 77.70450620574584 ETA: 19.426126551436454\n",
      "ITER:40\n",
      "Cost time: 19.247280223834522 Sum time: 96.95178642958037 ETA: 0.0\n",
      "ITER:50\n"
     ]
    }
   ],
   "source": [
    "with tf.Session() as session:\n",
    "\n",
    "    session.run(tf.global_variables_initializer())\n",
    "\n",
    "    def generate_samples():\n",
    "        samples = session.run(fake_inputs)\n",
    "        samples = np.argmax(samples, axis=2)\n",
    "        decoded_samples = []\n",
    "        for i in range(len(samples)):\n",
    "            decoded = []\n",
    "            for j in range(len(samples[i])):\n",
    "                decoded.append(inv_charmap[samples[i][j]])\n",
    "            decoded_samples.append(tuple(decoded))\n",
    "        return decoded_samples\n",
    "\n",
    "    gen = inf_train_gen()\n",
    "\n",
    "    sum_time = 0.\n",
    "    for iteration in range(ITERS):\n",
    "        start_time = time.time()\n",
    "        \n",
    "        if (iteration == 0):\n",
    "            now_time = time.clock()\n",
    "            print(\"[Start]\")\n",
    "\n",
    "        # Train generator\n",
    "        if iteration > 0:\n",
    "            _ = session.run(gen_train_op)\n",
    "\n",
    "        # Train critic\n",
    "        for i in range(CRITIC_ITERS):\n",
    "            _data = gen.__next__()\n",
    "            _disc_cost, _ = session.run(\n",
    "                [disc_cost, disc_train_op],\n",
    "                feed_dict={real_inputs_discrete:_data}\n",
    "            )\n",
    "\n",
    "        if iteration % 100 == 99:\n",
    "            print(\"[Iteration]:\"+str(iteration+1))\n",
    "            after_time=time.clock() - now_time\n",
    "            sum_time+=after_time\n",
    "            print( \"[Cost time]: \"+str(after_time)+\" [Sum time]: \"+str(sum_time)+\" [ETA]: \"+str( sum_time/( (iteration+1)/ITERS )-sum_time  ) )\n",
    "            now_time = time.clock()\n",
    "        \n",
    "        lib.plot.plot('time', time.time() - start_time)\n",
    "        lib.plot.plot('train disc cost', _disc_cost)\n",
    "\n",
    "        if iteration % 100 == 99:\n",
    "            #print(\"checkpintB\"+str(iteration+1))\n",
    "            samples = []\n",
    "            for i in range(10):\n",
    "                samples.extend(generate_samples())\n",
    "\n",
    "            for i in range(4):\n",
    "                lm = language_helpers.NgramLanguageModel(i+1, samples, tokenize=False)\n",
    "                lib.plot.plot('js{}'.format(i+1), lm.js_with(true_char_ngram_lms[i]))\n",
    "\n",
    "            with open('output/samples_{}.txt'.format(iteration), 'w',encoding = 'utf8') as f:\n",
    "                for s in samples:\n",
    "                    s = \"\".join(s)\n",
    "                    f.write(s + \"\\n\")\n",
    "\n",
    "        #if iteration % 100 == 99:\n",
    "            #print(iteration)\n",
    "            #lib.plot.flush()\n",
    "        \n",
    "        lib.plot.tick()\n"
   ]
  },
  {
   "cell_type": "code",
   "execution_count": null,
   "metadata": {
    "collapsed": true
   },
   "outputs": [],
   "source": []
  }
 ],
 "metadata": {
  "kernelspec": {
   "display_name": "Python 3",
   "language": "python",
   "name": "python3"
  },
  "language_info": {
   "codemirror_mode": {
    "name": "ipython",
    "version": 3
   },
   "file_extension": ".py",
   "mimetype": "text/x-python",
   "name": "python",
   "nbconvert_exporter": "python",
   "pygments_lexer": "ipython3",
   "version": "3.5.3"
  }
 },
 "nbformat": 4,
 "nbformat_minor": 2
}
